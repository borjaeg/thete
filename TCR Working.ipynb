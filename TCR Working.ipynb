{
 "cells": [
  {
   "cell_type": "code",
   "execution_count": null,
   "metadata": {
    "collapsed": true
   },
   "outputs": [],
   "source": [
    "def experiment_tcr(pattern = \".*\", to_normalize = True, dump = False):\n",
    "    \n",
    "    tcr_1 = make_scorer(total_cost_ratio, price = 1, greater_is_better=True)\n",
    "    tcr_9 = make_scorer(total_cost_ratio, price = 9, greater_is_better=True)\n",
    "    tcr_99 = make_scorer(total_cost_ratio, price = 99, greater_is_better=True)\n",
    "\n",
    "    t0 = time.time()\n",
    "    pipes, recall_avg, recall_std, precision_avg, precision_std, tcr_1_avg, tcr_9_avg, tcr_99_avg = init()\n",
    "\n",
    "    for estimator in pipes:\n",
    "        name = estimator[0]\n",
    "        if re.match(pattern, name) is not None:\n",
    "            print(\"Trying: \" + name + \" ...\")\n",
    "            for cost in costs:\n",
    "                extractor = estimator[1].steps[0][1].fit(X)\n",
    "                if \"Naive Bayes\" in name:\n",
    "                    model = estimator[1].set_params(clf__class_prior=[1/cost, (cost-1)/cost]).steps[1][1]\n",
    "                elif \"Random Forest\" in name:\n",
    "                    model = estimator[1].set_params(clf__class_weight={1:cost-1}).steps[1][1]\n",
    "                elif \"SVM\" in name:\n",
    "                    model = estimator[1].set_params(clf__class_weight={1:cost-1}).steps[1][1]\n",
    "                elif \"Baseline\" in name:\n",
    "                    model = estimator[1].steps[1][1]\n",
    "            \n",
    "                tcrs_1 = []\n",
    "                tcrs_9 = []\n",
    "                tcrs_99 = []\n",
    "                for train_index, test_index in sss:\n",
    "                    X_train, X_test = \\\n",
    "                        extractor.transform(X)[train_index], extractor.transform(X)[test_index]\n",
    "                    y_train, y_test = y[train_index], y[test_index]\n",
    "                    model.fit(X_train, y_train)\n",
    "                    tcrs_1.append(tcr_1(model, X_test, y_test))\n",
    "                    tcrs_9.append(tcr_9(model, X_test, y_test))\n",
    "                    tcrs_99.append(tcr_99(model, X_test, y_test))\n",
    "                tcr_1_avg[name].append(np.average(tcrs_1))\n",
    "                tcr_9_avg[name].append(np.average(tcrs_9))\n",
    "                tcr_99_avg[name].append(np.average(tcrs_99))\n",
    "            if dump == True:\n",
    "                write_results(name, precision_avg[name], recall_avg[name])\n",
    "                \n",
    "    t1 = time.time()\n",
    "    print()\n",
    "    print(\"Execution time: %.3f min\" % ((t1 - t0)/60))\n",
    "    \n",
    "    \n",
    "    return tcr_1_avg, tcr_9_avg, tcr_99_avg"
   ]
  },
  {
   "cell_type": "code",
   "execution_count": null,
   "metadata": {
    "collapsed": true
   },
   "outputs": [],
   "source": [
    "tcr_1_avg, tcr_9_avg, tcr_99_avg = experiment_tcr(dump = False)"
   ]
  }
 ],
 "metadata": {
  "kernelspec": {
   "display_name": "Python 3",
   "language": "python",
   "name": "python3"
  },
  "language_info": {
   "codemirror_mode": {
    "name": "ipython",
    "version": 3
   },
   "file_extension": ".py",
   "mimetype": "text/x-python",
   "name": "python",
   "nbconvert_exporter": "python",
   "pygments_lexer": "ipython3",
   "version": "3.5.1"
  }
 },
 "nbformat": 4,
 "nbformat_minor": 0
}
