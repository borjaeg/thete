{
 "cells": [
  {
   "cell_type": "markdown",
   "metadata": {},
   "source": [
    "# Integrated Pest Management Notebook"
   ]
  },
  {
   "cell_type": "markdown",
   "metadata": {},
   "source": [
    "## Introduction\n",
    "It is a broad-based approach that integrates practices for economic control of pests. IPM aims to suppress pest populations below the economic injury level. It is defined as the careful consideration of all available pest control techniques and subsequent integration of appropriate measures that discourage the development of pest populations and keep pesticides and other interventions to level that are economically justified to reduce or minimize risks to human health and the environment. IPM emphasizes the growth of a healthy crop with the least possible disruption to agro-ecosystems and encourages natural pest control mechanisms. Some sectors has encouraged the adoption of IPM pest control since the 1970s.\n",
    "\n",
    "Shortly after World War II, when synthetic insecticides became widely available, entomologists in California developed the concept of “supervised insect control”. Under this scheme, insect control was supervised by qualified entomologists and insecticide applications were based on conclusions reached from periodic monitoring of pest and natural-enemy populations. Supervised control was the base for the risen of integrated control in the 1950s.\n",
    "\n",
    "IPM extended the concept of integrated control to all classes of pests and was expected to include all tactics. Controls such as pesticides were to be applied an in integrated control, but these now had to be compatible with tactics for all these classes of pests. Other tactics, such as host-plant resistance and cultural manipulations, became part of the IPM framework.\n",
    "\n",
    "In the United States, IPM was formulated into national policy in February 1972 when President Richard Nixon directed federal agencies to take steps to advance the application of IPM in all relevant sectors. In 1979, President Jimmy Carter established an interagency IPM Coordinating Commitee to ensure development and implementation of IPM practices.\n",
    "IPM is the selection and use of pest control actions that will ensure favourable economic, ecological and social consequences and is applicable to most agricultural, public health and amenity pest management situations. The IPM process starts with monitoring, which includes inspection and identification, followed by the establishment of economic injury levels. The economic injury levels set the economic threshold level. That is the point when pest damage (and the benefits of treating pest) exceed the cost of treatment. This can also be a threshold level for determining an unacceptable level that is not tied to economic injury. Action thresholds are more common in structural pest management and economic injury levels in classic agricultural pest management. Once threshold has been crossed by the pest population action steps need to be taken to reduce and control the pest. For conventional farms IPM can reduce human and environmental exposure to hazardous chemicals, and potentially lower overall costs."
   ]
  },
  {
   "cell_type": "code",
   "execution_count": 127,
   "metadata": {
    "collapsed": false
   },
   "outputs": [
    {
     "data": {
      "text/html": [
       "\n",
       "        <iframe\n",
       "            width=\"600\"\n",
       "            height=\"400\"\n",
       "            src=\"https://www.youtube.com/embed/bH63UA3HVwI\"\n",
       "            frameborder=\"0\"\n",
       "            allowfullscreen\n",
       "        ></iframe>\n",
       "        "
      ],
      "text/plain": [
       "<IPython.lib.display.YouTubeVideo at 0x10aee6a50>"
      ]
     },
     "execution_count": 127,
     "metadata": {},
     "output_type": "execute_result"
    }
   ],
   "source": [
    "from IPython.display import YouTubeVideo\n",
    "YouTubeVideo(\"bH63UA3HVwI\", height = 400, width=600)"
   ]
  },
  {
   "cell_type": "markdown",
   "metadata": {},
   "source": [
    "# Rule Classification\n",
    "\n",
    "One of the important tasks in data mining and **machine learning** is **classification**. Given a set of examples belonging to different classes we want to construct a classification model (also called classifier) that will classify examples to the correct class. The phase of constructing the model is called **learning** or **training**. It is often nearly impossible to construct a perfect classification model that would correctlly classify all examples from the test set. Therefore we have to choose a **suboptimal classification model that best suits our needs and works best on our problem domain**."
   ]
  },
  {
   "cell_type": "markdown",
   "metadata": {},
   "source": [
    "## Cost-sensitive problems\n",
    "Besides tuning the thresholds of our classifier, there are other approaches you can take to aid with uneven clasification costs. There are many ways to include the cost information in classification algorithms. For example in naive Bayes, you could predict the class with the lowest expected cost instead of the class with the highest probability.\n",
    "\n",
    "Another way to tune classifieres is to alter the data used to train the classifier to deal with imbalanced classification tasks. This is done by either undersampling or oversampling data. **Oversample** means to duplicate examples, wheresas **undersample** means delete examples. The sampling can be done either randomply or in a predeterminated fashion. For example, one approach would be to keep all of the examples from the positive class and undersample or discard examples from the negative class. One drawback of this approach is deciding which negative examples to toss out. The examples you choose to toss out could carry valuable information that isn't contained in the remaining examples.\n",
    "\n",
    "To oversample the positive class, you could replicate the existing examples or add new points similar to the existing points. One approach is to add a data point **interpolated** between existing data points. This process can lead to **overfitting**.\n",
    "\n",
    "Most learning schemes do not perform cost-sensitive learning: They generate the same classifier no matter what costs are assigned to the different classes.\n",
    "**Simple methods for cost-sensitive learning**\n",
    "* For any classifier:\n",
    "    - Resampling of instances according to costs\n",
    "    - proportion of instances with higher weights will be increased\n",
    "* If classifier is able to handle weighted instances\n",
    "    - weighting of instances according to costs\n",
    "    - covered examples are not counted with 1, but with their weight\n",
    "* If classifier returns a score *f* or a probability *p*\n",
    "    - varying the classification threshold"
   ]
  },
  {
   "cell_type": "code",
   "execution_count": 51,
   "metadata": {
    "collapsed": false
   },
   "outputs": [],
   "source": [
    "# General imports\n",
    "%matplotlib inline\n",
    "import matplotlib.pyplot as plt\n",
    "import os\n",
    "import numpy as np\n",
    "import pandas as pd\n",
    "import seaborn as sb\n",
    "\n",
    "# Algorithms / estimators\n",
    "from sklearn.naive_bayes import GaussianNB\n",
    "from sklearn.linear_model import SGDClassifier\n",
    "\n",
    "# Metrics\n",
    "from sklearn.metrics import confusion_matrix\n",
    "from sklearn.metrics import precision_recall_curve\n",
    "from sklearn.learning_curve import learning_curve\n",
    "from sklearn.metrics import roc_curve, auc\n",
    "from sklearn.metrics import classification_report\n",
    "\n",
    "import warnings\n",
    "warnings.filterwarnings('ignore')"
   ]
  },
  {
   "cell_type": "code",
   "execution_count": 3,
   "metadata": {
    "collapsed": false
   },
   "outputs": [],
   "source": [
    "from documentModel import DocumentModel as DM\n",
    "from sklearn.feature_selection import SelectKBest\n",
    "from sklearn.feature_selection import chi2\n",
    "from sklearn.cross_validation import train_test_split\n",
    "from sklearn.externals import joblib\n",
    "\n",
    "stopWords = ['a', 'bajo', 'en', 'para','un', 'la', 'el', 'los', 'las', 'su', 'sus', 'través', 'al','con', 'más', 'muy', 'cual', 'poco', 'que']"
   ]
  },
  {
   "cell_type": "code",
   "execution_count": 4,
   "metadata": {
    "collapsed": false
   },
   "outputs": [
    {
     "name": "stdout",
     "output_type": "stream",
     "text": [
      "Transforming annotated files into training datasets...\n",
      "OK\n"
     ]
    }
   ],
   "source": [
    "print \"Transforming annotated files into training datasets...\"\n",
    "results = {}\n",
    "dm = DM()\n",
    "\n",
    "fito_dataset = dm.vectorize(0)\n",
    "X, y = fito_dataset[\"data\"], fito_dataset[\"target\"]\n",
    "over_sampled_fito_dataset = dm.vectorize(1)\n",
    "X_o , y_o = over_sampled_fito_dataset[\"data\"], over_sampled_fito_dataset[\"target\"]\n",
    "#X_iu, y_iu = dm.vectorize(2)\n",
    "\n",
    "(X_train,\n",
    " X_test,\n",
    " y_train,\n",
    " y_test) = train_test_split(X, y, train_size=0.75)\n",
    "\n",
    "\n",
    "(X_o_train,\n",
    " X_o_test,\n",
    " y_o_train,\n",
    " y_o_test) = train_test_split(X_o, y_o, train_size=0.75)\n",
    "\n",
    "\n",
    "print \"OK\""
   ]
  },
  {
   "cell_type": "markdown",
   "metadata": {},
   "source": [
    "### Testing resampling"
   ]
  },
  {
   "cell_type": "code",
   "execution_count": 6,
   "metadata": {
    "collapsed": false
   },
   "outputs": [
    {
     "name": "stdout",
     "output_type": "stream",
     "text": [
      "Normal dataset\n",
      "(386,)\n",
      "(129,)\n",
      "(386,)\n",
      "(129,)\n",
      "\n",
      "Resample dataset (Oversampling)\n",
      "(1050,)\n",
      "(350,)\n",
      "(1050,)\n",
      "(350,)\n"
     ]
    }
   ],
   "source": [
    "print \"Normal dataset\"\n",
    "print np.array(X_train).shape\n",
    "print np.array(X_test).shape\n",
    "print y_train.shape\n",
    "print y_test.shape\n",
    "print \"\\nResample dataset (Oversampling)\"\n",
    "print np.array(X_o_train).shape\n",
    "print np.array(X_o_test).shape\n",
    "print y_o_train.shape\n",
    "print y_o_test.shape"
   ]
  },
  {
   "cell_type": "markdown",
   "metadata": {},
   "source": [
    "### Natural language Visualizaiton"
   ]
  },
  {
   "cell_type": "markdown",
   "metadata": {},
   "source": [
    "### Data set"
   ]
  },
  {
   "cell_type": "code",
   "execution_count": 52,
   "metadata": {
    "collapsed": false
   },
   "outputs": [],
   "source": [
    "rule_data = pd.DataFrame({\"rule\": X_train, \"tag\": y_train})"
   ]
  },
  {
   "cell_type": "code",
   "execution_count": 53,
   "metadata": {
    "collapsed": false
   },
   "outputs": [
    {
     "data": {
      "text/html": [
       "<div>\n",
       "<table border=\"1\" class=\"dataframe\">\n",
       "  <thead>\n",
       "    <tr style=\"text-align: right;\">\n",
       "      <th></th>\n",
       "      <th>rule</th>\n",
       "      <th>tag</th>\n",
       "    </tr>\n",
       "  </thead>\n",
       "  <tbody>\n",
       "    <tr>\n",
       "      <th>0</th>\n",
       "      <td>Aplicar en espolvoreo</td>\n",
       "      <td>1</td>\n",
       "    </tr>\n",
       "    <tr>\n",
       "      <th>1</th>\n",
       "      <td>Cuando se formule para tratamientos de frutos ...</td>\n",
       "      <td>1</td>\n",
       "    </tr>\n",
       "    <tr>\n",
       "      <th>2</th>\n",
       "      <td>No aplicar aceites minerales durante los 21 dí...</td>\n",
       "      <td>0</td>\n",
       "    </tr>\n",
       "    <tr>\n",
       "      <th>3</th>\n",
       "      <td>Evitar que el producto caiga sobre las plantas...</td>\n",
       "      <td>0</td>\n",
       "    </tr>\n",
       "    <tr>\n",
       "      <th>4</th>\n",
       "      <td>No aplicar a temperaturas menores de 6 grados C</td>\n",
       "      <td>0</td>\n",
       "    </tr>\n",
       "  </tbody>\n",
       "</table>\n",
       "</div>"
      ],
      "text/plain": [
       "                                                rule  tag\n",
       "0                              Aplicar en espolvoreo    1\n",
       "1  Cuando se formule para tratamientos de frutos ...    1\n",
       "2  No aplicar aceites minerales durante los 21 dí...    0\n",
       "3  Evitar que el producto caiga sobre las plantas...    0\n",
       "4    No aplicar a temperaturas menores de 6 grados C    0"
      ]
     },
     "execution_count": 53,
     "metadata": {},
     "output_type": "execute_result"
    }
   ],
   "source": [
    "rule_data.head()"
   ]
  },
  {
   "cell_type": "code",
   "execution_count": 79,
   "metadata": {
    "collapsed": true
   },
   "outputs": [],
   "source": [
    "permissions = rule_data[rule_data[\"tag\"] == 1]\n",
    "prohibitions = rule_data[rule_data[\"tag\"] == 0]"
   ]
  },
  {
   "cell_type": "markdown",
   "metadata": {},
   "source": [
    "### Permissions"
   ]
  },
  {
   "cell_type": "code",
   "execution_count": 55,
   "metadata": {
    "collapsed": false
   },
   "outputs": [
    {
     "data": {
      "text/html": [
       "<div>\n",
       "<table border=\"1\" class=\"dataframe\">\n",
       "  <thead>\n",
       "    <tr style=\"text-align: right;\">\n",
       "      <th></th>\n",
       "      <th>rule</th>\n",
       "      <th>tag</th>\n",
       "    </tr>\n",
       "  </thead>\n",
       "  <tbody>\n",
       "    <tr>\n",
       "      <th>0</th>\n",
       "      <td>Aplicar en espolvoreo</td>\n",
       "      <td>1</td>\n",
       "    </tr>\n",
       "    <tr>\n",
       "      <th>1</th>\n",
       "      <td>Cuando se formule para tratamientos de frutos ...</td>\n",
       "      <td>1</td>\n",
       "    </tr>\n",
       "    <tr>\n",
       "      <th>5</th>\n",
       "      <td>Aplicar en pulverización normal.</td>\n",
       "      <td>1</td>\n",
       "    </tr>\n",
       "    <tr>\n",
       "      <th>6</th>\n",
       "      <td>Aplicar en pulverización normal al aire libre ...</td>\n",
       "      <td>1</td>\n",
       "    </tr>\n",
       "    <tr>\n",
       "      <th>7</th>\n",
       "      <td>Aplicar mediante riego por goteo, solo al aire...</td>\n",
       "      <td>1</td>\n",
       "    </tr>\n",
       "  </tbody>\n",
       "</table>\n",
       "</div>"
      ],
      "text/plain": [
       "                                                rule  tag\n",
       "0                              Aplicar en espolvoreo    1\n",
       "1  Cuando se formule para tratamientos de frutos ...    1\n",
       "5                   Aplicar en pulverización normal.    1\n",
       "6  Aplicar en pulverización normal al aire libre ...    1\n",
       "7  Aplicar mediante riego por goteo, solo al aire...    1"
      ]
     },
     "execution_count": 55,
     "metadata": {},
     "output_type": "execute_result"
    }
   ],
   "source": [
    "permissions.head()"
   ]
  },
  {
   "cell_type": "code",
   "execution_count": 92,
   "metadata": {
    "collapsed": false
   },
   "outputs": [
    {
     "data": {
      "image/png": "[encoded data removed]",
      "text/plain": [
       "<matplotlib.figure.Figure at 0x10ac7d2d0>"
      ]
     },
     "metadata": {},
     "output_type": "display_data"
    }
   ],
   "source": [
    "from nltk.tokenize import word_tokenize\n",
    "stopwords = [\"(\",\")\",\",\",\".\"]\n",
    "\n",
    "per = permissions.as_matrix([\"rule\"])\n",
    "\n",
    "permission_tokens = [token for sentence in per\n",
    "             for token in word_tokenize(sentence[0]) if token not in stopwords]\n",
    "\n",
    "plt.figure(figsize=(12,6))\n",
    "fdist = nltk.FreqDist(permission_tokens)\n",
    "fdist.plot(50)"
   ]
  },
  {
   "cell_type": "markdown",
   "metadata": {},
   "source": [
    "### Prohibitions"
   ]
  },
  {
   "cell_type": "code",
   "execution_count": 80,
   "metadata": {
    "collapsed": false
   },
   "outputs": [
    {
     "data": {
      "text/html": [
       "<div>\n",
       "<table border=\"1\" class=\"dataframe\">\n",
       "  <thead>\n",
       "    <tr style=\"text-align: right;\">\n",
       "      <th></th>\n",
       "      <th>rule</th>\n",
       "      <th>tag</th>\n",
       "    </tr>\n",
       "  </thead>\n",
       "  <tbody>\n",
       "    <tr>\n",
       "      <th>2</th>\n",
       "      <td>No aplicar aceites minerales durante los 21 dí...</td>\n",
       "      <td>0</td>\n",
       "    </tr>\n",
       "    <tr>\n",
       "      <th>3</th>\n",
       "      <td>Evitar que el producto caiga sobre las plantas...</td>\n",
       "      <td>0</td>\n",
       "    </tr>\n",
       "    <tr>\n",
       "      <th>4</th>\n",
       "      <td>No aplicar a temperaturas menores de 6 grados C</td>\n",
       "      <td>0</td>\n",
       "    </tr>\n",
       "    <tr>\n",
       "      <th>8</th>\n",
       "      <td>No efectuar tratamientos en días de viento y t...</td>\n",
       "      <td>0</td>\n",
       "    </tr>\n",
       "    <tr>\n",
       "      <th>12</th>\n",
       "      <td>No aplicar en cultivos cuyos frutos sean desti...</td>\n",
       "      <td>0</td>\n",
       "    </tr>\n",
       "  </tbody>\n",
       "</table>\n",
       "</div>"
      ],
      "text/plain": [
       "                                                 rule  tag\n",
       "2   No aplicar aceites minerales durante los 21 dí...    0\n",
       "3   Evitar que el producto caiga sobre las plantas...    0\n",
       "4     No aplicar a temperaturas menores de 6 grados C    0\n",
       "8   No efectuar tratamientos en días de viento y t...    0\n",
       "12  No aplicar en cultivos cuyos frutos sean desti...    0"
      ]
     },
     "execution_count": 80,
     "metadata": {},
     "output_type": "execute_result"
    }
   ],
   "source": [
    "prohibitions.head()"
   ]
  },
  {
   "cell_type": "code",
   "execution_count": 94,
   "metadata": {
    "collapsed": false
   },
   "outputs": [
    {
     "data": {
      "image/png": "[encoded data removed]",
      "text/plain": [
       "<matplotlib.figure.Figure at 0x1094dac50>"
      ]
     },
     "metadata": {},
     "output_type": "display_data"
    }
   ],
   "source": [
    "pro = prohibitions.as_matrix([\"rule\"])\n",
    "prohibition_tokens = [token for sentence in pro\n",
    "             for token in word_tokenize(sentence[0]) if token not in stopwords]\n",
    "plt.figure(figsize=(12,6))\n",
    "fdist = nltk.FreqDist(prohibition_tokens)\n",
    "fdist.plot(50)"
   ]
  },
  {
   "cell_type": "markdown",
   "metadata": {},
   "source": [
    "### POS Tagging"
   ]
  },
  {
   "cell_type": "code",
   "execution_count": 172,
   "metadata": {
    "collapsed": true
   },
   "outputs": [],
   "source": [
    "from nltk.corpus import cess_esp as cess\n",
    "from nltk import UnigramTagger as ut\n",
    "from nltk import BigramTagger as bt\n",
    "\n",
    "# Read the corpus into a list\n",
    "# each entry in the list is one sentence\n",
    "cess_sents = cess.tagged_sents()\n",
    "\n",
    "# Train the unigram tagger\n",
    "uni_tag = ut(cess_sents)"
   ]
  },
  {
   "cell_type": "code",
   "execution_count": 179,
   "metadata": {
    "collapsed": false
   },
   "outputs": [
    {
     "data": {
      "text/plain": [
       "[(u'No', u'rn'),\n",
       " (u'mezclar', u'vmn0000'),\n",
       " (u'con', u'sps00'),\n",
       " (u'aceites', None),\n",
       " (u'ni', u'cc'),\n",
       " (u'productos', u'ncmp000'),\n",
       " (u'de', u'sps00'),\n",
       " (u'reacci\\xf3n', u'ncfs000'),\n",
       " (u'alcalina,', None),\n",
       " (u'ni', u'cc'),\n",
       " (u'efectuar', u'vmn0000'),\n",
       " (u'tratamientos', u'ncmp000'),\n",
       " (u'a', u'sps00'),\n",
       " (u'temperaturas', u'ncfp000'),\n",
       " (u'demasiado', u'rg'),\n",
       " (u'elevadas', u'aq0fpp')]"
      ]
     },
     "execution_count": 179,
     "metadata": {},
     "output_type": "execute_result"
    }
   ],
   "source": [
    "uni_tag.tag(X[5].split(\" \"))"
   ]
  },
  {
   "cell_type": "code",
   "execution_count": 180,
   "metadata": {
    "collapsed": false
   },
   "outputs": [
    {
     "data": {
      "text/html": [
       "\n",
       "        <iframe\n",
       "            width=\"800\"\n",
       "            height=\"400\"\n",
       "            src=\"http://nlp.lsi.upc.edu/freeling/doc/tagsets/tagset-es.html\"\n",
       "            frameborder=\"0\"\n",
       "            allowfullscreen\n",
       "        ></iframe>\n",
       "        "
      ],
      "text/plain": [
       "<IPython.lib.display.IFrame at 0x10dbdea50>"
      ]
     },
     "execution_count": 180,
     "metadata": {},
     "output_type": "execute_result"
    }
   ],
   "source": [
    "from IPython.display import IFrame\n",
    "IFrame(\"http://nlp.lsi.upc.edu/freeling/doc/tagsets/tagset-es.html\", width = 800, height=400)"
   ]
  },
  {
   "cell_type": "markdown",
   "metadata": {},
   "source": [
    "### Grid Search"
   ]
  },
  {
   "cell_type": "code",
   "execution_count": 161,
   "metadata": {
    "collapsed": true
   },
   "outputs": [],
   "source": [
    "from sklearn.grid_search import GridSearchCV\n",
    "from sklearn.decomposition import PCA\n",
    "from sklearn.pipeline import Pipeline, FeatureUnion\n",
    "from sklearn.feature_extraction.text import CountVectorizer, TfidfTransformer\n",
    "from sklearn.feature_selection import SelectKBest, f_regression, chi2\n",
    "from sklearn.cross_validation import StratifiedKFold\n",
    "from sklearn.learning_curve import learning_curve"
   ]
  },
  {
   "cell_type": "code",
   "execution_count": 162,
   "metadata": {
    "collapsed": true
   },
   "outputs": [],
   "source": [
    "from sklearn.base import BaseEstimator\n",
    "\n",
    "class Densifier(BaseEstimator):\n",
    "    def fit(self, X, y=None):\n",
    "        pass\n",
    "    def fit_transform(self, X, y=None):\n",
    "        return self.transform(X)\n",
    "    def transform(self, X, y=None):\n",
    "        return X.toarray()  "
   ]
  },
  {
   "cell_type": "code",
   "execution_count": 163,
   "metadata": {
    "collapsed": false
   },
   "outputs": [],
   "source": [
    "from sklearn.base import BaseEstimator, TransformerMixin\n",
    "from sklearn.feature_extraction import DictVectorizer\n",
    "\n",
    "class RuleStats(BaseEstimator, TransformerMixin):\n",
    "    \"Extract features from each rule for DictVectorizer\"\n",
    "    \n",
    "    def __init__(self,  negation_flag = True):\n",
    "        self.negation_flag = negation_flag\n",
    "    \n",
    "    def fit(self, x, y=None):\n",
    "        return self\n",
    "    \n",
    "    def transform(self, sentences):\n",
    "        if self.negation_flag == True:\n",
    "            return [{'contains_no':  self.negations_present_(sentence)} \n",
    "                    for sentence in sentences]\n",
    "        else:\n",
    "            return [{'length': len(sentence)} for sentence in sentences]\n",
    "    \n",
    "    def negations_present_(self, sentence):\n",
    "        if sentence.find(\"No \") != -1:\n",
    "            return 1\n",
    "        else: return 0"
   ]
  },
  {
   "cell_type": "code",
   "execution_count": 168,
   "metadata": {
    "collapsed": true
   },
   "outputs": [],
   "source": [
    "class BiModel:\n",
    "    def __init__(self, normal_estimator, oversampled_estimator):\n",
    "        self.normal_estimator = normal_estimator\n",
    "        self.oversampled_estimator = oversampled_estimator"
   ]
  },
  {
   "cell_type": "code",
   "execution_count": 165,
   "metadata": {
    "collapsed": true
   },
   "outputs": [],
   "source": [
    "estimators = []"
   ]
  },
  {
   "cell_type": "markdown",
   "metadata": {},
   "source": [
    "# Naïve Bayes\n",
    "\n",
    "Naïve Bayes classifiers are a family of classifiers that are based on the popular Bayes' probability theorem. NB is probably one of the most elegant machine learning algorithms out there that is of practical use. They are known for creating simple yet well performing models, especially in the fields of document classification and disease prediction. This type of classifier ir linear and are know for being very efficient. The adjective **naive** come from the assumption that the features in the dataset are **mutually independent**. More exactly the sampres should be *i.i.d* (indepentend and identically distributed). One exaple of this behaviour would be coin tossing. In practice, the independende assumption is often violated byu the classifier still tends to perform correctly. Especially for **small datasets** naive Bayes classifiers can outperform the more powerful alternatives.\n",
    "\n",
    "Strong violations of the independence assumption and **non-linear classification problems** (instance based such as nearest neighbors would be better) can lead to very **poor performance**. In practice, it is always recommeded to compare different classification models on the particular dataset and consider the prediction performances as well as computational efficiency. On the other hand, it proves to be quite robust to irrelevant features, which it kindly ignores. It learns fast predicts equally so. Moreover, it does not require lots of storage.\n",
    "\n",
    "The probability model was formulated as follows\n",
    "\n",
    "$$\\text{Posterior probability} = \\cfrac{\\text{Conditional Probability X Prior Probability}}{\\text{Evidence}}$$\n",
    "\n",
    "If the prior are following a **uniform distribution**, the posterior probabilities will be entirely determined by the class-conditional probabilities and the evidence term. And since the evidence term is a constant, the decision rule will wntirely depend on the class-conditional probabilities. Eventually the **a priori knowledge** can be obtained by consulting a domain expert or by estimation from the training data.\n",
    "\n",
    "The evidence usually is constant, so we can simply ignore ir without changing the winner class. However, we don't calculate any real probabilities any more. Instead, we are estimating which class is more likely, given the evidence. NB is not so much interested in the real probabilities, but only in the information, which class is more likely."
   ]
  },
  {
   "cell_type": "code",
   "execution_count": 171,
   "metadata": {
    "collapsed": true
   },
   "outputs": [],
   "source": [
    "def show_most_informative_features(vectorizer, clf, n=20):\n",
    "    feature_names = vectorizer.get_feature_names()\n",
    "    coefs_with_fns = sorted(zip(clf.coef_[0], feature_names))\n",
    "    top = zip(coefs_with_fns[:n], coefs_with_fns[:-(n + 1):-1])\n",
    "    for (coef_1, fn_1), (coef_2, fn_2) in top:\n",
    "        print \"\\t%.4f\\t%-15s\\t\\t%.4f\\t%-15s\" % (coef_1, fn_1, coef_2, fn_2)"
   ]
  },
  {
   "cell_type": "markdown",
   "metadata": {},
   "source": [
    "## Extra: Feature Union using more semantic features"
   ]
  },
  {
   "cell_type": "code",
   "execution_count": 88,
   "metadata": {
    "collapsed": false
   },
   "outputs": [],
   "source": [
    "from sklearn.naive_bayes import MultinomialNB\n",
    "\n",
    "pipe_test = Pipeline([\n",
    "                        ('features', FeatureUnion([\n",
    "                            ('linguistics', Pipeline([\n",
    "                                ('vect', CountVectorizer()),\n",
    "                                ('tfidf', TfidfTransformer()),\n",
    "                                ])),\n",
    "                            ('rule', Pipeline([\n",
    "                                ('stats', RuleStats()),\n",
    "                                ('vect', DictVectorizer())\n",
    "                            ]))\n",
    "                    ], transformer_weights={\n",
    "                        'maths': 0.8,\n",
    "                        'rule': 0.8\n",
    "                    })),\n",
    "                    ('to_dense', Densifier()),\n",
    "                    ('select', SelectKBest(score_func = chi2)),\n",
    "                    ('clf', MultinomialNB())])\n",
    "\n",
    "param_grid = [{ 'features__linguistics__vect__ngram_range': [(1, 1), (1, 2), (1,3)],\n",
    "                'features__linguistics__tfidf__use_idf': (True, False),\n",
    "                'select__k': ['all', 10, 20 ,30],\n",
    "                'features__rule__stats__negation_flag' : (True, False),\n",
    "                'clf__fit_prior': (True, False),\n",
    "              }]\n",
    "\n",
    "\n",
    "gs_test = GridSearchCV(estimator=pipe_test,\n",
    "                 param_grid=param_grid,\n",
    "                 scoring='accuracy',\n",
    "                 cv=5,\n",
    "                 n_jobs=1)\n",
    "\n",
    "\n",
    "gs_test.fit(X_train, y_train)\n",
    "test = gs_test.best_estimator_"
   ]
  },
  {
   "cell_type": "code",
   "execution_count": 89,
   "metadata": {
    "collapsed": false
   },
   "outputs": [
    {
     "name": "stdout",
     "output_type": "stream",
     "text": [
      "Best Score: 0.917098445596\n",
      "\n",
      "Best parameters: {'select__k': 'all', 'features__linguistics__vect__ngram_range': (1, 3), 'clf__fit_prior': True, 'features__rule__stats__negation_flag': True, 'features__linguistics__tfidf__use_idf': False}\n"
     ]
    }
   ],
   "source": [
    "print(\"Best Score: {}\".format(gs_test.best_score_))\n",
    "print\n",
    "print(\"Best parameters: {}\".format(gs_test.best_params_))"
   ]
  },
  {
   "cell_type": "code",
   "execution_count": 125,
   "metadata": {
    "collapsed": false
   },
   "outputs": [
    {
     "data": {
      "text/plain": [
       "['nb_o.pkl',\n",
       " 'nb_o.pkl_01.npy',\n",
       " 'nb_o.pkl_02.npy',\n",
       " 'nb_o.pkl_03.npy',\n",
       " 'nb_o.pkl_04.npy',\n",
       " 'nb_o.pkl_05.npy',\n",
       " 'nb_o.pkl_06.npy',\n",
       " 'nb_o.pkl_07.npy',\n",
       " 'nb_o.pkl_08.npy',\n",
       " 'nb_o.pkl_09.npy']"
      ]
     },
     "execution_count": 125,
     "metadata": {},
     "output_type": "execute_result"
    }
   ],
   "source": [
    "from sklearn.naive_bayes import MultinomialNB\n",
    "\n",
    "pipe_nb = Pipeline([('vect', CountVectorizer()),\n",
    "                    ('tfidf', TfidfTransformer()),\n",
    "                    ('to_dense', Densifier()),\n",
    "                    ('select', SelectKBest()),\n",
    "                    ('clf', MultinomialNB())])\n",
    "\n",
    "#MultinomialNB(class_prior=[.1, .9]).fit(X,y).predict([1,1])\n",
    "param_grid = [{ 'vect__ngram_range': [(1, 1), (1, 2), (1,3)],\n",
    "                'tfidf__use_idf': (True, False),\n",
    "                'select__score_func': [chi2],\n",
    "                'select__k': ['all', 10, 20 ,30],\n",
    "                'clf__fit_prior': (True, False),\n",
    "              }]\n",
    "\n",
    "\n",
    "cross_validation = StratifiedKFold(y_train, n_folds=5)\n",
    "\n",
    "gs_nb = GridSearchCV(estimator=pipe_nb,\n",
    "                 param_grid=param_grid,\n",
    "                 scoring='accuracy',\n",
    "                 cv=cross_validation,\n",
    "                 n_jobs=1)\n",
    "\n",
    "cross_validation = StratifiedKFold(y_o_train, n_folds=5)\n",
    "\n",
    "gs_nb_o = GridSearchCV(estimator=pipe_nb,\n",
    "                 param_grid=param_grid,\n",
    "                 scoring='accuracy',\n",
    "                 cv=cross_validation,\n",
    "                 n_jobs=1)\n",
    "\n",
    "gs_nb.fit(X_train, y_train)\n",
    "nb = gs_nb.best_estimator_\n",
    "gs_nb_o.fit(X_o_train, y_o_train)\n",
    "nb_o = gs_nb_o.best_estimator_\n",
    "\n",
    "joblib.dump(nb, 'nb.pkl')\n",
    "joblib.dump(nb_o, 'nb_o.pkl')\n",
    "\n",
    "estimators.append(BiModel(gs_nb, gs_nb_o))"
   ]
  },
  {
   "cell_type": "code",
   "execution_count": 159,
   "metadata": {
    "collapsed": false
   },
   "outputs": [
    {
     "name": "stdout",
     "output_type": "stream",
     "text": [
      "Best Score: 0.922279792746\n",
      "\n",
      "Best parameters: {'vect__ngram_range': (1, 3), 'select__score_func': <function chi2 at 0x10908b410>, 'clf__fit_prior': True, 'select__k': 'all', 'tfidf__use_idf': True}\n",
      "\n",
      "Best Score with Over-sampling: 0.949523809524\n",
      "\n",
      "Best parameters with Over-sampling: {'vect__ngram_range': (1, 1), 'select__score_func': <function chi2 at 0x10908b410>, 'clf__fit_prior': False, 'select__k': 'all', 'tfidf__use_idf': True}\n"
     ]
    }
   ],
   "source": [
    "print(\"Best Score: {}\".format(gs_nb.best_score_))\n",
    "print\n",
    "print(\"Best parameters: {}\".format(gs_nb.best_params_))\n",
    "print\n",
    "print(\"Best Score with Over-sampling: {}\".format(gs_nb_o.best_score_))\n",
    "print\n",
    "print(\"Best parameters with Over-sampling: {}\".format(gs_nb_o.best_params_))"
   ]
  },
  {
   "cell_type": "markdown",
   "metadata": {},
   "source": [
    "### Visualizing accuracy distribution"
   ]
  },
  {
   "cell_type": "code",
   "execution_count": 160,
   "metadata": {
    "collapsed": false
   },
   "outputs": [
    {
     "data": {
      "text/plain": [
       "<matplotlib.axes._subplots.AxesSubplot at 0x10c77d490>"
      ]
     },
     "execution_count": 160,
     "metadata": {},
     "output_type": "execute_result"
    },
    {
     "data": {
      "image/png": "[encoded data removed]",
      "text/plain": [
       "<matplotlib.figure.Figure at 0x10c616910>"
      ]
     },
     "metadata": {},
     "output_type": "display_data"
    }
   ],
   "source": [
    "plt.figure(figsize=(14, 5))\n",
    "grid_visualization = []\n",
    "grid_visualization_o = []\n",
    "\n",
    "for grid_pair in gs_nb.grid_scores_:\n",
    "    grid_visualization.append(grid_pair.mean_validation_score)\n",
    "    \n",
    "for grid_pair in gs_nb_o.grid_scores_:\n",
    "    grid_visualization_o.append(grid_pair.mean_validation_score)    \n",
    "\n",
    "ax = plt.subplot(1,2,1)\n",
    "sb.plt.xlim(0.4, gs_nb.best_score_+ 0.05)\n",
    "sb.plt.title('Natural dataset', fontsize = 16)\n",
    "sb.distplot(grid_visualization)\n",
    "\n",
    "ax = plt.subplot(1,2,2)\n",
    "sb.plt.xlim(0.4, gs_nb_o.best_score_ + 0.05)\n",
    "sb.plt.title('Oversampled dataset', fontsize = 16)\n",
    "sb.distplot(grid_visualization_o)"
   ]
  },
  {
   "cell_type": "markdown",
   "metadata": {},
   "source": [
    "## Decision Trees\n",
    "\n",
    "The process of constructing a decision tree is loosely based on the concepts of **information entropy and information gain** from information theory. A decision tree is a graph that describes a model of decisions and their possible consequences. An internal node in a decision tree represents a decision, or rather a condition of a particular feature in the context of classification. It has two possible outcomes that are represented by the left and right subtrees of the node. Of course, a node in the decision tree coul also have more than two subtrees. Each leaf node represents a particular class.\n",
    "\n",
    "There are actually several algorithms that are used to construct a decision tree from some training data. Generally, the tree is constructed by splitting the set of sample values in the training data into smaller subsets based on an attribute value test. The process is repeated in each subset until splitting a given subset of sample values no longer adds internal nodes to the decision tree.\n",
    "\n",
    "Once a decision tree has been created, we can optionally perform **pruning** on the tree. Pruning is simply the process of removing any extraneous decision nodes from the tree. This can be thought as a form for the regularization of decision tree through which we prevent underfitting or overfitting of the estimated decision tree model.\n",
    "\n",
    "**J48** is an open source implementation of the **C4.5** algorithm in Java.\n",
    "\n",
    "**Pros** Computationally cheap to use, easy for humans to understand learned results (interpretability), missing values OK, can deal with irrelevant features.\n",
    "\n",
    "**Cons**: Prone to overfitting\n",
    "\n",
    "**Works with**: Numeric values and  nominal values.\n",
    "\n",
    "### Maximizing Information Gain\n",
    "We need to define an **objective function** that we want to optimize via the tree learning algorithm. In this case, the function is to maximize the **information gain** at each split. For simplicity and to reduce the combinatorial search space, most libraries (including scikit-learn) implement binary decision trees.\n",
    "\n",
    "The three impurity criteria that are commonly used in binary decision trees are **Gini index**, **entropy**, and the **classification error**.\n",
    "\n",
    "In practice both the Gini index and entropy typycally yoield very similar results and it is often not worth spending much time on evaluating trees using different impurity criteria rather than experimenting with different pruning cut-offs."
   ]
  },
  {
   "cell_type": "code",
   "execution_count": 170,
   "metadata": {
    "collapsed": false
   },
   "outputs": [],
   "source": [
    "from sklearn.tree import DecisionTreeClassifier\n",
    "\n",
    "pipe_tree = Pipeline([('vect', CountVectorizer()),\n",
    "                    ('tfidf', TfidfTransformer()),\n",
    "                    ('to_dense', Densifier()),\n",
    "                    ('select', SelectKBest(score_func=chi2)),\n",
    "                   # ('pca', PCA()),\n",
    "                    ('clf', DecisionTreeClassifier(random_state = 0))])\n",
    "\n",
    "param_grid = [{ 'vect__ngram_range': [(1, 1), (1, 2), (1,3)],\n",
    "                'tfidf__use_idf': (True, False),\n",
    "                'select__k': ['all', 10, 20 ,30],\n",
    "                #'pca__n_components': [None, 1,2,5],\n",
    "                'clf__max_depth': [3, 5, 10],\n",
    "                'clf__criterion': [\"gini\", \"entropy\"],\n",
    "              }]\n",
    "\n",
    "\n",
    "gs_dt = GridSearchCV(estimator=pipe_tree,\n",
    "                 param_grid=param_grid,\n",
    "                 scoring='accuracy',\n",
    "                 cv=5,\n",
    "                 n_jobs=1)\n",
    "\n",
    "gs_dt_o = GridSearchCV(estimator=pipe_tree,\n",
    "                 param_grid=param_grid,\n",
    "                 scoring='accuracy',\n",
    "                 cv=5,\n",
    "                 n_jobs=1)\n",
    "\n",
    "gs_dt.fit(X_train, y_train)\n",
    "gs_dt_o.fit(X_o_train, y_o_train)\n",
    "\n",
    "dt = gs_dt.best_estimator_\n",
    "joblib.dump(dt, 'dt.pkl')\n",
    "dt_o = gs_dt_o.best_estimator_\n",
    "joblib.dump(dt_o, 'dt.pkl')\n",
    "\n",
    "estimators.append(BiModel(gs_dt, gs_dt_o))"
   ]
  },
  {
   "cell_type": "code",
   "execution_count": 107,
   "metadata": {
    "collapsed": false
   },
   "outputs": [
    {
     "name": "stdout",
     "output_type": "stream",
     "text": [
      "Best Score: 0.917098445596\n",
      "\n",
      "Best parameters: {'vect__ngram_range': (1, 1), 'tfidf__use_idf': False, 'clf__criterion': 'entropy', 'clf__max_depth': 5, 'select__k': 'all'}\n",
      "\n",
      "Best Score: 0.977142857143\n",
      "\n",
      "Best parameters: {'vect__ngram_range': (1, 1), 'tfidf__use_idf': True, 'clf__criterion': 'entropy', 'clf__max_depth': 10, 'select__k': 'all'}\n"
     ]
    }
   ],
   "source": [
    "print(\"Best Score: {}\".format(gs_dt.best_score_))\n",
    "print\n",
    "print(\"Best parameters: {}\".format(gs_dt.best_params_))\n",
    "print\n",
    "print(\"Best Score: {}\".format(gs_dt_o.best_score_))\n",
    "print\n",
    "print(\"Best parameters: {}\".format(gs_dt_o.best_params_))"
   ]
  },
  {
   "cell_type": "markdown",
   "metadata": {},
   "source": [
    "### Visualizing accuracy distribution"
   ]
  },
  {
   "cell_type": "code",
   "execution_count": 108,
   "metadata": {
    "collapsed": false
   },
   "outputs": [
    {
     "data": {
      "text/plain": [
       "<matplotlib.axes._subplots.AxesSubplot at 0x10982a210>"
      ]
     },
     "execution_count": 108,
     "metadata": {},
     "output_type": "execute_result"
    },
    {
     "data": {
      "image/png": "[encoded data removed]",
      "text/plain": [
       "<matplotlib.figure.Figure at 0x10978ab50>"
      ]
     },
     "metadata": {},
     "output_type": "display_data"
    }
   ],
   "source": [
    "plt.figure(figsize=(14, 5))\n",
    "grid_visualization = []\n",
    "grid_visualization_o = []\n",
    "\n",
    "for grid_pair in gs_dt.grid_scores_:\n",
    "    grid_visualization.append(grid_pair.mean_validation_score)\n",
    "    \n",
    "for grid_pair in gs_dt_o.grid_scores_:\n",
    "    grid_visualization_o.append(grid_pair.mean_validation_score)    \n",
    "\n",
    "ax = plt.subplot(1,2,1)\n",
    "sb.plt.xlim(0.8, gs_dt.best_score_+ 0.05)\n",
    "sb.plt.title('Natural dataset', fontsize = 16)\n",
    "sb.distplot(grid_visualization)\n",
    "\n",
    "ax = plt.subplot(1,2,2)\n",
    "sb.plt.xlim(0.8, gs_dt_o.best_score_ + 0.05)\n",
    "sb.plt.title('Oversampled dataset', fontsize = 16)\n",
    "sb.distplot(grid_visualization_o)"
   ]
  },
  {
   "cell_type": "code",
   "execution_count": 117,
   "metadata": {
    "collapsed": true
   },
   "outputs": [],
   "source": [
    "results[\"dt\"] = grid_visualization"
   ]
  },
  {
   "cell_type": "markdown",
   "metadata": {},
   "source": [
    "### Extra: Visualizing interaction among metaparameters"
   ]
  },
  {
   "cell_type": "code",
   "execution_count": 156,
   "metadata": {
    "collapsed": false
   },
   "outputs": [
    {
     "name": "stdout",
     "output_type": "stream",
     "text": [
      "Best Score: 0.919689119171\n",
      "Best parameters: {'clf__max_depth': 3, 'select__k': 100}\n"
     ]
    }
   ],
   "source": [
    "from sklearn.tree import DecisionTreeClassifier\n",
    "\n",
    "pipe_tree = Pipeline([('vect', CountVectorizer()),\n",
    "                    ('tfidf', TfidfTransformer()),\n",
    "                    ('to_dense', Densifier()),\n",
    "                    ('select', SelectKBest()),\n",
    "                    ('clf', DecisionTreeClassifier(random_state = 0))])\n",
    "\n",
    "param_grid = [{ 'select__k': [10, 20 ,30, 100],\n",
    "                'clf__max_depth': [3, 5, 10],\n",
    "              }]\n",
    "\n",
    "\n",
    "gs = GridSearchCV(estimator=pipe_tree,\n",
    "                 param_grid=param_grid,\n",
    "                 scoring='accuracy',\n",
    "                 cv=5,\n",
    "                 n_jobs=1)\n",
    "\n",
    "gs.fit(X_train, y_train)\n",
    "\n",
    "print(\"Best Score: {}\".format(gs.best_score_))\n",
    "print(\"Best parameters: {}\".format(gs.best_params_))"
   ]
  },
  {
   "cell_type": "code",
   "execution_count": 157,
   "metadata": {
    "collapsed": false
   },
   "outputs": [
    {
     "data": {
      "text/plain": [
       "<matplotlib.text.Text at 0x10acf6890>"
      ]
     },
     "execution_count": 157,
     "metadata": {},
     "output_type": "execute_result"
    },
    {
     "data": {
      "image/png": "[encoded data removed]",
      "text/plain": [
       "<matplotlib.figure.Figure at 0x109f8dd10>"
      ]
     },
     "metadata": {},
     "output_type": "display_data"
    }
   ],
   "source": [
    "plt.figure(figsize=(6,6))\n",
    "grid_visualization = []\n",
    "\n",
    "for grid_pair in gs.grid_scores_:\n",
    "    grid_visualization.append(grid_pair.mean_validation_score)\n",
    "\n",
    "grid_visualization = np.array(grid_visualization)\n",
    "grid_visualization.shape = (4,3)\n",
    "sb.heatmap(grid_visualization, cmap = 'Blues')\n",
    "plt.ylabel('select__k')\n",
    "plt.xlabel('clf__max_depth')"
   ]
  },
  {
   "cell_type": "markdown",
   "metadata": {},
   "source": [
    "## Logistic regression\n",
    "\n",
    "Regression means that we try to find the best-fit set parameters. Finsing the best-fit is similar to regression, and in this method it's how we train our classifier. Optimization algorithms are used to find the parametres. Logistic regression, instead of its name, is a classification model that is very easy to implement but performs very well on linearly separable classes. It is one of the most widely used algorthms for classification in industry. \n",
    "\n",
    "The logistic regression model is also a linear model for binary classificaiton that can be extended to multiclass classification via the OvR technique. Logistic regression can be seen as a **probabilistic model**.\n",
    "\n",
    "**Pros**\n",
    "Computationally inexpensive, easy to implement, knowledge representation easy to interpret.\n",
    "\n",
    "**Cons**\n",
    "Prone to underfitting, may have low accuracy.\n",
    "\n",
    "**Works with**\n",
    "Numeric values, nominal values\n",
    "\n",
    "For the logistic regression classifier we 'll our features and multiply each one by a weight and then add them up. This result will be put into the sigmoid, and we'll get a number between 0 and 1. Anything above 0.5 we'll classify as a 1, and anything below 0.5 we'll classify as a 0. You can also think as a logistic regression as a probability estimate.\n",
    "\n",
    "### Logistic Function\n",
    "It is also known as sigmoid function due to its characteristic S-shape. It is the inverse form of the logit function. This funcion takes real number values as input and transform them to values in the range [0,1]. The output of the sigmoid function is then interpreted as the probability of particular sample belonging to class 1. There are many applications where we are not only interested in the predicted class labels, but the **class-membership probability**. Logistic regression can be used in weather forecasting and disease detection.\n",
    "\n",
    "The predicted probability can then simply be coverted into a binary outcome via quatizer (unit step function)."
   ]
  },
  {
   "cell_type": "markdown",
   "metadata": {},
   "source": [
    "$$y =\n",
    "\\left\\{\n",
    "    \\begin{array}{ll}\n",
    "        1 & \\mbox{if } \\phi (z) \\geq 0.5 \\\\\n",
    "        0 & otherwise\n",
    "    \\end{array}\n",
    "\\right.$$\n",
    "\n",
    "This is also equivalent\n",
    "\n",
    "$$y =\n",
    "\\left\\{\n",
    "\t\\begin{array}{ll}\n",
    "\t\t1  & \\mbox{if } z \\geq 0 \\\\\n",
    "\t\t0 &  otherwise\n",
    "\t\\end{array}\n",
    "\\right.$$"
   ]
  },
  {
   "cell_type": "code",
   "execution_count": 143,
   "metadata": {
    "collapsed": false
   },
   "outputs": [
    {
     "data": {
      "text/plain": [
       "['log_o.pkl',\n",
       " 'log_o.pkl_01.npy',\n",
       " 'log_o.pkl_02.npy',\n",
       " 'log_o.pkl_03.npy',\n",
       " 'log_o.pkl_04.npy',\n",
       " 'log_o.pkl_05.npy',\n",
       " 'log_o.pkl_06.npy']"
      ]
     },
     "execution_count": 143,
     "metadata": {},
     "output_type": "execute_result"
    }
   ],
   "source": [
    "from sklearn.linear_model import LogisticRegression\n",
    "\n",
    "pipe_log = Pipeline([('vect', CountVectorizer()),\n",
    "                    ('tfidf', TfidfTransformer()),\n",
    "                    ('to_dense', Densifier()),\n",
    "                    ('select', SelectKBest()),\n",
    "                    #('pca', PCA()),\n",
    "                    ('clf', LogisticRegression(random_state = 0))])\n",
    "\n",
    "param_range = [1, 20, 50, 100]\n",
    "param_grid = [{ 'vect__ngram_range': [(1, 1), (1, 2), (1,3)],\n",
    "                'tfidf__use_idf': (True, False),\n",
    "                'select__score_func': [chi2],\n",
    "                'select__k': [10, 20 ,30],\n",
    "                #'pca__n_components': [None, 1,2,5],\n",
    "                'clf__C': param_range\n",
    "              }]\n",
    "\n",
    "\n",
    "gs_log = GridSearchCV(estimator=pipe_log,\n",
    "                 param_grid=param_grid,\n",
    "                 scoring='accuracy',\n",
    "                 cv=5,\n",
    "                 n_jobs=1)\n",
    "\n",
    "\n",
    "gs_log_o = GridSearchCV(estimator=pipe_log,\n",
    "                 param_grid=param_grid,\n",
    "                 scoring='accuracy',\n",
    "                 cv=5,\n",
    "                 n_jobs=1)\n",
    "\n",
    "gs_log.fit(X_train, y_train)\n",
    "gs_log_o.fit(X_o_train, y_o_train)\n",
    "\n",
    "log = gs_log.best_estimator_\n",
    "joblib.dump(log, 'log.pkl')\n",
    "log_o = gs_log_o.best_estimator_\n",
    "joblib.dump(log_o, 'log_o.pkl')"
   ]
  },
  {
   "cell_type": "code",
   "execution_count": 144,
   "metadata": {
    "collapsed": false
   },
   "outputs": [
    {
     "name": "stdout",
     "output_type": "stream",
     "text": [
      "Best Score: 0.911917098446\n",
      "\n",
      "Best parameters: {'vect__ngram_range': (1, 1), 'select__k': 30, 'select__score_func': <function chi2 at 0x10908b410>, 'clf__C': 50, 'tfidf__use_idf': False}\n",
      "Best Score: 0.922857142857\n",
      "\n",
      "Best parameters: {'vect__ngram_range': (1, 2), 'select__k': 30, 'select__score_func': <function chi2 at 0x10908b410>, 'clf__C': 100, 'tfidf__use_idf': False}\n"
     ]
    }
   ],
   "source": [
    "print(\"Best Score: {}\".format(gs_log.best_score_))\n",
    "print\n",
    "print(\"Best parameters: {}\".format(gs_log.best_params_))\n",
    "print(\"Best Score: {}\".format(gs_log_o.best_score_))\n",
    "print\n",
    "print(\"Best parameters: {}\".format(gs_log_o.best_params_))"
   ]
  },
  {
   "cell_type": "markdown",
   "metadata": {},
   "source": [
    "### Visualizing accuracy distribution"
   ]
  },
  {
   "cell_type": "code",
   "execution_count": 154,
   "metadata": {
    "collapsed": false
   },
   "outputs": [
    {
     "data": {
      "text/plain": [
       "<matplotlib.axes._subplots.AxesSubplot at 0x10c654e90>"
      ]
     },
     "execution_count": 154,
     "metadata": {},
     "output_type": "execute_result"
    },
    {
     "data": {
      "image/png": "[encoded data removed]",
      "text/plain": [
       "<matplotlib.figure.Figure at 0x10b7732d0>"
      ]
     },
     "metadata": {},
     "output_type": "display_data"
    }
   ],
   "source": [
    "plt.figure(figsize=(14, 5))\n",
    "grid_visualization = []\n",
    "grid_visualization_o = []\n",
    "\n",
    "for grid_pair in gs_log.grid_scores_:\n",
    "    grid_visualization.append(grid_pair.mean_validation_score)\n",
    "    \n",
    "for grid_pair in gs_log_o.grid_scores_:\n",
    "    grid_visualization_o.append(grid_pair.mean_validation_score)    \n",
    "\n",
    "ax = plt.subplot(1,2,1)\n",
    "sb.plt.xlim(0.8, gs_log.best_score_+ 0.05)\n",
    "sb.plt.title('Oversampled dataset, %d experiments,\\n Average:%.3f\\tStd:%.3f' % \n",
    "             (len(grid_visualization), np.mean(grid_visualization),\n",
    "                         np.std(grid_visualization)), fontsize = 16)\n",
    "sb.distplot(grid_visualization)\n",
    "\n",
    "ax = plt.subplot(1,2,2)\n",
    "sb.plt.xlim(0.8, gs_log_o.best_score_ + 0.05)\n",
    "sb.plt.title('Oversampled dataset, %d experiments,\\n Average:%.3f\\tStd:%.3f' % \n",
    "             (len(grid_visualization_o), np.mean(grid_visualization_o),\n",
    "                         np.std(grid_visualization_o)), fontsize = 16)\n",
    "sb.distplot(grid_visualization_o)"
   ]
  },
  {
   "cell_type": "code",
   "execution_count": 114,
   "metadata": {
    "collapsed": true
   },
   "outputs": [],
   "source": [
    "results[\"log\"] = grid_visualization"
   ]
  },
  {
   "cell_type": "markdown",
   "metadata": {},
   "source": [
    "## Neural Networks\n",
    "\n",
    "Sometimes it's impossible to model the dependent variable Y as a linear equation of the independent variable X. We could model the dependent variable Y to be a high order polynomial equation of the dependent variable X, thus converting the problem into the standard form of linear regressions.\n",
    "\n",
    "It can also be seing that calculating the weights or coefficients of all the terms in a polynomial function using gradiend descent has a time complexity of O(n^2), where n is the numer of features in the training data. Similarly, the algorithmic complexity of calculating the coefficients of all the terms in a third-order polynomial equation is O(n^3). It's apparent that the time complexity of gradient descent increases geomtrically with the number of features of the model. Thus, gradient descent on its own is not efficient enough yo model nonlinear regression models with a large number of features.\n",
    "\n",
    "ANNs, on the other hand, are very efficient at modeling nonlinear regression models of data with a high number of features. ANNs are modeled form the behavior of the central nervous system of organisms. The brain processes information and generates electric signals that are transported thorugh the network of neural fibers to the various organs of the organism. **The actual processing of sensoty signals, however, is performed by several complex combinations of these neurons**. Of course, each neuron is capable of preocessing an exremely small portion og the information preocessed by the brain.\n",
    "\n",
    "The dendrites are used to receive signals from other neuros and can be thought of as the input to the neuron. Similarly, the axon the the neuron is analougous to the output of the neuron. The neuron can thus be mathematically represented as a function that processes several inputs and produces a single output. The interconnecting space between two neurons is called a **synapse**.\n",
    "\n",
    "**Perceptron** can be used on its own and is effective enough to estimate supervised machine learning models such as **linear regression** and **logistic regression**. However, complex nonlinear data can be better modeled with several interconnected perceptrons. The **problem** is that it never converges if the classes are not perfectly linearly separable. Although it's possible to change the learning rate and increase the number of epochs, the perceptron will never converge.\n",
    "\n",
    "ANNs can be braoadly classified into **feed-forward neural networks** and **recurrent neural networks**. The difference between these two types of ANNs is that in feed-forward neural networks, the conections between nodes ot the ANN do not form a directed cycle as opposed yo recurrent neural networks where the node interconnections do form a directed cycle. Thus, in feed-forward neural networks, each node in a given layer of the ANN receives input only from the nodes in the immediate previous layer of the ANN."
   ]
  },
  {
   "cell_type": "code",
   "execution_count": 111,
   "metadata": {
    "collapsed": false
   },
   "outputs": [
    {
     "name": "stdout",
     "output_type": "stream",
     "text": [
      "Best Score: 0.870466321244\n",
      "\n",
      "Best parameters: {'vect__ngram_range': (1, 1), 'tfidf__use_idf': False, 'pca__n_components': 5, 'select__score_func': <function chi2 at 0x108e7a410>, 'select__k': 30}\n"
     ]
    },
    {
     "data": {
      "text/plain": [
       "['ann.pkl',\n",
       " 'ann.pkl_01.npy',\n",
       " 'ann.pkl_02.npy',\n",
       " 'ann.pkl_03.npy',\n",
       " 'ann.pkl_04.npy',\n",
       " 'ann.pkl_05.npy',\n",
       " 'ann.pkl_06.npy',\n",
       " 'ann.pkl_07.npy',\n",
       " 'ann.pkl_08.npy',\n",
       " 'ann.pkl_09.npy',\n",
       " 'ann.pkl_10.npy']"
      ]
     },
     "execution_count": 111,
     "metadata": {},
     "output_type": "execute_result"
    }
   ],
   "source": [
    "from sklearn.linear_model import Perceptron\n",
    "\n",
    "pipe_ann = Pipeline([('vect', CountVectorizer()),\n",
    "                    ('tfidf', TfidfTransformer()),\n",
    "                    ('to_dense', Densifier()),\n",
    "                    ('select', SelectKBest()),\n",
    "                    ('pca', PCA()),\n",
    "                    ('clf', Perceptron(random_state=1))])\n",
    "\n",
    "param_grid = [{ 'vect__ngram_range': [(1, 1), (1, 2), (1,3)],\n",
    "                'tfidf__use_idf': (True, False),\n",
    "                'select__score_func': [chi2],\n",
    "                'select__k': [10, 20 ,30],\n",
    "                'pca__n_components': [None, 1,2,5],\n",
    "                #'clf__C': param_range\n",
    "              }]\n",
    "\n",
    "\n",
    "gs_ann = GridSearchCV(estimator=pipe_ann,\n",
    "                 param_grid=param_grid,\n",
    "                 scoring='accuracy',\n",
    "                 cv=5,\n",
    "                 n_jobs=1)\n",
    "\n",
    "gs_ann.fit(X_train, y_train)\n",
    "\n",
    "print(\"Best Score: {}\".format(gs_ann.best_score_))\n",
    "print\n",
    "print(\"Best parameters: {}\".format(gs_ann.best_params_))\n",
    "\n",
    "ann = gs_ann.best_estimator_\n",
    "joblib.dump(ann, 'ann.pkl')"
   ]
  },
  {
   "cell_type": "markdown",
   "metadata": {},
   "source": [
    "### Visualizing accuracy distribution"
   ]
  },
  {
   "cell_type": "code",
   "execution_count": 114,
   "metadata": {
    "collapsed": false
   },
   "outputs": [
    {
     "data": {
      "text/plain": [
       "<matplotlib.axes._subplots.AxesSubplot at 0x109c0f3d0>"
      ]
     },
     "execution_count": 114,
     "metadata": {},
     "output_type": "execute_result"
    },
    {
     "data": {
      "image/png": "[encoded data removed]",
      "text/plain": [
       "<matplotlib.figure.Figure at 0x109c0f350>"
      ]
     },
     "metadata": {},
     "output_type": "display_data"
    }
   ],
   "source": [
    "plt.figure(figsize=(7, 5))\n",
    "grid_visualization = []\n",
    "\n",
    "for grid_pair in gs_ann.grid_scores_:\n",
    "    grid_visualization.append(grid_pair.mean_validation_score)\n",
    "\n",
    "sb.plt.ylim(0,15)\n",
    "sb.plt.xlim(0.5, gs_ann.best_score_ + 0.05)    \n",
    "sb.distplot(grid_visualization)"
   ]
  },
  {
   "cell_type": "code",
   "execution_count": 123,
   "metadata": {
    "collapsed": true
   },
   "outputs": [],
   "source": [
    "results[\"ann\"] = grid_visualization"
   ]
  },
  {
   "cell_type": "markdown",
   "metadata": {},
   "source": [
    "## Support Vector Machines\n",
    "\n",
    "It is considered to be the best stock (not modified) classifier. This means you can take the classifier in its basic form and run it on the data, and the results will have low error rates. SVMs are supervised learning models fot both regression and classification. SVMs find applications in text mining, chemical classification, and image and handwriteing recognition. In the simples form, a SVM separates and predicts two classes of data by estimating the optimal vector plane or hyperplane between these two classes represented in vector space. \n",
    "\n",
    "A basic SVM is a non-probabilistic binary classifier that uses linear classification. SVMs can also be used to perform nonlinear classification over several classes. SVM often have a good generalization performance and also implement a kind of automatic complexity control to avoid overfitting. Hence SVMs are also called **large amrgin classifiers**.\n",
    "\n",
    "Another interesting fact about SVM is that they scale very well with the number of features being modeled and thus, SVMs are often used in machine learning problems that deal with a **large number of features**.\n",
    "\n",
    "**Pros**\n",
    "Low generalization error, computationally inexpensivem easy to repeat results\n",
    "\n",
    "**Cons**\n",
    "Sensitive to tuning parameters and kernel choice; natively only handles binary classifivation.\n",
    "\n",
    "**Works with**\n",
    "Numeric values, nominal values\n",
    "\n",
    "### Separating data with the maximum margin\n",
    "\n",
    "We need an **hyperplane** to separate the data. The hyperplane is the decision boundary. We'd like to find the point closest to the separating line as possible. This is known as **margin**. We want to have the greatest possible margin, because if we made a mistake trained our classifier on limited data, we'd like to be as robust as possible. SVM try to maximizae the maring by solving a quadratic optimization problem. The SMO algorithm allows tast training of SVMs by optimizing only two alphas at a time. \n",
    "\n",
    "The points closest to the separating hyperplane are known as **support vectors**. Now tha we know that we're trying to maximize the distance from the separating line to suppor vectors, we need to finde a way to optimize the problem.\n",
    "\n",
    "What happens if data is not linearly separable? We 're going to use something called a **kernel** to transform data into a form that's easily understood by the classifier. This can be called as *mapping from one feature space to another feature space*. Usually, his mapping goes from a lower dimensional feature space to a higher-dimensional space. This mapping is done by the kernel. After making the substitution, we can go about solving this linear problem in high-dimensional space, which is equivalent to solving a nonlinear problem in low-dimensional space. Replacing the inner product with a kernel is known as the *kernel trick of kernel substitution*. The *radial-bias* function is a popular kernel that measures the distance between two vectors.\n",
    "\n",
    "SVM are a **binary classifier** and additional methids can be extended to classification of classes greater than two. The performance of an SVM is also sensitive to classification parameters and parameters of the kernel used."
   ]
  },
  {
   "cell_type": "code",
   "execution_count": 115,
   "metadata": {
    "collapsed": false
   },
   "outputs": [
    {
     "name": "stdout",
     "output_type": "stream",
     "text": [
      "Best Score: 0.90414507772\n",
      "\n",
      "Best parameters: {'vect__ngram_range': (1, 1), 'pca__n_components': None, 'select__k': 30, 'select__score_func': <function chi2 at 0x108e7a410>, 'tfidf__use_idf': False, 'clf__kernel': 'linear'}\n"
     ]
    },
    {
     "data": {
      "text/plain": [
       "['svm.pkl',\n",
       " 'svm.pkl_01.npy',\n",
       " 'svm.pkl_02.npy',\n",
       " 'svm.pkl_03.npy',\n",
       " 'svm.pkl_04.npy',\n",
       " 'svm.pkl_05.npy',\n",
       " 'svm.pkl_06.npy',\n",
       " 'svm.pkl_07.npy',\n",
       " 'svm.pkl_08.npy',\n",
       " 'svm.pkl_09.npy',\n",
       " 'svm.pkl_10.npy',\n",
       " 'svm.pkl_11.npy',\n",
       " 'svm.pkl_12.npy',\n",
       " 'svm.pkl_13.npy',\n",
       " 'svm.pkl_14.npy',\n",
       " 'svm.pkl_15.npy',\n",
       " 'svm.pkl_16.npy',\n",
       " 'svm.pkl_17.npy']"
      ]
     },
     "execution_count": 115,
     "metadata": {},
     "output_type": "execute_result"
    }
   ],
   "source": [
    "from sklearn.svm import SVC\n",
    "\n",
    "pipe_svc = Pipeline([('vect', CountVectorizer()),\n",
    "                    ('tfidf', TfidfTransformer()),\n",
    "                    ('to_dense', Densifier()),\n",
    "                    ('select', SelectKBest()),\n",
    "                    ('pca', PCA()),\n",
    "                    ('clf', SVC(random_state=1, probability=True))])\n",
    "\n",
    "param_range = [0.0001, 0.001, 0.01, 0.01, 1.0, 10.0, 100.0, 1000.0]\n",
    "param_grid = [{ 'vect__ngram_range': [(1, 1), (1, 2), (1,3)],\n",
    "                'tfidf__use_idf': (True, False),\n",
    "                'select__score_func': [chi2],\n",
    "                'select__k': [10, 20 ,30],\n",
    "                'pca__n_components': [None, 1,2,5],\n",
    "                #'clf__C': param_range,\n",
    "                'clf__kernel': ['linear', 'rbf']\n",
    "              }]\n",
    "\n",
    "\n",
    "gs_svm = GridSearchCV(estimator=pipe_svc,\n",
    "                 param_grid=param_grid,\n",
    "                 scoring='accuracy',\n",
    "                 cv=5,\n",
    "                 n_jobs=1)\n",
    "\n",
    "gs_svm.fit(X_train, y_train)\n",
    "\n",
    "print(\"Best Score: {}\".format(gs_svm.best_score_))\n",
    "print\n",
    "print(\"Best parameters: {}\".format(gs_svm.best_params_))\n",
    "\n",
    "svm = gs_svm.best_estimator_\n",
    "joblib.dump(svm, 'svm.pkl')"
   ]
  },
  {
   "cell_type": "markdown",
   "metadata": {},
   "source": [
    "### Visualizing accuracy distribution"
   ]
  },
  {
   "cell_type": "code",
   "execution_count": 118,
   "metadata": {
    "collapsed": false
   },
   "outputs": [
    {
     "data": {
      "text/plain": [
       "<matplotlib.axes._subplots.AxesSubplot at 0x10c697b50>"
      ]
     },
     "execution_count": 118,
     "metadata": {},
     "output_type": "execute_result"
    },
    {
     "data": {
      "image/png": "[encoded data removed]",
      "text/plain": [
       "<matplotlib.figure.Figure at 0x10c697b10>"
      ]
     },
     "metadata": {},
     "output_type": "display_data"
    }
   ],
   "source": [
    "plt.figure(figsize=(7, 5))\n",
    "grid_visualization = []\n",
    "\n",
    "for grid_pair in gs_svm.grid_scores_:\n",
    "    grid_visualization.append(grid_pair.mean_validation_score)\n",
    "\n",
    "sb.plt.ylim(0,10)\n",
    "sb.plt.xlim(0.60, gs_svm.best_score_ + 0.05)    \n",
    "sb.distplot(grid_visualization)"
   ]
  },
  {
   "cell_type": "code",
   "execution_count": 126,
   "metadata": {
    "collapsed": true
   },
   "outputs": [],
   "source": [
    "results[\"svm\"] = grid_visualization"
   ]
  },
  {
   "cell_type": "markdown",
   "metadata": {},
   "source": [
    "## Nearest Neighbors\n",
    "\n",
    "The principle behind nearest neighbor is to find a predefined number of training samples closest in distance to the new data, and predict its label. The number of samples can be a user-defined-constant, or vary in the local density points (radius-based neighbor learning). This distance can be any metric, although standard Euclidean distance is the most popular choice. Neighbors-based methods are known as non-generalizing machine learning methods, since they don't create a model, but remember the training set. Neighbors-based classification is a type of instance-based learning or non-generalizing learning: it doesn't tries to construct a model, but simply stores instances of the training data. Classification is computed from a single majority vote of the nearest neighbors of each point.\n",
    "\n",
    "Despite its simplicity, nearest neighbors has been successfull in a large number of **classification and regression problems**. Being a non-parametric mehod, it is often **successful in classification situations where the decision boundary is very irregular**.\n"
   ]
  },
  {
   "cell_type": "code",
   "execution_count": 119,
   "metadata": {
    "collapsed": false
   },
   "outputs": [
    {
     "name": "stdout",
     "output_type": "stream",
     "text": [
      "Best Score: 0.911917098446\n",
      "\n",
      "Best parameters: {'vect__ngram_range': (1, 1), 'tfidf__use_idf': True, 'pca__n_components': None, 'select__k': 30, 'clf__n_neighbors': 1}\n"
     ]
    },
    {
     "data": {
      "text/plain": [
       "['knn.pkl',\n",
       " 'knn.pkl_01.npy',\n",
       " 'knn.pkl_02.npy',\n",
       " 'knn.pkl_03.npy',\n",
       " 'knn.pkl_04.npy',\n",
       " 'knn.pkl_05.npy',\n",
       " 'knn.pkl_06.npy',\n",
       " 'knn.pkl_07.npy',\n",
       " 'knn.pkl_08.npy',\n",
       " 'knn.pkl_09.npy',\n",
       " 'knn.pkl_10.npy',\n",
       " 'knn.pkl_11.npy',\n",
       " 'knn.pkl_12.npy',\n",
       " 'knn.pkl_13.npy',\n",
       " 'knn.pkl_14.npy',\n",
       " 'knn.pkl_15.npy',\n",
       " 'knn.pkl_16.npy',\n",
       " 'knn.pkl_17.npy']"
      ]
     },
     "execution_count": 119,
     "metadata": {},
     "output_type": "execute_result"
    }
   ],
   "source": [
    "from sklearn.neighbors import KNeighborsClassifier\n",
    "\n",
    "pipe_knn = Pipeline([('vect', CountVectorizer()),\n",
    "                    ('tfidf', TfidfTransformer()),\n",
    "                    ('to_dense', Densifier()),\n",
    "                    ('select', SelectKBest(score_func=chi2)),\n",
    "                    ('pca', PCA()),\n",
    "                    ('clf', KNeighborsClassifier())])\n",
    "\n",
    "param_grid = [{ 'vect__ngram_range': [(1, 1), (1, 2), (1,3)],\n",
    "                'tfidf__use_idf': (True, False),\n",
    "                #'select__score_func': [chi2],\n",
    "                'select__k': [10, 20 ,30],\n",
    "                'pca__n_components': [None, 1,2,5],\n",
    "                'clf__n_neighbors': [1, 5, 10, 20]\n",
    "              }]\n",
    "\n",
    "\n",
    "gs_knn = GridSearchCV(estimator=pipe_knn,\n",
    "                 param_grid=param_grid,\n",
    "                 scoring='accuracy',\n",
    "                 cv=5,\n",
    "                 n_jobs=1)\n",
    "\n",
    "gs_knn.fit(X_train, y_train)\n",
    "\n",
    "print(\"Best Score: {}\".format(gs_knn.best_score_))\n",
    "print\n",
    "print(\"Best parameters: {}\".format(gs_knn.best_params_))\n",
    "\n",
    "knn = gs_knn.best_estimator_\n",
    "joblib.dump(knn, 'knn.pkl')"
   ]
  },
  {
   "cell_type": "code",
   "execution_count": 120,
   "metadata": {
    "collapsed": false
   },
   "outputs": [
    {
     "data": {
      "text/plain": [
       "<matplotlib.axes._subplots.AxesSubplot at 0x10c7d9e50>"
      ]
     },
     "execution_count": 120,
     "metadata": {},
     "output_type": "execute_result"
    },
    {
     "data": {
      "image/png": "[encoded data removed]",
      "text/plain": [
       "<matplotlib.figure.Figure at 0x10c76f5d0>"
      ]
     },
     "metadata": {},
     "output_type": "display_data"
    }
   ],
   "source": [
    "plt.figure(figsize=(7, 5))\n",
    "grid_visualization = []\n",
    "\n",
    "for grid_pair in gs_knn.grid_scores_:\n",
    "    grid_visualization.append(grid_pair.mean_validation_score)\n",
    "\n",
    "sb.plt.ylim(0,45)\n",
    "sb.plt.xlim(0.62, gs_knn.best_score_ + 0.05)    \n",
    "sb.distplot(grid_visualization)"
   ]
  },
  {
   "cell_type": "code",
   "execution_count": 131,
   "metadata": {
    "collapsed": true
   },
   "outputs": [],
   "source": [
    "results[\"knn\"] =  grid_visualization"
   ]
  },
  {
   "cell_type": "markdown",
   "metadata": {},
   "source": [
    "## Bagging\n",
    "Bootstrap aggregating, which is known as bagging, is a technique where the data is trak from the original dataset S times to make S new datasets. The datasets are the same size as the original. Each dataset is built by randomly selecting an example from the original with replacement. It means, yo can select the same example more than once.\n",
    "\n",
    "After the S datasets are built, a learning algorithm is applied to each one individually. When you'd like to classify a new piece of data, you'd apply our S classifiers to the new piece of data and take a majority vote. There are more advanced methods of bagging such as **random forests**. \n",
    "\n",
    "### Random Forest classifiers\n",
    "They work around that overfitting limitation by creating a whole bunch of decision trees (hence\"forest\") - each trained on random subsets of training samples (drawn with replacement) and featuers (drawn without replacement) - and have the decision trees work together to make a more accurate classification.\n",
    "\n",
    "Random forests excels when there's hundreds of possible features to look at."
   ]
  },
  {
   "cell_type": "code",
   "execution_count": 121,
   "metadata": {
    "collapsed": false
   },
   "outputs": [
    {
     "name": "stdout",
     "output_type": "stream",
     "text": [
      "Best Score: 0.906735751295\n",
      "\n",
      "Best parameters: {'vect__ngram_range': (1, 1), 'tfidf__use_idf': True, 'clf__criterion': 'gini', 'select__k': 30, 'clf__n_estimators': 25}\n"
     ]
    },
    {
     "data": {
      "text/plain": [
       "['rfc.pkl',\n",
       " 'rfc.pkl_01.npy',\n",
       " 'rfc.pkl_02.npy',\n",
       " 'rfc.pkl_03.npy',\n",
       " 'rfc.pkl_04.npy',\n",
       " 'rfc.pkl_05.npy',\n",
       " 'rfc.pkl_06.npy',\n",
       " 'rfc.pkl_07.npy',\n",
       " 'rfc.pkl_08.npy',\n",
       " 'rfc.pkl_09.npy',\n",
       " 'rfc.pkl_10.npy',\n",
       " 'rfc.pkl_11.npy',\n",
       " 'rfc.pkl_12.npy',\n",
       " 'rfc.pkl_13.npy',\n",
       " 'rfc.pkl_14.npy',\n",
       " 'rfc.pkl_15.npy',\n",
       " 'rfc.pkl_16.npy',\n",
       " 'rfc.pkl_17.npy',\n",
       " 'rfc.pkl_18.npy',\n",
       " 'rfc.pkl_19.npy',\n",
       " 'rfc.pkl_20.npy',\n",
       " 'rfc.pkl_21.npy',\n",
       " 'rfc.pkl_22.npy',\n",
       " 'rfc.pkl_23.npy',\n",
       " 'rfc.pkl_24.npy',\n",
       " 'rfc.pkl_25.npy',\n",
       " 'rfc.pkl_26.npy',\n",
       " 'rfc.pkl_27.npy',\n",
       " 'rfc.pkl_28.npy',\n",
       " 'rfc.pkl_29.npy',\n",
       " 'rfc.pkl_30.npy',\n",
       " 'rfc.pkl_31.npy',\n",
       " 'rfc.pkl_32.npy',\n",
       " 'rfc.pkl_33.npy',\n",
       " 'rfc.pkl_34.npy',\n",
       " 'rfc.pkl_35.npy',\n",
       " 'rfc.pkl_36.npy',\n",
       " 'rfc.pkl_37.npy',\n",
       " 'rfc.pkl_38.npy',\n",
       " 'rfc.pkl_39.npy',\n",
       " 'rfc.pkl_40.npy',\n",
       " 'rfc.pkl_41.npy',\n",
       " 'rfc.pkl_42.npy',\n",
       " 'rfc.pkl_43.npy',\n",
       " 'rfc.pkl_44.npy',\n",
       " 'rfc.pkl_45.npy',\n",
       " 'rfc.pkl_46.npy',\n",
       " 'rfc.pkl_47.npy',\n",
       " 'rfc.pkl_48.npy',\n",
       " 'rfc.pkl_49.npy',\n",
       " 'rfc.pkl_50.npy',\n",
       " 'rfc.pkl_51.npy',\n",
       " 'rfc.pkl_52.npy',\n",
       " 'rfc.pkl_53.npy',\n",
       " 'rfc.pkl_54.npy',\n",
       " 'rfc.pkl_55.npy',\n",
       " 'rfc.pkl_56.npy',\n",
       " 'rfc.pkl_57.npy',\n",
       " 'rfc.pkl_58.npy',\n",
       " 'rfc.pkl_59.npy',\n",
       " 'rfc.pkl_60.npy',\n",
       " 'rfc.pkl_61.npy',\n",
       " 'rfc.pkl_62.npy',\n",
       " 'rfc.pkl_63.npy',\n",
       " 'rfc.pkl_64.npy',\n",
       " 'rfc.pkl_65.npy',\n",
       " 'rfc.pkl_66.npy',\n",
       " 'rfc.pkl_67.npy',\n",
       " 'rfc.pkl_68.npy',\n",
       " 'rfc.pkl_69.npy',\n",
       " 'rfc.pkl_70.npy',\n",
       " 'rfc.pkl_71.npy',\n",
       " 'rfc.pkl_72.npy',\n",
       " 'rfc.pkl_73.npy',\n",
       " 'rfc.pkl_74.npy',\n",
       " 'rfc.pkl_75.npy',\n",
       " 'rfc.pkl_76.npy',\n",
       " 'rfc.pkl_77.npy',\n",
       " 'rfc.pkl_78.npy',\n",
       " 'rfc.pkl_79.npy',\n",
       " 'rfc.pkl_80.npy',\n",
       " 'rfc.pkl_81.npy',\n",
       " 'rfc.pkl_82.npy',\n",
       " 'rfc.pkl_83.npy',\n",
       " 'rfc.pkl_84.npy',\n",
       " 'rfc.pkl_85.npy',\n",
       " 'rfc.pkl_86.npy',\n",
       " 'rfc.pkl_87.npy',\n",
       " 'rfc.pkl_88.npy',\n",
       " 'rfc.pkl_89.npy',\n",
       " 'rfc.pkl_90.npy',\n",
       " 'rfc.pkl_91.npy',\n",
       " 'rfc.pkl_92.npy',\n",
       " 'rfc.pkl_93.npy',\n",
       " 'rfc.pkl_94.npy',\n",
       " 'rfc.pkl_95.npy',\n",
       " 'rfc.pkl_96.npy',\n",
       " 'rfc.pkl_97.npy',\n",
       " 'rfc.pkl_98.npy',\n",
       " 'rfc.pkl_99.npy',\n",
       " 'rfc.pkl_100.npy',\n",
       " 'rfc.pkl_101.npy',\n",
       " 'rfc.pkl_102.npy',\n",
       " 'rfc.pkl_103.npy',\n",
       " 'rfc.pkl_104.npy',\n",
       " 'rfc.pkl_105.npy',\n",
       " 'rfc.pkl_106.npy',\n",
       " 'rfc.pkl_107.npy',\n",
       " 'rfc.pkl_108.npy',\n",
       " 'rfc.pkl_109.npy']"
      ]
     },
     "execution_count": 121,
     "metadata": {},
     "output_type": "execute_result"
    }
   ],
   "source": [
    "from sklearn.ensemble import RandomForestClassifier\n",
    "from sklearn.cross_validation import StratifiedKFold\n",
    "\n",
    "pipe_rfc = Pipeline([('vect', CountVectorizer()),\n",
    "                    ('tfidf', TfidfTransformer()),\n",
    "                    ('to_dense', Densifier()),\n",
    "                    ('select', SelectKBest(score_func=chi2)),\n",
    "                    ('pca', PCA()),\n",
    "                    ('clf', RandomForestClassifier())])\n",
    "\n",
    "param_grid = [{ 'vect__ngram_range': [(1, 1), (1, 2), (1,3)],\n",
    "                'tfidf__use_idf': (True, False),\n",
    "#                'select__score_func': [chi2],\n",
    "                'select__k': [15, 20 ,30],\n",
    "                #'pca__n_components': [None, 5, 10],\n",
    "                'clf__criterion': ['gini', 'entropy'],\n",
    "                'clf__n_estimators': [5, 10, 25, 50],\n",
    "#                'clf__max_features': [1, 2, 3, 4]\n",
    "              }]\n",
    "\n",
    "\n",
    "cross_validation = StratifiedKFold(X_train, n_folds=10)\n",
    "\n",
    "gs_rfc = GridSearchCV(estimator=pipe_rfc,\n",
    "                 param_grid=param_grid,\n",
    "                 scoring='accuracy',\n",
    "                 cv=5,\n",
    "                 n_jobs=1)\n",
    "\n",
    "gs_rfc.fit(X_train, y_train)\n",
    "\n",
    "print(\"Best Score: {}\".format(gs_rfc.best_score_))\n",
    "print\n",
    "print(\"Best parameters: {}\".format(gs_rfc.best_params_))\n",
    "\n",
    "rfc = gs_rfc.best_estimator_\n",
    "joblib.dump(rfc, 'rfc.pkl')"
   ]
  },
  {
   "cell_type": "markdown",
   "metadata": {},
   "source": [
    "### Visualizing accuracy distribution"
   ]
  },
  {
   "cell_type": "code",
   "execution_count": 122,
   "metadata": {
    "collapsed": false
   },
   "outputs": [
    {
     "data": {
      "text/plain": [
       "<matplotlib.axes._subplots.AxesSubplot at 0x109db02d0>"
      ]
     },
     "execution_count": 122,
     "metadata": {},
     "output_type": "execute_result"
    },
    {
     "data": {
      "image/png": "[encoded data removed]",
      "text/plain": [
       "<matplotlib.figure.Figure at 0x109db0250>"
      ]
     },
     "metadata": {},
     "output_type": "display_data"
    }
   ],
   "source": [
    "plt.figure(figsize=(7, 5))\n",
    "grid_visualization = []\n",
    "\n",
    "for grid_pair in gs_rfc.grid_scores_:\n",
    "    grid_visualization.append(grid_pair.mean_validation_score)\n",
    "\n",
    "sb.plt.ylim(0,60)\n",
    "sb.plt.xlim(0.80, gs_rfc.best_score_ + 0.05)    \n",
    "sb.distplot(grid_visualization)"
   ]
  },
  {
   "cell_type": "code",
   "execution_count": 134,
   "metadata": {
    "collapsed": true
   },
   "outputs": [],
   "source": [
    "results[\"rfc\"] = grid_visualization"
   ]
  },
  {
   "cell_type": "markdown",
   "metadata": {},
   "source": [
    "#### Own Businee Rule Model based on Language exploring"
   ]
  },
  {
   "cell_type": "code",
   "execution_count": 119,
   "metadata": {
    "collapsed": false
   },
   "outputs": [],
   "source": [
    "from sklearn.base import BaseEstimator, ClassifierMixin\n",
    "\n",
    "class RuleClassifier(BaseEstimator, ClassifierMixin):  \n",
    "\n",
    "    def __init__(self, word_list):\n",
    "        \"\"\"\n",
    "        Called when initializing the classifier\n",
    "        \"\"\"\n",
    "        self.word_list = word_list\n",
    "\n",
    "\n",
    "    def fit(self, X, y=None):\n",
    "        \"\"\"\n",
    "          In this case, no model is created\n",
    "        \"\"\"\n",
    "        return self\n",
    "\n",
    "    def _meaning(self, x):\n",
    "        # returns True/False according to fitted classifier\n",
    "        # notice underscore on the beginning\n",
    "        for word in word_list:\n",
    "            if word in x:\n",
    "                return True\n",
    "        return False\n",
    "\n",
    "    def predict(self, X, y=None):\n",
    "        return([self._meaning(x) for x in X])\n",
    "\n",
    "    def score(self, X, y=None):\n",
    "        # counts number of values bigger than mean\n",
    "        return(sum(self.predict(X))) "
   ]
  },
  {
   "cell_type": "code",
   "execution_count": 124,
   "metadata": {
    "collapsed": false
   },
   "outputs": [
    {
     "data": {
      "text/plain": [
       "0.29457364341085274"
      ]
     },
     "execution_count": 124,
     "metadata": {},
     "output_type": "execute_result"
    }
   ],
   "source": [
    "word_list = [\"No\", \"aplicar\", \"ni\", \"variedades\"] # Some important words in prohibitions\n",
    "rule_classifier = RuleClassifier(word_list)\n",
    "rule_classifier.score(X_test, y_test)/float(len(y_test))"
   ]
  },
  {
   "cell_type": "markdown",
   "metadata": {},
   "source": [
    "### All together"
   ]
  },
  {
   "cell_type": "code",
   "execution_count": 165,
   "metadata": {
    "collapsed": false
   },
   "outputs": [],
   "source": [
    "df = pd.DataFrame(columns=('accuracy', 'model'))\n",
    "\n",
    "for model in results.iterkeys():\n",
    "    df_aux = pd.DataFrame()\n",
    "    df_aux[\"accuracy\"] = results[model]\n",
    "    df_aux[\"model\"] = [model] * len(results[model])\n",
    "    df = df.append(df_aux)"
   ]
  },
  {
   "cell_type": "markdown",
   "metadata": {},
   "source": [
    "## Summary"
   ]
  },
  {
   "cell_type": "code",
   "execution_count": 178,
   "metadata": {
    "collapsed": false
   },
   "outputs": [
    {
     "data": {
      "text/html": [
       "<div>\n",
       "<table border=\"1\" class=\"dataframe\">\n",
       "  <thead>\n",
       "    <tr style=\"text-align: right;\">\n",
       "      <th></th>\n",
       "      <th>accuracy</th>\n",
       "    </tr>\n",
       "  </thead>\n",
       "  <tbody>\n",
       "    <tr>\n",
       "      <th>count</th>\n",
       "      <td>1200.000000</td>\n",
       "    </tr>\n",
       "    <tr>\n",
       "      <th>mean</th>\n",
       "      <td>0.838405</td>\n",
       "    </tr>\n",
       "    <tr>\n",
       "      <th>std</th>\n",
       "      <td>0.074265</td>\n",
       "    </tr>\n",
       "    <tr>\n",
       "      <th>min</th>\n",
       "      <td>0.549223</td>\n",
       "    </tr>\n",
       "    <tr>\n",
       "      <th>25%</th>\n",
       "      <td>0.849741</td>\n",
       "    </tr>\n",
       "    <tr>\n",
       "      <th>50%</th>\n",
       "      <td>0.867876</td>\n",
       "    </tr>\n",
       "    <tr>\n",
       "      <th>75%</th>\n",
       "      <td>0.875648</td>\n",
       "    </tr>\n",
       "    <tr>\n",
       "      <th>max</th>\n",
       "      <td>0.924870</td>\n",
       "    </tr>\n",
       "  </tbody>\n",
       "</table>\n",
       "</div>"
      ],
      "text/plain": [
       "          accuracy\n",
       "count  1200.000000\n",
       "mean      0.838405\n",
       "std       0.074265\n",
       "min       0.549223\n",
       "25%       0.849741\n",
       "50%       0.867876\n",
       "75%       0.875648\n",
       "max       0.924870"
      ]
     },
     "execution_count": 178,
     "metadata": {},
     "output_type": "execute_result"
    }
   ],
   "source": [
    "df.describe()"
   ]
  },
  {
   "cell_type": "markdown",
   "metadata": {},
   "source": [
    "## Box plot"
   ]
  },
  {
   "cell_type": "code",
   "execution_count": 186,
   "metadata": {
    "collapsed": false
   },
   "outputs": [
    {
     "data": {
      "text/plain": [
       "<matplotlib.axes._subplots.AxesSubplot at 0x11f610650>"
      ]
     },
     "execution_count": 186,
     "metadata": {},
     "output_type": "execute_result"
    },
    {
     "data": {
      "image/png": "[encoded data removed]",
      "text/plain": [
       "<matplotlib.figure.Figure at 0x120cd5950>"
      ]
     },
     "metadata": {},
     "output_type": "display_data"
    }
   ],
   "source": [
    "plt.figure(figsize=(15,10))\n",
    "sb.boxplot(x=\"model\", y=\"accuracy\", data=df, palette = sb.color_palette(\"Blues\"))"
   ]
  },
  {
   "cell_type": "markdown",
   "metadata": {},
   "source": [
    "### Violin Plot"
   ]
  },
  {
   "cell_type": "code",
   "execution_count": 391,
   "metadata": {
    "collapsed": false
   },
   "outputs": [
    {
     "data": {
      "text/plain": [
       "<matplotlib.axes._subplots.AxesSubplot at 0x122a9aa10>"
      ]
     },
     "execution_count": 391,
     "metadata": {},
     "output_type": "execute_result"
    },
    {
     "data": {
      "image/png": "[encoded data removed]",
      "text/plain": [
       "<matplotlib.figure.Figure at 0x122a9af90>"
      ]
     },
     "metadata": {},
     "output_type": "display_data"
    }
   ],
   "source": [
    "plt.figure(figsize=(18,10))\n",
    "sb.violinplot(x=\"model\", y=\"accuracy\", data=df, palette = sb.color_palette(\"Blues\"))"
   ]
  },
  {
   "cell_type": "code",
   "execution_count": 28,
   "metadata": {
    "collapsed": true
   },
   "outputs": [],
   "source": [
    "def plot_learning_curve(estimators, title, X, y, ylim=None, cv=None,\n",
    "                        n_jobs=1, train_sizes=np.linspace(.1, 1.0, 5)):\n",
    "    \"\"\"\n",
    "    Generate a simple plot of the test and traning learning curve.\n",
    "\n",
    "    Parameters\n",
    "    ----------\n",
    "    estimator : object type that implements the \"fit\" and \"predict\" methods\n",
    "        An object of that type which is cloned for each validation.\n",
    "\n",
    "    title : string\n",
    "        Title for the chart.\n",
    "\n",
    "    X : array-like, shape (n_samples, n_features)\n",
    "        Training vector, where n_samples is the number of samples and\n",
    "        n_features is the number of features.\n",
    "\n",
    "    y : array-like, shape (n_samples) or (n_samples, n_features), optional\n",
    "        Target relative to X for classification or regression;\n",
    "        None for unsupervised learning.\n",
    "\n",
    "    ylim : tuple, shape (ymin, ymax), optional\n",
    "        Defines minimum and maximum yvalues plotted.\n",
    "\n",
    "    cv : integer, cross-validation generator, optional\n",
    "        If an integer is passed, it is the number of folds (defaults to 3).\n",
    "        Specific cross-validation objects can be passed, see\n",
    "        sklearn.cross_validation module for the list of possible objects\n",
    "\n",
    "    n_jobs : integer, optional\n",
    "        Number of jobs to run in parallel (default 1).\n",
    "    \"\"\"\n",
    "    subplots = [121,122]\n",
    "    plt.figure(figsize=(15,5))\n",
    "    for index, estimator in enumerate(estimators):\n",
    "        plt.subplot(subplots[index])\n",
    "        plt.title(title)\n",
    "        if ylim is not None:\n",
    "            plt.ylim(*ylim)\n",
    "        plt.xlabel(\"Training examples\")\n",
    "        plt.ylabel(\"Score\")\n",
    "        train_sizes, train_scores, test_scores = learning_curve(\n",
    "            estimator, X, y, cv=cv, n_jobs=n_jobs, train_sizes=train_sizes)\n",
    "        train_scores_mean = np.mean(train_scores, axis=1)\n",
    "        train_scores_std = np.std(train_scores, axis=1)\n",
    "        test_scores_mean = np.mean(test_scores, axis=1)\n",
    "        test_scores_std = np.std(test_scores, axis=1)\n",
    "        plt.grid()\n",
    "\n",
    "        plt.fill_between(train_sizes, train_scores_mean - train_scores_std,\n",
    "                     train_scores_mean + train_scores_std, alpha=0.1,\n",
    "                     color=\"r\")\n",
    "        plt.fill_between(train_sizes, test_scores_mean - test_scores_std,\n",
    "                     test_scores_mean + test_scores_std, alpha=0.1, color=\"g\")\n",
    "        plt.plot(train_sizes, train_scores_mean, 'o-', color=\"r\",\n",
    "             label=\"Training score\")\n",
    "        plt.plot(train_sizes, test_scores_mean, 'o-', color=\"g\",\n",
    "             label=\"Cross-validation score\")\n",
    "\n",
    "        plt.legend(loc=\"best\")\n",
    "    plt.show()"
   ]
  },
  {
   "cell_type": "code",
   "execution_count": 29,
   "metadata": {
    "collapsed": false
   },
   "outputs": [
    {
     "data": {
      "image/png": "[encoded data removed]",
      "text/plain": [
       "<matplotlib.figure.Figure at 0x1094deb90>"
      ]
     },
     "metadata": {},
     "output_type": "display_data"
    }
   ],
   "source": [
    "from sklearn import cross_validation\n",
    "from sklearn.naive_bayes import MultinomialNB\n",
    "\n",
    "title = \"Learning Curves (Naive Bayes)\"\n",
    "\n",
    "cv = cross_validation.ShuffleSplit(np.array(X).shape[0], n_iter=100,\n",
    "                                   test_size=0.2, random_state=0)\n",
    "estimators = [nb, nb_o]\n",
    "plot_learning_curve(estimators, title, X, y, ylim=(0.6, 1.01), cv=cv, n_jobs=1)"
   ]
  },
  {
   "cell_type": "markdown",
   "metadata": {},
   "source": [
    "## Evaluation"
   ]
  },
  {
   "cell_type": "markdown",
   "metadata": {},
   "source": [
    "**Every application is different**. We cannot offer a single evaluation metric that is right for any classification problem, or regression problem, or whatever problem you may encounter. Ther term **machine learning diagnostic** is often used to describe a test that can be run to gain insight about what is and isn't working in a machine learning model. Generally, when designing a machine laerning model,it's advisable to formulate a diagnostic for the model in parallel.\n",
    "\n",
    "Another interesting aspect of machine learning is that without knowing the nature of the data we are trying to fit, we can make no assumption about which machine learning model we can use to fit the sample data. The axiom is known as the **No Free Lunch** theorem: \"Wothout prior assumptions about the nature of a learning algorithm, no learning algorithm is superior or inferior to any other (or even random guessing)\".\n",
    "\n",
    "Minimizing the error or cost function of a formulated machine learning model is generally not enough to determine how well the model fits the supplied training data.\n",
    "\n",
    "An estimated model is said to be **underfit** if it exhibits a large error in prediction. However, a formulated model with low error or cost function could also indicate that model doesn't understand the underlying relationship between the given features of the model. Rather, **the model is memorizing** the supplied data, and this known as **overfitting**. \n",
    "\n",
    "**An underfit model is also said to exhibit high bias and a overfit is said to have a high variance**. A model that describes a good fit for the sample data will have low overal error and can predict the dependent variable correctly from previously unseen values for the independent variables in our model.\n",
    "\n",
    "It is useful to think of a **positive example** as one worth of atterntion or **alarm**, and a negative example as uninteresting or benign.\n",
    "\n",
    "Some evaluations of classifier performances in a cost-sensitive setting are straightforward if the **opearing conditions** (misclassificaiton costs and class distributions) are **fixed and known**. When this is not the case, evaluation requires a method of visualizing classifier performance across the full range of possible operating conditions.\n",
    "\n",
    "In binary classification, there are just two types of error of a classifeir can make: a **false positive** and a **false negative**. In general the cost of of making ony type of misclassifcation will be diferent.\n",
    "\n",
    "Methods for evaluating the performance of classifiers can be **numerical or graphical**. Numerical evaluations produce a single number sumarzing a classifier's performance, whereas graphical mehods depict performance in a plot that can be inspected by humans. These latter methods can present a classifier's actual performance for a wide variety of different points, whereas a numerical measure only represent the average performance across a set of operating points.\n",
    "\n",
    "#### Numerical methods\n",
    "* Accuracy\n",
    "* Expected benefit/cost\n",
    "* Precision\n",
    "* Recall\n",
    "* Area under a performance curve\n",
    "* ...\n",
    "\n",
    "#### Graphical methods\n",
    "* ROC Curves\n",
    "* Precision-Recall Curves\n",
    "* DET curves\n",
    "* Regret graphs\n",
    "* Loss difference plots\n",
    "* Skill plots\n",
    "* ..."
   ]
  },
  {
   "cell_type": "markdown",
   "metadata": {},
   "source": [
    "#### TP Rate\n",
    "$$\\text{TP Rate} = \\cfrac{\\text{True Positives}}{\\text{Positives}}$$\n",
    "\n",
    "#### FN Rate\n",
    "$$\\text{FP Rate} = \\cfrac{\\text{False Negatives}}{\\text{Positives}}$$\n",
    "\n",
    "#### FP Rate\n",
    "$$\\text{FP Rate} = \\cfrac{\\text{False Positives}}{\\text{Negatives}}$$\n",
    "\n",
    "#### TN Rate\n",
    "$$\\text{TN Rate} = \\cfrac{\\text{True Negatives}}{\\text{Negatives}}$$\n",
    "\n",
    "#### Accuracy\n",
    "$$\\text{Accuracy} = \\cfrac{\\text{True Positives + True Negatives }}{\\text{Postives + Negatives}}$$\n",
    "\n",
    "#### Precision\n",
    "\n",
    "$$\\text{Precision} = \\cfrac{\\text{True Positives}}{\\text{True Positives / False Positives}}$$\n",
    "\n",
    "#### Recall\n",
    "\n",
    "$$\\text{Recall} = \\cfrac{\\text{True Positives}}{\\text{True Positives / False Negatives}}$$"
   ]
  },
  {
   "cell_type": "markdown",
   "metadata": {},
   "source": [
    "### Evaluation of discrete classifiers\n",
    "\n",
    "A discrete classifier is one that outputs only a class label. Each discrete classifier produces an (fp rate, tp rate) pair corresponding to a single point in ROC space. Many classifiers, such as decision tree or rule sets, are designed to produce only a class decision on each instance. When such a discrete classifier is applied to a test set, it yields **a single confusion matrix**, which in turns corresponds to one ROC point. Thus, a discrete classifier produces only a single point in ROC space. However, some classifiers such as Naive Bayes classifier or a neural network, naturally yield an instance probability or score, a numeric value that represents the degree to which an instance is a member of a class. These values can be strict probabilities, in which case they adhere to standard theorems of probability; or they can be general, uncalibrated scores, in which case the only property that holds is that a higher score indicates a higher probability. We shall call both **probabilistic** classifier, in spite of the fact that the output may not be a proper probability."
   ]
  },
  {
   "cell_type": "code",
   "execution_count": 123,
   "metadata": {
    "collapsed": false
   },
   "outputs": [
    {
     "name": "stdout",
     "output_type": "stream",
     "text": [
      "==================== NAIVE BAYES ===============================\n",
      "             precision    recall  f1-score   support\n",
      "\n",
      "prohibition       0.86      0.95      0.90        44\n",
      " permission       0.97      0.92      0.95        85\n",
      "\n",
      "avg / total       0.93      0.93      0.93       129\n",
      "\n",
      "==================== LOGISTIC REGRESSION ===========================\n",
      "             precision    recall  f1-score   support\n",
      "\n",
      "prohibition       0.93      0.89      0.91        44\n",
      " permission       0.94      0.96      0.95        85\n",
      "\n",
      "avg / total       0.94      0.94      0.94       129\n",
      "\n",
      "==================== DECISION TREE ===========================\n",
      "             precision    recall  f1-score   support\n",
      "\n",
      "prohibition       0.84      0.95      0.89        44\n",
      " permission       0.97      0.91      0.94        85\n",
      "\n",
      "avg / total       0.93      0.92      0.92       129\n",
      "\n",
      "==================== PERCEPTRON ===============================\n",
      "             precision    recall  f1-score   support\n",
      "\n",
      "prohibition       0.46      1.00      0.63        44\n",
      " permission       1.00      0.40      0.57        85\n",
      "\n",
      "avg / total       0.82      0.60      0.59       129\n",
      "\n",
      "==================== SUPPORT VECTOR MACHINES =========================\n",
      "             precision    recall  f1-score   support\n",
      "\n",
      "prohibition       0.92      0.77      0.84        44\n",
      " permission       0.89      0.96      0.93        85\n",
      "\n",
      "avg / total       0.90      0.90      0.90       129\n",
      "\n",
      "==================== NEAREST NEIGHBORS ===============================\n",
      "             precision    recall  f1-score   support\n",
      "\n",
      "prohibition       0.89      0.75      0.81        44\n",
      " permission       0.88      0.95      0.92        85\n",
      "\n",
      "avg / total       0.88      0.88      0.88       129\n",
      "\n",
      "==================== RANDOM FORESTS ===============================\n",
      "             precision    recall  f1-score   support\n",
      "\n",
      "prohibition       0.86      0.86      0.86        44\n",
      " permission       0.93      0.93      0.93        85\n",
      "\n",
      "avg / total       0.91      0.91      0.91       129\n",
      "\n"
     ]
    }
   ],
   "source": [
    "target_names = [\"prohibition\", \"permission\"]\n",
    "\n",
    "print \"==================== NAIVE BAYES ===============================\"\n",
    "print classification_report(y_test, nb.predict(X_test), target_names = target_names)\n",
    "print \"==================== LOGISTIC REGRESSION ===========================\"\n",
    "print classification_report(y_test, log.predict(X_test), target_names = target_names)\n",
    "print \"==================== DECISION TREE ===========================\"\n",
    "print classification_report(y_test, dt.predict(X_test), target_names = target_names)\n",
    "print \"==================== PERCEPTRON ===============================\"\n",
    "print classification_report(y_test, ann.predict(X_test), target_names = target_names)\n",
    "print \"==================== SUPPORT VECTOR MACHINES =========================\"\n",
    "print classification_report(y_test, svm.predict(X_test), target_names = target_names)\n",
    "print \"==================== NEAREST NEIGHBORS ===============================\"\n",
    "print classification_report(y_test, knn.predict(X_test), target_names = target_names)\n",
    "print \"==================== RANDOM FORESTS ===============================\"\n",
    "print classification_report(y_test, rfc.predict(X_test), target_names = target_names)"
   ]
  },
  {
   "cell_type": "markdown",
   "metadata": {},
   "source": [
    "### Confusion Matrix\n",
    "To evaluate a classifier properly to understand the notion of **class confusion** is necessary to use the confusion matrix. It is a kind of contingency matrix. A confusion matrix separates the decision made by the classifier, making explicit how one class is being confused for another. In the confusion matrix, the main diagonal contains the counts of correct decisions. Confusion matrix is also known as **error matrix**.\n",
    "\n",
    "For different cut-off values, any model would exhibit different performances; thus, contingency tables could be used as a mean of assesment of competing models only for a given cutoff value. In order to represent the model performance for allposible cut-off values, the most popular graphic representations are the CAP and ROC curves."
   ]
  },
  {
   "cell_type": "code",
   "execution_count": 141,
   "metadata": {
    "collapsed": false
   },
   "outputs": [],
   "source": [
    "def draw_confusion_matrices(confusion_matrices):\n",
    "    labels = ['Prohibition', 'Permission']\n",
    "    pos = [421,422,423,424,425,426, 427]\n",
    "    fig = plt.figure(figsize=(20,20))\n",
    "    \n",
    "    for i, cm in enumerate(confusion_matrices):\n",
    "        cm_normalized = cm[1].astype('float') / cm[1].sum(axis=1)[:, np.newaxis]\n",
    "        ax = fig.add_subplot(pos[i])\n",
    "        ax.grid(False)\n",
    "        cax = ax.matshow(cm_normalized, cmap=plt.cm.Reds)\n",
    "        plt.title('%s\\n' % cm[0], fontsize=20)\n",
    "        fig.colorbar(cax)\n",
    "        ax.set_xticklabels([''] + labels, fontsize=12)\n",
    "        ax.set_yticklabels([''] + labels, fontsize=12)\n",
    "        plt.xlabel('True Class',fontsize=14)\n",
    "        plt.ylabel('Predicted Class', fontsize=14)\n",
    "        plt.tight_layout()\n",
    "        #fig.subplots_adjust(left=left, bottom=bottom, right=right, top=top, wspace=wspace, hspace=hspace)\n",
    "        for i,j in ((x,y) for x in xrange(len(cm[1])) for y in xrange(len(cm_normalized[0]))):\n",
    "            ax.annotate(str(float(\"{0:.2f}\".format(cm_normalized[i][j]))), xy=(i,j), color='black', size = 18)\n",
    "\n",
    "            \n",
    "        #name = cm[0] + '.png'\n",
    "        #save(name)\n",
    "\n",
    "def compute_costs(cm_normalized, prohibition_cost = 1000, opportunity_cost = 1):\n",
    "    prior_positive = 0.2\n",
    "    prior_negative = 0.8\n",
    "    cost = 0\n",
    "    for i, x in enumerate(np.nditer(cm_normalized)):\n",
    "        if i == 1: # fn\n",
    "            cost += (x * prohibition_cost) * prior_positive\n",
    "        elif i == 2: # fp\n",
    "            cost += (x * opportunity_cost) * prior_negative\n",
    "    return cost\n",
    "\n",
    "def draw_costs_progression(confusion_matrices):\n",
    "    costs = []\n",
    "    max_range = 1000\n",
    "    plt.figure(figsize=(14,8))\n",
    "    plt.xlabel(\"Permission cost (Budget - Prohibition cost)\")\n",
    "    for cm in confusion_matrices:\n",
    "        cm_normalized = cm[1].astype('float') / cm[1].sum(axis=1)[:, np.newaxis]\n",
    "        costs = []\n",
    "        for cost in range(max_range):\n",
    "            costs.append(compute_costs(cm_normalized, max_range - cost, cost))\n",
    "        \n",
    "        plt.ylim([0,100])\n",
    "        plt.plot(np.arange(max_range), costs, label= cm[0])\n",
    "        plt.legend(loc=\"top right\")\n",
    "        \n",
    "def draw_costs(confusion_matrices, prohibition_cost = 1000, opportunity_cost = 1):\n",
    "    costs = []\n",
    "    names = []\n",
    "    bar_width = 0.35\n",
    "    for cm in confusion_matrices:\n",
    "        cm_normalized = cm[1].astype('float') / cm[1].sum(axis=1)[:, np.newaxis]\n",
    "        names.append(cm[0])\n",
    "        costs.append(compute_costs(cm[1]))\n",
    "    plt.xticks(np.arange(len(names)) + bar_width, names, rotation='vertical')\n",
    "    plt.bar(np.arange(len(names)), costs)\n",
    "    \n",
    "def draw_ROC_cuve_classifier(confusion_matrices):\n",
    "    import matplotlib\n",
    "    plt.figure(figsize=(14,8))\n",
    "    plt.scatter([0], [1], label=\"perfect classification\", s = 25)\n",
    "    colors = matplotlib.cm.rainbow(np.linspace(0, 1, len(confusion_matrices)))\n",
    "\n",
    "    for cm, c in zip(confusion_matrices, colors):\n",
    "        cm_normalized = cm[1].astype('float') / cm[1].sum(axis=1)[:, np.newaxis]\n",
    "        costs = []\n",
    "        tpr = 0\n",
    "        fpr = 0\n",
    "        positives = 0\n",
    "        negatives = 0\n",
    "        for i, x in enumerate(np.nditer(cm_normalized)):\n",
    "            if i == 0: # tp\n",
    "                true_positives = x\n",
    "                positives += x\n",
    "            if i == 1: # fn\n",
    "                false_negatives = x\n",
    "                positives += x\n",
    "            elif i == 2: # fp\n",
    "                false_positives = x\n",
    "                negatives += x\n",
    "            else: # tn\n",
    "                negatives += x\n",
    "                \n",
    "        tpr = true_positives / positives\n",
    "        fpr = false_positives / positives\n",
    "        \n",
    "        plt.xlabel(\"False Positive Rate\")\n",
    "        plt.ylabel(\"True Positive Rate (Recall)\")\n",
    "        plt.legend(loc=\"lower right\")\n",
    "        plt.ylim([0.5, 1.1])\n",
    "        plt.scatter(fpr, tpr, label= cm[0], color=c, s=50)    "
   ]
  },
  {
   "cell_type": "code",
   "execution_count": 135,
   "metadata": {
    "collapsed": false,
    "scrolled": false
   },
   "outputs": [
    {
     "data": {
      "image/png": "[encoded data removed]",
      "text/plain": [
       "<matplotlib.figure.Figure at 0x10b8d4f50>"
      ]
     },
     "metadata": {},
     "output_type": "display_data"
    }
   ],
   "source": [
    "confusion_matrices = [\n",
    "    (\"Naive Bayes\", confusion_matrix(y_test, nb.predict(X_test))),\n",
    "    (\"Naive Bayes Oversampled\", confusion_matrix(y_test, nb_o.predict(X_test))),\n",
    "    #(\"Logistic Regression\", confusion_matrix(y_test, log.predict(X_test))),\n",
    "    #(\"Decision Tree\", confusion_matrix(y_test, dt.predict(X_test))),\n",
    "    #(\"Perceptron\", confusion_matrix(y_test, ann.predict(X_test))),\n",
    "    #(\"Support Vector Machines\", confusion_matrix(y_test, svm.predict(X_test))),\n",
    "    #(\"K-Nearest Neighbor\", confusion_matrix(y_test, knn.predict(X_test))),\n",
    "    #(\"Random Forest\", confusion_matrix(y_test, rfc.predict(X_test)))\n",
    "]\n",
    "\n",
    "draw_confusion_matrices(confusion_matrices)"
   ]
  },
  {
   "cell_type": "code",
   "execution_count": 147,
   "metadata": {
    "collapsed": false
   },
   "outputs": [
    {
     "data": {
      "image/png": "[encoded data removed]",
      "text/plain": [
       "<matplotlib.figure.Figure at 0x1113bd690>"
      ]
     },
     "metadata": {},
     "output_type": "display_data"
    }
   ],
   "source": [
    "# 100:1 Ratio of misclassification\n",
    "draw_costs(confusion_matrices, 100, 1)"
   ]
  },
  {
   "cell_type": "code",
   "execution_count": 142,
   "metadata": {
    "collapsed": false
   },
   "outputs": [
    {
     "data": {
      "image/png": "[encoded data removed]",
      "text/plain": [
       "<matplotlib.figure.Figure at 0x10986a050>"
      ]
     },
     "metadata": {},
     "output_type": "display_data"
    }
   ],
   "source": [
    "draw_costs_progression(confusion_matrices)"
   ]
  },
  {
   "cell_type": "markdown",
   "metadata": {},
   "source": [
    "### ROC Curves"
   ]
  },
  {
   "cell_type": "code",
   "execution_count": 213,
   "metadata": {
    "collapsed": false
   },
   "outputs": [
    {
     "data": {
      "image/png": "[encoded data removed]",
      "text/plain": [
       "<matplotlib.figure.Figure at 0x1115c36d0>"
      ]
     },
     "metadata": {},
     "output_type": "display_data"
    }
   ],
   "source": [
    "draw_ROC_cuve_classifier(confusion_matrices)"
   ]
  },
  {
   "cell_type": "markdown",
   "metadata": {},
   "source": [
    "## Rankers / Probabilistic classifiers\n",
    "\n",
    "Rankers can be turned into classifiers by **setting a threshold**. A probabilistic classifier and threshold *t* defines a binary classifier. By varying *t* we get a family of binary classifiers. The techniques explained below are ways to visualize the performance of the whole family. They are used to compare different families and to choose an optimal binary classifier from the family."
   ]
  },
  {
   "cell_type": "markdown",
   "metadata": {},
   "source": [
    "### ROC Curves\n",
    "\n",
    "A receiver operating characteristics (ROC) graph is a technique for visualizing, organizing and selecting classifi- ers based on their performance. ROC curves typically feature true positive rate **(recall)** on the Y axis, and false positive rate on the X axis. This means that the top left corner of the plot is the **ideal point**. Although this is not very realistic, it means that a larger area under the the curve **(AUC)** is usually better. The **steepness** of the ROC is also important, since it is ideal to maximize the true positive rate while minimizing the false positive rate.\n",
    "\n",
    "\n",
    "Several points in ROC space are important to note. The lower left point (0,0) represents the strategy of never issuing a positive classification; such a classifier commits no false positive errors but also gains no true positives. The opposite strategy, of unconditionally issuing positive classifications, is represented by the upper right point (1,1).\n",
    "\n",
    "Informally, the point in ROC space is better than another if it is to the northwest (tp rate is higher, fp rate is lower, or both) of the first. Classifiers appearing on the **left-hand side** of an ROC graph, near the X axis, may be thought as **conservative**: they make positive classifications only with strong evidence so they make few false positive errors, but they often have low true positive rates as well. Classifiers on the upper **right-hand side** of an ROC graph may be thought to be **liberal**: they make positive classifications with weak evidence, but they often have false positive rates. Many real world examples domains are dominated by large numbers of negative instances, so performance in the far left-hand side of the ROC graph becomes more interesting.\n",
    "\n",
    "**Properties**\n",
    "* The **curve** visualizes the quality of the ranker or probabilistic model on a test set, without commiting the classification threshold: It aggregates all possible thresholds.\n",
    "* The **slope** of the curve indicates class distribution in that segment of the ranking: diagonal segment indicates locally random behaviour\n",
    "* **Cocavities** indicate locally worse than random behaviour\n",
    "\n",
    "\n",
    "In the case that the ROC curve of a particular model lies uniformly above the ROC curve of a competing model, the former exhibits superior discriminatory power of all possible cut-off points. In the case that the two curves intersect, it is not clear which model has the higher discriminatory power.\n",
    "\n",
    "A drawback of the ROC curve is that they assume equal classification error costs for Type I and II Errors. \n",
    "\n",
    "ROC graphs are a very useful tool for visualizing and evaluating classifiers. They are able to provide a richer measure of classification performance than scalar measures such as accuracy, error rate o error cost. Because they decouple classifier performance from class skew and error costs, the have advantages over other evaluation measures such as precision-recall graphs and lift curves.\n",
    "\n",
    "Recent years have seen an increase in the use of ROC graphs in the machine learning community, due in part to de the realization that simple classification accuracy is often a poor metric for measuring performance.\n",
    "\n",
    "**Random Performance**\n",
    "\n",
    "The diagonal line y = x represents the strategy of ran- domly guessing a class. For example, if a classifier ran- domly guesses the positive class half the time, it can be expected to get half the positives and half the negatives correct; this yields the point (0.5,0.5) in ROC space. If it guesses the positive class 90% of the time, it can be expected to get 90% of the positives correct but its false positive rate will increase to 90% as well, yielding (0.9,0.9) in ROC space. Thus a random classifier will produce a ROC point that slides back and forth on the dia- gonal based on the frequency with which it guesses the positive class. In order to get away from this diagonal into the upper triangular region, the classifier must exploit some information in the data."
   ]
  },
  {
   "cell_type": "markdown",
   "metadata": {},
   "source": [
    "##  AUC\n",
    "\n",
    "The Area Under ROC Curve assesses the ranking in terms of separation of the classes\n",
    "\n",
    "* **AUC = 1** -> All the positives before the negatives\n",
    "* **AUC = 0.5** -> Random Ordering\n",
    "* **AUC = 0** -> All the negatives before the positives\n",
    "\n",
    "Concerning the AUC, a simple rule of thumb to evaluate a classifier based on this summary value is the following:\n",
    "\n",
    "* 90-1 = very good (A)\n",
    "* 80-.90 = good (B)\n",
    "* 70-.80 = not so good (C)\n",
    "* 60-.70 = poor (D)\n",
    "* 50-.60 = fail (F)"
   ]
  },
  {
   "cell_type": "code",
   "execution_count": 206,
   "metadata": {
    "collapsed": true
   },
   "outputs": [],
   "source": [
    "def draw_ROC_curves(ROC_curves):\n",
    "    plt.figure(figsize=(8,8))\n",
    "    for rc in ROC_curves:\n",
    "        fpr, tpr, thresholds = rc[1]\n",
    "\n",
    "        # Compute the area under the ROC curve\n",
    "        roc_auc = auc(fpr, tpr)\n",
    "        #print(\"Area under the ROC curve : %f\" % roc_auc)\n",
    "\n",
    "        # Plot the ROC curve\n",
    "        #plt.clf()\n",
    "        plt.plot(fpr, tpr, label='%s (area = %0.5f)' % (rc[0], roc_auc))\n",
    "        plt.plot([0, 1], [0, 1], 'k--')\n",
    "        plt.xlim([-0.1, 1.0])\n",
    "        plt.ylim([0.0, 1.05])\n",
    "        plt.xlabel('False Positive Rate')\n",
    "        plt.ylabel('True Positive Rate (Recall)')\n",
    "        plt.title('Receiver operating characteristic %s' % rc[0])\n",
    "        plt.legend(loc=\"lower right\")\n",
    "        #plt.show()"
   ]
  },
  {
   "cell_type": "code",
   "execution_count": 207,
   "metadata": {
    "collapsed": false,
    "scrolled": false
   },
   "outputs": [
    {
     "data": {
      "image/png": "[encoded data removed]",
      "text/plain": [
       "<matplotlib.figure.Figure at 0x10d516bd0>"
      ]
     },
     "metadata": {},
     "output_type": "display_data"
    }
   ],
   "source": [
    "# (\"Perceptron\", roc_curve(y_test, ann.predict_proba(X_test)[::,1])),\n",
    "ROC_curves = [\n",
    "    (\"Naive Bayes\", roc_curve(y_test, nb.predict_proba(X_test)[::,0], pos_label = 0)),\n",
    "    (\"Logistic Regression\", roc_curve(y_test, log.predict_proba(X_test)[::,0], pos_label = 0)),\n",
    "    (\"Support Vector Machines\", roc_curve(y_test, svm.predict_proba(X_test)[::,0], pos_label = 0)),\n",
    "    (\"K-Nearest Neighbor\", roc_curve(y_test, knn.predict_proba(X_test)[::,0], pos_label = 0)),\n",
    "    (\"Random Forest\", roc_curve(y_test, rfc.predict_proba(X_test)[::,0], pos_label = 0))\n",
    "]\n",
    "\n",
    "draw_ROC_curves(ROC_curves)"
   ]
  },
  {
   "cell_type": "markdown",
   "metadata": {},
   "source": [
    "### Detection Curves\n",
    "\n",
    "An alternative to the ROC curve is the detection error tradeoff (DET) graph, which plots the false negative rate (missed detections) vs. the false positive rate (false alarms) on non-linearly transformed x- and y-axes. The transformation function is the quantile function of the normal distribution, i.e., the inverse of the cumulative normal distribution. It is, in fact, the same transformation as zROC, below, except that the complement of the hit rate, the miss rate or false negative rate, is used. This alternative spends more graph area on the region of interest. Most of the ROC area is of little interest; one primarily cares about the region tight against the y-axis and the top left corner – which, because of using miss rate instead of its complement, the hit rate, is the lower left corner in a DET plot. The DET plot is used extensively in the automatic speaker recognition community, where the name DET was first used. The analysis of the ROC performance in graphs with this warping of the axes was used by psychologists in perception studies halfway the 20th century, where this was dubbed \"double probability paper\""
   ]
  },
  {
   "cell_type": "code",
   "execution_count": 109,
   "metadata": {
    "collapsed": true
   },
   "outputs": [],
   "source": [
    "def draw_detection_curves(ROC_curves):\n",
    "    plt.figure(figsize=(8,8))\n",
    "    for rc in ROC_curves:\n",
    "        fpr, tpr, thresholds = rc[1]\n",
    "\n",
    "        # Compute the area under the ROC curve\n",
    "        roc_auc = auc(fpr, tpr)\n",
    "        #print(\"Area under the ROC curve : %f\" % roc_auc)\n",
    "\n",
    "        # Plot the ROC curve\n",
    "        #plt.clf()\n",
    "        plt.plot(fpr, 1-tpr, label='%s' % (rc[0]))\n",
    "        plt.plot([0, 1], [1, 0], 'k--')\n",
    "        plt.xlim([0.0, 1.0])\n",
    "        plt.ylim([0.0, 1.05])\n",
    "        plt.xlabel('False Positive Rate')\n",
    "        plt.ylabel('False Negative Rate (Missed Detection)')\n",
    "        plt.title('Receiver operating characteristic %s' % rc[0])\n",
    "        plt.legend(loc=\"lower right\")\n",
    "        #plt.show()"
   ]
  },
  {
   "cell_type": "code",
   "execution_count": 110,
   "metadata": {
    "collapsed": false
   },
   "outputs": [
    {
     "data": {
      "image/png": "[encoded data removed]",
      "text/plain": [
       "<matplotlib.figure.Figure at 0x10dfb6250>"
      ]
     },
     "metadata": {},
     "output_type": "display_data"
    }
   ],
   "source": [
    "# (\"Perceptron\", roc_curve(y_test, ann.predict_proba(X_test)[::,1])),\n",
    "detection_curves = [\n",
    "    (\"Naive Bayes\", roc_curve(y_test, nb.predict_proba(X_test)[::,0], pos_label = 0)),\n",
    "    (\"Logistic Regression\", roc_curve(y_test, log.predict_proba(X_test)[::,0], pos_label = 0)),\n",
    "    #(\"Support Vector Machines\", roc_curve(y_test, svm.predict_proba(X_test)[::,0], pos_label = 0)),\n",
    "    #(\"K-Nearest Neighbor\", roc_curve(y_test, knn.predict_proba(X_test)[::,0], pos_label = 0)),\n",
    "    #(\"Random Forest\", roc_curve(y_test, rfc.predict_proba(X_test)[::,0], pos_label = 0))\n",
    "]\n",
    "\n",
    "draw_detection_curves(detection_curves)"
   ]
  },
  {
   "cell_type": "markdown",
   "metadata": {},
   "source": [
    "### Precision Recall Curves\n",
    "\n",
    "AUC is not always area under the curve of a ROC curve. In the situation where you have imbalanced classes, it is often more useful to report AUC for a precision-recall curve. **Precision-recall Curves are well suited when the number of negatives instances is high**.\n",
    "\n",
    "In Information Retrieval, precision is a measure of result relevancy, while recall is a measure of how many truly relevant results are returned. A high area under the cure represents both high recall and high precision, where high precision relates to a low false positive rate, and high recall relates to a low false negative rate. High scores show that the classifier is returning accurate results (high precision), as well as returning a majority of all positive results (recall). A system with high recall but low precision returns many results, but most of its predicted labels are incorrect. a system with high precision but low recall, return very few results but most of its predicted labels are correct. An ideal system with high precision and high recall will return many results, with all results labeled correctly.\n",
    "\n",
    "It is important to note that the precision may not decrease with recall. **Lowering the threshold of classifier may increase True Positives by increasing the number of results**. If the threshold was previously set too high, the new results would be all True Positives, which will increase the precision. Moreover, lowering threshold  we may increase recall by increasing the number of true positives results."
   ]
  },
  {
   "cell_type": "code",
   "execution_count": 394,
   "metadata": {
    "collapsed": true
   },
   "outputs": [],
   "source": [
    "def draw_precisionRecall_curves(precisionRecall_curves):\n",
    "    plt.figure(figsize=(8,8))\n",
    "    for rc in precisionRecall_curves:\n",
    "        precision, recall, thresholds = rc[1]\n",
    "\n",
    "        # Plot the ROC curve\n",
    "        #plt.clf()\n",
    "        plt.plot(recall, precision, label='%s'% rc[0])\n",
    "#        plt.plot([1, 0], [1, 0], 'k--')\n",
    "        plt.xlim([0.0, 1.01])\n",
    "        plt.ylim([0.0, 1.01])\n",
    "        plt.xlabel('Recall')\n",
    "        plt.ylabel('Precision')\n",
    "        plt.title('Precision Recall Curve' )\n",
    "        plt.legend(loc=\"lower left\")"
   ]
  },
  {
   "cell_type": "code",
   "execution_count": 395,
   "metadata": {
    "collapsed": false
   },
   "outputs": [
    {
     "data": {
      "image/png": "[encoded data removed]",
      "text/plain": [
       "<matplotlib.figure.Figure at 0x121f8fb50>"
      ]
     },
     "metadata": {},
     "output_type": "display_data"
    }
   ],
   "source": [
    "precisionRecall_curves = [\n",
    "    (\"Naive Bayes\", precision_recall_curve(y_test, nb.predict_proba(X_test)[::,0], pos_label = 0)),\n",
    "    (\"Logistic Regression\", precision_recall_curve(y_test, log.predict_proba(X_test)[::,0], pos_label = 0)),\n",
    "    (\"Support Vector Machines\", precision_recall_curve(y_test, svm.predict_proba(X_test)[::,0], pos_label = 0)),\n",
    "    (\"K-Nearest Neighbor\", precision_recall_curve(y_test, knn.predict_proba(X_test)[::,0], pos_label = 0)),\n",
    "    (\"Random Forest\", precision_recall_curve(y_test, rfc.predict_proba(X_test)[::,0], pos_label = 0))\n",
    "]\n",
    "\n",
    "draw_precisionRecall_curves(precisionRecall_curves)"
   ]
  },
  {
   "cell_type": "markdown",
   "metadata": {},
   "source": [
    "## Cost Curve"
   ]
  },
  {
   "cell_type": "markdown",
   "metadata": {},
   "source": [
    "## Expected Value\n",
    "\n",
    "The expected value computation provides a framework that is extremely useful in organizing thinking about data-analytic problems. Specifically, it decomposes data-analytic thinking into:\n",
    "1. The structure of the problem\n",
    "2. The elements of the analysis that can be extracted from data\n",
    "3. The elements of the analysis that need to be acuired from other data sources\n",
    "\n",
    "The expected value is then the weighted average of the values of the different possible outcomes, where the weight given to each value it its probability of occurrence:\n",
    "$$EV=\\sum\\limits_{i=1}^n p(o_{i})* v(o_{i})$$\n",
    "\n",
    "The probabilities often can be estimated form data, but business values often need to be acquired from other sources.\n",
    "\n",
    "Instead of computing accuracies for the competing models, we would compute expected values. In many data mining studies, the focus is on minimizing cost rather than maximizing profit, so the signs are reversed. Mathematically, there is no difference. However, it is important to pick one view and be consistent. An easy mistake in formulating const-benefit matrices is to **\"double count\"** by putting a benefit in one cell and a negative cost for the same thing in another cell. **One should be zero**"
   ]
  },
  {
   "cell_type": "code",
   "execution_count": 100,
   "metadata": {
    "collapsed": false
   },
   "outputs": [],
   "source": [
    "#fpr_nb, tpr_nb, threshold_nb = roc_curve(y_test, nb.predict_proba(X_test)[::,0], pos_label = 0)\n",
    "fpr_dt, tpr_dt, threshold_dt = roc_curve(y_test, dt.predict_proba(X_test)[::,0], pos_label = 0)\n",
    "#len(np.unique(np.array(nb.predict_proba(X_test)[:,1]))) == len(threshold_nb)"
   ]
  },
  {
   "cell_type": "code",
   "execution_count": 101,
   "metadata": {
    "collapsed": false
   },
   "outputs": [
    {
     "data": {
      "text/plain": [
       "u'Aplicar sobre el suelo en peque\\xf1os montones o cordones entre las l\\xedneas de siembra en los puntos a proteger, siendo conveniente que el suelo est\\xe9 h\\xfamedo para mayor actividad de estos par\\xe1sitos'"
      ]
     },
     "execution_count": 101,
     "metadata": {},
     "output_type": "execute_result"
    }
   ],
   "source": [
    "X_test[2]"
   ]
  },
  {
   "cell_type": "code",
   "execution_count": 104,
   "metadata": {
    "collapsed": false
   },
   "outputs": [
    {
     "data": {
      "text/plain": [
       "array([ 0.        ,  0.02232143,  0.10526316,  0.71428571,  0.875     ,\n",
       "        0.88888889,  1.        ])"
      ]
     },
     "execution_count": 104,
     "metadata": {},
     "output_type": "execute_result"
    }
   ],
   "source": [
    "np.unique(dt.predict_proba(X_test)[::,0])"
   ]
  },
  {
   "cell_type": "code",
   "execution_count": 102,
   "metadata": {
    "collapsed": false
   },
   "outputs": [
    {
     "name": "stdout",
     "output_type": "stream",
     "text": [
      "[ 0.          0.03529412  0.03529412  0.05882353  0.09411765  0.12941176\n",
      "  0.97647059  1.        ]\n",
      "\n",
      "[ 1.          0.34090909  0.27272727  0.13636364  0.04545455  0.02272727\n",
      "  0.          0.        ]\n",
      "\n",
      "[ 2.          1.          0.88888889  0.875       0.71428571  0.10526316\n",
      "  0.02232143  0.        ]\n"
     ]
    }
   ],
   "source": [
    "print fpr_dt\n",
    "print\n",
    "print 1 - tpr_dt\n",
    "print\n",
    "print threshold_dt"
   ]
  },
  {
   "cell_type": "code",
   "execution_count": 77,
   "metadata": {
    "collapsed": false
   },
   "outputs": [
    {
     "name": "stdout",
     "output_type": "stream",
     "text": [
      "[ 9787.23404255  9361.70212766  7872.34042553  7446.80851064  6596.96419305\n",
      "  5745.90036326  5107.60249092  4256.53866113  3831.00674624  3405.47483134\n",
      "  3193.92838609  1704.56668396  1705.78619616  1493.02023871  1494.23975091\n",
      "  1281.47379346  1283.91281785   858.38090296   862.03943954   436.50752465\n",
      "   440.16606124   227.40010379   254.22937208    41.46341463    47.56097561\n",
      "    51.2195122     56.09756098    64.63414634    67.07317073    75.6097561\n",
      "    78.04878049    81.70731707    85.36585366   100.        ]\n"
     ]
    },
    {
     "data": {
      "text/plain": [
       "array([ 9787.23404255,  9361.70212766,  7872.34042553,  7446.80851064,\n",
       "        6596.96419305,  5745.90036326,  5107.60249092,  4256.53866113,\n",
       "        3831.00674624,  3405.47483134,  3193.92838609,  1704.56668396,\n",
       "        1705.78619616,  1493.02023871,  1494.23975091,  1281.47379346,\n",
       "        1283.91281785,   858.38090296,   862.03943954,   436.50752465,\n",
       "         440.16606124,   227.40010379,   254.22937208,    41.46341463,\n",
       "          47.56097561,    51.2195122 ,    56.09756098,    64.63414634,\n",
       "          67.07317073,    75.6097561 ,    78.04878049,    81.70731707,\n",
       "          85.36585366,   100.        ])"
      ]
     },
     "execution_count": 77,
     "metadata": {},
     "output_type": "execute_result"
    }
   ],
   "source": [
    "cost_sensitive(fpr, tpr)"
   ]
  },
  {
   "cell_type": "code",
   "execution_count": 95,
   "metadata": {
    "collapsed": false
   },
   "outputs": [
    {
     "name": "stdout",
     "output_type": "stream",
     "text": [
      "[ 9787.23404255  9361.70212766  7872.34042553  7446.80851064  6656.72029061\n",
      "  5805.65646082  5167.35858848  4316.29475869  3890.7628438   3465.23092891\n",
      "  3313.44058121  1824.07887909  1885.05448884  1672.2885314   1733.26414115\n",
      "  1520.49818371  1642.44940322  1216.91748832  1399.84431759   974.3124027\n",
      "  1157.23923197   944.47327452  2285.93668915  2073.17073171  2378.04878049\n",
      "  2560.97560976  2804.87804878  3231.70731707  3353.65853659  3780.48780488\n",
      "  3902.43902439  4085.36585366  4268.29268293  5000.        ]\n",
      "[ 10000.           1794.23975091   1277.89309808   1065.12714063\n",
      "   1126.10275039   5000.        ]\n"
     ]
    },
    {
     "data": {
      "text/plain": [
       "<matplotlib.legend.Legend at 0x10fd9c4d0>"
      ]
     },
     "execution_count": 95,
     "metadata": {},
     "output_type": "execute_result"
    },
    {
     "data": {
      "image/png": "[encoded data removed]",
      "text/plain": [
       "<matplotlib.figure.Figure at 0x11531a390>"
      ]
     },
     "metadata": {},
     "output_type": "display_data"
    }
   ],
   "source": [
    "false_positive_cost = 50 # opportunity cost\n",
    "false_negative_cost = 100 # illegal cost \n",
    "budget = 1500\n",
    "\n",
    "def cost_sensitive(fpr, tpr):\n",
    "    print (fpr*100) * false_positive_cost + (100-(tpr*100)) * false_negative_cost\n",
    "    return (fpr*100) * false_positive_cost + (100-(tpr*100)) * false_negative_cost\n",
    "    \n",
    "    \n",
    "plt.figure(figsize = (8,6))\n",
    "plt.axhline(y=budget, xmin=0, xmax=1, hold=None, label=\"budget\")\n",
    "plt.plot(cost_sensitive(fpr_nb, tpr_nb), label=\"cost nb\")\n",
    "plt.plot(cost_sensitive(fpr_dt, tpr_dt), label=\"cost dt\")\n",
    "plt.legend(loc=\"top left\")"
   ]
  },
  {
   "cell_type": "markdown",
   "metadata": {},
   "source": [
    "# NER"
   ]
  },
  {
   "cell_type": "code",
   "execution_count": 390,
   "metadata": {
    "collapsed": true
   },
   "outputs": [],
   "source": [
    "import xml.etree.ElementTree as ET"
   ]
  },
  {
   "cell_type": "code",
   "execution_count": 399,
   "metadata": {
    "collapsed": false
   },
   "outputs": [],
   "source": [
    "import pymysql.cursors\n",
    "\n",
    "thesauro = []\n",
    "\n",
    "# Connect to the database\n",
    "connection = pymysql.connect(host='localhost',\n",
    "                             user='root',\n",
    "                             password='',\n",
    "                             db='fitosanitarios',\n",
    "                             charset='utf8')\n",
    "\n",
    "try:\n",
    "    with connection.cursor() as cursor:\n",
    "        sql = \"SELECT * FROM cultivosenfitosanitarios\"\n",
    "        cursor.execute(sql)\n",
    "        results = cursor.fetchall()\n",
    "        \n",
    "        for row in results:\n",
    "            thesauro.append((row[0],row[1]))\n",
    "finally:\n",
    "    connection.close()"
   ]
  },
  {
   "cell_type": "code",
   "execution_count": 464,
   "metadata": {
    "collapsed": false
   },
   "outputs": [],
   "source": [
    "import xml.etree.ElementTree as ET\n",
    "import codecs\n",
    "\n",
    "forbidden_tagged_sentences = []\n",
    "\n",
    "tree = ET.parse('/Users/b3j90/Downloads/MAE_v0.9.6/annotations/generales.xml')\n",
    "root = tree.getroot()\n",
    "\n",
    "obligations = root.findall('./TAGS/prohibition')\n",
    "for obligation in obligations:\n",
    "    forbidden_tagged_sentences.append((obligation.attrib[\"idcorpus\"],obligation.attrib[\"text\"]))#, cultivo.attrib[\"newReference\"]))\n",
    "    \n",
    "\n",
    "cultivosAnotados = []\n",
    "\n",
    "tree = ET.parse('/Users/b3j90/Downloads/MAE_v0.9.6/annotations/generales.xml')\n",
    "root = tree.getroot()\n",
    "\n",
    "cultivos = root.findall('./TAGS/cultivo')\n",
    "for cultivo in cultivos:\n",
    "    if cultivo.attrib[\"newReference\"] == \"no\" and not cultivo.attrib[\"text\"] == 'fruta':\n",
    "        cultivosAnotados.append((cultivo.attrib[\"idthesaurus\"], cultivo.attrib[\"idcorpus\"],cultivo.attrib[\"text\"]))#, cultivo.attrib[\"newReference\"]))"
   ]
  },
  {
   "cell_type": "code",
   "execution_count": 429,
   "metadata": {
    "collapsed": true
   },
   "outputs": [],
   "source": [
    "def divide(sentence, n):\n",
    "    ngrams = []\n",
    "    lWords = sentence.replace(',','').replace(')','').replace(\"'\",'').split(' ')\n",
    "    i = 0\n",
    "    while i < len(lWords)- (n-1):\n",
    "        j = 0\n",
    "        word = ''\n",
    "        while j < n:\n",
    "            word = word + lWords[i+j] + ' '\n",
    "            j = j +1\n",
    "        i = i+1\n",
    "        #print word\n",
    "        ngrams.append(word)\n",
    "    return ngrams\n",
    "\n",
    "def compare(s1):\n",
    "    stopwords = ['de', 'la', 'el', 'las', 'los', 'del']\n",
    "    for t in thesauro:\n",
    "        if len(s1) > 2:\n",
    "            if s1.strip().lower() == t[1].lower() or s1.strip().lower()[:-1] == t[1].lower() or s1.strip().lower()[:-2] == t[1].lower()\\\n",
    "            or s1.strip().lower() == t[1].lower()[:-1] or s1.strip().lower() == t[1].lower()[:-2]: # playing with plurals\n",
    "            \n",
    "                return t[0] # Identifier\n",
    "\n",
    "            #else:\n",
    "            #    score = 0\n",
    "            #    parts = [set(s1.strip().lower().split(' ')) - set(stopwords)]\n",
    "            #    partsTax = [set(t[1].lower().split(' ')) - set(stopwords)]\n",
    "            #    for part in parts:\n",
    "            #        if part in partsTax or part[:-1] in partsTax:\n",
    "            #            score += 1\n",
    "            #    if score != 0:\n",
    "            #        if  score / len(parts) >= 0.5:\n",
    "            #            return t[0]\n",
    "\n",
    "def evaluate(ner):\n",
    "    for gold in cultivosAnotados:\n",
    "        if gold[:-1] == ner[:-1]:\n",
    "            return True"
   ]
  },
  {
   "cell_type": "code",
   "execution_count": 468,
   "metadata": {
    "collapsed": false
   },
   "outputs": [],
   "source": [
    "# Accuracy: 0.846 in 13.75 minutes\n",
    "from time import time\n",
    "\n",
    "tp = 0\n",
    "fp = 0\n",
    "truePositives = []\n",
    "completed = []\n",
    "\n",
    "t0 = time()\n",
    "for cond in forbidden_tagged_sentences:\n",
    "                    \n",
    "    grams = divide(cond[1],1)\n",
    "    if grams is not None:\n",
    "        for g in grams:\n",
    "            res = compare(g)\n",
    "            if res is not None:\n",
    "                #print \"%s, %d\" % (cond[0], res)\n",
    "                ner = ( str(res),cond[0], g)\n",
    "                if (evaluate(ner)):\n",
    "                    if (str(res), cond[0]) not in completed:\n",
    "                        truePositives.append((g, cond[0]))\n",
    "                        completed.append((str(res), cond[0]))\n",
    "                        tp += 1\n",
    "                else:\n",
    "                    fp += 1\n",
    "\n",
    "t1 = time()                    "
   ]
  },
  {
   "cell_type": "code",
   "execution_count": 469,
   "metadata": {
    "collapsed": false
   },
   "outputs": [
    {
     "name": "stdout",
     "output_type": "stream",
     "text": [
      "Accuracy: 0.436 in 0.14 minutes\n",
      "Precision: 0.207\n",
      "Recall: 0.304\n"
     ]
    }
   ],
   "source": [
    "print \"Accuracy: %.3f in %.2f minutes\" % (tp * 1.0 /(len(cultivosAnotados)), (t1-t0) / 60)\n",
    "print \"Precision: %.3f\" % (tp * 1.0 /(tp + fp))\n",
    "print \"Recall: %.3f\" % (tp * 1.0 /(tp + len(cultivosAnotados)))"
   ]
  },
  {
   "cell_type": "markdown",
   "metadata": {},
   "source": [
    "# Global"
   ]
  },
  {
   "cell_type": "code",
   "execution_count": null,
   "metadata": {
    "collapsed": true
   },
   "outputs": [],
   "source": [
    "def loadGold(f):\n",
    "    condicionamientosGeneralesAnotados = []\n",
    "    condicionamientosGeneralesAnotadosSTR = []\n",
    "    tree = ET.parse('/Users/b3j90/Downloads/MAE_v0.9.6/rulesAnnotated/' + f)\n",
    "    root = tree.getroot()\n",
    "    cults = []\n",
    "    \n",
    "    obligations = root.findall('./TAGS/obligation')\n",
    "    for obligation in obligations:\n",
    "        if obligation.attrib[\"specific\"] == \"\":\n",
    "            condicionamientosGeneralesAnotados.append((obligation.attrib[\"text\"]))\n",
    "\n",
    "    prohibitions = root.findall('./TAGS/prohibition')\n",
    "    for prohibition in prohibitions:\n",
    "        if prohibition.attrib[\"specific\"] == \"\":\n",
    "            condicionamientosGeneralesAnotados.append((prohibition.attrib[\"text\"]))\n",
    "        \n",
    "    propositions = root.findall('./TAGS/proposition')\n",
    "    for proposition in propositions:\n",
    "        if proposition.attrib[\"specific\"] == \"\":\n",
    "            condicionamientosGeneralesAnotados.append((proposition.attrib[\"text\"]))\n",
    "        \n",
    "    permissions = root.findall('./TAGS/permission')\n",
    "    for permission in permissions:\n",
    "        if permission.attrib[\"specific\"] == \"\":\n",
    "            condicionamientosGeneralesAnotados.append((permission.attrib[\"text\"]))\n",
    "    \n",
    "    cultivos = root.findall('./TAGS/cultivo')\n",
    "    for cultivo in cultivos:\n",
    "        cults.append((cultivo.attrib[\"idthesaurus\"]))    \n",
    "        \n",
    "    for condicionamientosGeneralesAnotado in condicionamientosGeneralesAnotados:\n",
    "        condicionamientosGeneralesAnotadosSTR.append(condicionamientosGeneralesAnotado.encode('utf-8'))\n",
    "        \n",
    "    return condicionamientosGeneralesAnotadosSTR, cults"
   ]
  },
  {
   "cell_type": "code",
   "execution_count": null,
   "metadata": {
    "collapsed": true
   },
   "outputs": [],
   "source": [
    "import re\n",
    "\n",
    "def clean(generales):\n",
    "    cleanD = {}\n",
    "    if re.search(\"B.O.E.\", generales) is not None:\n",
    "        cleanD[\"BOE\"] = True\n",
    "        generales = re.sub(\"B.O.E.\",\"BOE\",generales)\n",
    "    else:\n",
    "        cleanD[\"BOE\"] = False\n",
    "    if re.search(\"O.M.\", generales) is not None:\n",
    "        cleanD[\"OM\"] = True\n",
    "        generales = re.sub(\"O.M.\",\"OM\",generales)\n",
    "    else:\n",
    "        cleanD[\"OM\"] = False\n",
    "        \n",
    "    if re.search(\"cm\\\\.\", generales) is not None:\n",
    "        cleanD[\"CM\"] = True\n",
    "        generales = re.sub(\"cm\\\\.\", \"cm\", generales)\n",
    "    else:\n",
    "        cleanD[\"CM\"] = False\n",
    "        \n",
    "    if re.search(\"/Qm.\", generales) is not None:\n",
    "        cleanD[\"QM\"] = True\n",
    "        generales = re.sub(\"Qm.\", \"Qm\", generales)\n",
    "    else:\n",
    "        cleanD[\"QM\"] = False\n",
    "        \n",
    "    if re.search(\"/Ha\\.{1}\", generales) is not None:\n",
    "        print \"PEPE\"\n",
    "        cleanD[\"HA\"] = True\n",
    "        generales = re.sub(\"/Ha.\", \"/Ha\", generales)\n",
    "    else:\n",
    "        cleanD[\"HA\"] = False\n",
    "              \n",
    "    number =  re.search('[0-9]+ l\\.', generales)\n",
    "    if number is not None:\n",
    "        print \"LITRESS\"\n",
    "        cleanD[\"LITRES\"] = number.group(0)\n",
    "        generales = re.sub(number.group(0), number.group(0).replace('.',''), generales)\n",
    "    else:\n",
    "        cleanD[\"LITRES\"] = None\n",
    "        \n",
    "    if re.search(\"\\n\", generales) is not None:\n",
    "        generales = re.sub(\"\\n.+\",\"\", generales)\n",
    "        \n",
    "    if re.search(\"# P.S.: \", generales) is not None:\n",
    "        generales = re.sub(\"# P.S.: \",\"\", generales)\n",
    "        \n",
    "    if re.search(\"P.S.: \", generales) is not None:\n",
    "        generales = re.sub(\"P.S.: \",\"\", generales)\n",
    "        \n",
    "        \n",
    "    if re.search(\"[a-z] En \", generales) is not None:\n",
    "        generales = re.sub(\"[a-z] En \",\". En \", generales)\n",
    "        \n",
    "    number =  re.search(r'\\d+\\.\\d+', generales)\n",
    "    if number is not None:\n",
    "        print \"NUMBER\"\n",
    "        cleanD[\"NUMBER\"] = number.group(0)\n",
    "        generales = re.sub(number.group(0), number.group(0).replace('.',''), generales)\n",
    "    else:\n",
    "        cleanD[\"NUMBER\"] = None\n",
    "        \n",
    "    number =  re.search(r'\\d+\\.\\d+', generales)\n",
    "    if number is not None:\n",
    "        print \"NUMBER_2\"\n",
    "        cleanD[\"NUMBER_2\"] = number.group(0)\n",
    "        generales = re.sub(number.group(0), number.group(0).replace('.',''), generales)\n",
    "    else:\n",
    "        cleanD[\"NUMBER_2\"] = None\n",
    "\n",
    "    return generales, cleanD              \n",
    "\n",
    "\n",
    "def fix(sentence, cleanD):\n",
    "    \n",
    "    if (cleanD[\"OM\"] == True):\n",
    "        sentence = re.sub(\"OM\", \"O.M.\", sentence)\n",
    "        \n",
    "    if (cleanD[\"BOE\"] == True):\n",
    "        sentence = re.sub(\"BOE\",\"B.O.E\", sentence)\n",
    "        \n",
    "    if (cleanD[\"CM\"] == True):\n",
    "        sentence = re.sub(\"cm\",\"cm.\", sentence)\n",
    "        \n",
    "    if (cleanD[\"QM\"] == True):\n",
    "        sentence = re.sub(\"/Qm\",\"/Qm.\", sentence)\n",
    "        \n",
    "    if (cleanD[\"HA\"] == True):\n",
    "        sentence = re.sub(\"/Ha\",\"/Ha.\", sentence)\n",
    "        \n",
    "    if (cleanD[\"NUMBER\"] is not None):\n",
    "        sentence = re.sub(cleanD[\"NUMBER\"].replace('.',''),cleanD[\"NUMBER\"], sentence)\n",
    "        \n",
    "    if (cleanD[\"NUMBER_2\"] is not None):\n",
    "        sentence = re.sub(cleanD[\"NUMBER_2\"].replace('.',''),cleanD[\"NUMBER_2\"], sentence)\n",
    "        \n",
    "    if (cleanD[\"LITRES\"] is not None):\n",
    "        sentence = re.sub(cleanD[\"LITRES\"].replace('.',''),cleanD[\"LITRES\"], sentence)      \n",
    "\n",
    "    return sentence"
   ]
  },
  {
   "cell_type": "code",
   "execution_count": null,
   "metadata": {
    "collapsed": true
   },
   "outputs": [],
   "source": [
    "def evaluateGenerales(generales, condicionamientosGeneralesAnotados, cultivos, clf, vectorizer):\n",
    "    fp = 0\n",
    "    tp = 0\n",
    "    fn = 0\n",
    "    #print '+++++++++++++++++++++++++++'\n",
    "    #for cg in condicionamientosGeneralesAnotados:\n",
    "    #    print cg\n",
    "    #print '+++++++++++++++++++++++++++'\n",
    "    \n",
    "    countGenerales = 0\n",
    "    generales, cleanD = clean(generales)\n",
    "    #print \"===========================\"\n",
    "    #print generales\n",
    "    #print \"===========================\"\n",
    "\n",
    "    outlier = False\n",
    "    sen = 0\n",
    "    prunedPerDocument = set()\n",
    "    for general in generales.split('.')[:-1]:\n",
    "        if not general.startswith('\\n') and len(general) > 1:\n",
    "            sen+=1\n",
    "            general = fix(general, cleanD)\n",
    "            #print \"general: \" + general\n",
    "            countGenerales += 1\n",
    "            if general[0] == ' ':\n",
    "                general = general[1:]\n",
    "            if general is not None:\n",
    "                if not general.encode('utf-8') in condicionamientosGeneralesAnotados:\n",
    "                    if not general in condicionamientosGeneralesAnotados:\n",
    "                        if general[-2:] == \"/H\":\n",
    "                            outlier = True\n",
    "                            #tp += 1\n",
    "                        else:\n",
    "                            print \"FASE POSITIVE: \" + general\n",
    "                            #fp +=1\n",
    "                    else:\n",
    "                        #NER\n",
    "                        print \"NER_2\"\n",
    "                        prune =  NER(general,3)\n",
    "                        print \"========= CULTIVOS =========\"\n",
    "                        print cultivos\n",
    "                        prunedPerDocument = prunedPerDocument.union(prune)\n",
    "                else:\n",
    "                    #NER + DEONTIC\n",
    "                    if (clf.predict(vectorizer.transform([general]).toarray())[0] == 0): # prohibited\n",
    "                        #print \"NER_1\"\n",
    "                        prune =  NER(general,3)\n",
    "                        #print \"========= PRUNE =========\"\n",
    "                        #print prune\n",
    "                        #print \"============================\"\n",
    "                        prunedPerDocument = prunedPerDocument.union(prune)\n",
    "                        #print \"========= CULTIVOS =========\"\n",
    "                        #print set(cultivos)\n",
    "                        #print prunedPerDocument\n",
    "                        #print \"========= CULTIVOS =========\"\n",
    "                        #if len(set(cultivos) & prune) >= 1:\n",
    "            #print \"PRUNED PER DOCUMENT\"\n",
    "            #print prunedPerDocument\n",
    "            prunedPerDocument = prunedPerDocument - set(['103010102020300', '102010000000000', '104010400000000','102010000000000','103020101030000','103000000000000','104020107000000', '104010700000000', '103010102020400', \\\n",
    "                                                         '102010211010200','105010000000000','104010503000000','102020503000000'])\n",
    "            tp = len(set(cultivos) & prunedPerDocument)\n",
    "            fp = len(prunedPerDocument - set(cultivos))\n",
    "            fn = len(set(cultivos) - prunedPerDocument)    \n",
    "                \n",
    "\n",
    "    return tp, fp, fn"
   ]
  },
  {
   "cell_type": "markdown",
   "metadata": {},
   "source": [
    "## Reproducibility\n",
    "\n",
    "Ensuring that our work is reproducible is the last and most important step in any analysis. **As a rule, we should't place much weith on a discovery that can't be reproduced**. As such, if our analysis isn't reproducible, we might as wll not have done int."
   ]
  },
  {
   "cell_type": "code",
   "execution_count": 37,
   "metadata": {
    "collapsed": false
   },
   "outputs": [
    {
     "name": "stdout",
     "output_type": "stream",
     "text": [
      "Installed watermark.py. To use it, type:\n",
      "  %load_ext watermark\n"
     ]
    },
    {
     "name": "stderr",
     "output_type": "stream",
     "text": [
      "/Users/b3j90/anaconda/envs/paper_agriculture/lib/python2.7/site-packages/IPython/core/magics/extension.py:47: UserWarning: %install_ext` is deprecated, please distribute your extension(s)as a python packages.\n",
      "  \"as a python packages.\", UserWarning)\n"
     ]
    }
   ],
   "source": [
    "%install_ext https://raw.githubusercontent.com/rasbt/watermark/master/watermark.py"
   ]
  },
  {
   "cell_type": "code",
   "execution_count": 471,
   "metadata": {
    "collapsed": true
   },
   "outputs": [],
   "source": [
    "%load_ext watermark"
   ]
  },
  {
   "cell_type": "code",
   "execution_count": 474,
   "metadata": {
    "collapsed": false
   },
   "outputs": [
    {
     "name": "stdout",
     "output_type": "stream",
     "text": [
      "Borja Espejo Wed Nov 18 2015 \n",
      "\n",
      "CPython 2.7.10\n",
      "IPython 4.0.0\n",
      "\n",
      "numpy 1.10.1\n",
      "scikit-learn 0.17\n",
      "matplotlib 1.5.0\n",
      "Seaborn 0.6.0\n",
      "pandas 0.17.0\n",
      "PyMySQL 0.6.7\n",
      "\n",
      "compiler   : GCC 4.2.1 (Apple Inc. build 5577)\n",
      "system     : Darwin\n",
      "release    : 12.5.0\n",
      "machine    : x86_64\n",
      "processor  : i386\n",
      "CPU cores  : 4\n",
      "interpreter: 64bit\n"
     ]
    }
   ],
   "source": [
    "%watermark -a 'Borja Espejo' -nmv --packages numpy,scikit-learn,matplotlib,Seaborn,pandas,PyMySQL"
   ]
  },
  {
   "cell_type": "code",
   "execution_count": null,
   "metadata": {
    "collapsed": true
   },
   "outputs": [],
   "source": []
  }
 ],
 "metadata": {
  "kernelspec": {
   "display_name": "Python 3",
   "language": "python",
   "name": "python3"
  },
  "language_info": {
   "codemirror_mode": {
    "name": "ipython",
    "version": 3
   },
   "file_extension": ".py",
   "mimetype": "text/x-python",
   "name": "python",
   "nbconvert_exporter": "python",
   "pygments_lexer": "ipython3",
   "version": "3.5.1"
  }
 },
 "nbformat": 4,
 "nbformat_minor": 0
}
