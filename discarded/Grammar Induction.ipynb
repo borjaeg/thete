{
 "cells": [
  {
   "cell_type": "code",
   "execution_count": 1,
   "metadata": {
    "collapsed": true
   },
   "outputs": [],
   "source": [
    "from sklearn.base import BaseEstimator, ClassifierMixin\n",
    "import re\n",
    "\n",
    "class ProhibitionGrammarClassifier(BaseEstimator, ClassifierMixin):\n",
    "    \n",
    "    def fit(self, X, y=None):\n",
    "        self.grammar_ = re.compile(r\"Evitar.*|No.*|Advertir.*|En la[s]? etiqueta.*|Deber.*\")\n",
    "        \n",
    "        return self\n",
    "    \n",
    "    def _match(self, rule):\n",
    "        if self.grammar_.search(rule) is not None:\n",
    "            return 1\n",
    "        return 0\n",
    "    \n",
    "    def predict(self, X, y=None):\n",
    "        try:\n",
    "            getattr(self, \"grammar_\")\n",
    "        except AttributeError:\n",
    "            raise RuntimeError(\"You must train classifer before predicting data!\")\n",
    "            \n",
    "        return([self._match(x) for x in X])\n",
    "            \n",
    "    def score(self, X, y=None):\n",
    "        return(sum(self.predict(X)))"
   ]
  },
  {
   "cell_type": "code",
   "execution_count": null,
   "metadata": {
    "collapsed": true
   },
   "outputs": [],
   "source": [
    "models = [#(\"Grammar\", ProhibitionGrammarClassifier),\n",
    "          #(\"Decision Tree\", DecisionTreeClassifier), \n",
    "          (\"Random Forest\", RandomForestClassifier),\n",
    "          (\"Naive Bayes\", MultinomialNB),\n",
    "          (\"SVM\", SVC),\n",
    "          (\"Always Prohibition\", DummyClassifier),\n",
    "          ]\n",
    "\n",
    "recall_avg, recall_std, precision_avg, precision_std = init()\n",
    "\n",
    "for estimator in models:\n",
    "    for cost in costs:\n",
    "        if estimator[0] == \"Naive Bayes\":\n",
    "            model = estimator[1](class_prior=[1/cost, (cost-1)/cost], fit_prior= False)\n",
    "        elif estimator[0] == \"Random Forest\":\n",
    "            model = estimator[1](class_weight={1:cost-1}, n_estimators = 20)\n",
    "        elif estimator[0] == \"SVM\":\n",
    "            model = estimator[1](class_weight={1:cost-1}, kernel = \"linear\", C = 0.1)\n",
    "        elif estimator[0] == \"Always Prohibition\":\n",
    "            model = estimator[1](strategy = \"constant\", random_state = 2016, constant=1)\n",
    "        elif estimator[0] == \"Grammar\":\n",
    "            model = estimator[1]()\n",
    "        else:\n",
    "            model = estimator[1](class_weight={1:cost-1})\n",
    "        precisions = []\n",
    "        recalls = []\n",
    "        for train_index, test_index in sss:\n",
    "            if estimator[0] != \"Grammar\":\n",
    "                X_train, X_test = extractor.transform(X)[train_index], extractor.transform(X)[test_index]\n",
    "                y_train, y_test = y[train_index], y[test_index]\n",
    "                model.fit(X_train, y_train)\n",
    "                precisions.append(precision_score(y_test, model.predict(X_test), pos_label=1))\n",
    "                recalls.append(recall_score(y_test, model.predict(X_test), pos_label=1))\n",
    "            else:\n",
    "                X_train, X_test = np.array(X)[train_index], np.array(X)[test_index]\n",
    "                y_train, y_test = y[train_index], y[test_index]\n",
    "                model.fit(X_train, y_train)\n",
    "                precisions.append(precision_score(y_test, model.predict(X_test), pos_label=1))\n",
    "                recalls.append(recall_score(y_test, model.predict(X_test), pos_label=1))\n",
    "        recall_avg[estimator[0]].append(np.average(recalls))\n",
    "        recall_std[estimator[0]].append(np.std(recalls))\n",
    "        precision_avg[estimator[0]].append(np.average(precisions))\n",
    "        precision_std[estimator[0]].append(np.std(precisions))"
   ]
  }
 ],
 "metadata": {
  "kernelspec": {
   "display_name": "Python 3",
   "language": "python",
   "name": "python3"
  },
  "language_info": {
   "codemirror_mode": {
    "name": "ipython",
    "version": 3
   },
   "file_extension": ".py",
   "mimetype": "text/x-python",
   "name": "python",
   "nbconvert_exporter": "python",
   "pygments_lexer": "ipython3",
   "version": "3.5.1"
  }
 },
 "nbformat": 4,
 "nbformat_minor": 0
}
