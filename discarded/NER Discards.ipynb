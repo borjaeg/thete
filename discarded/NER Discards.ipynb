{
 "cells": [
  {
   "cell_type": "code",
   "execution_count": 1,
   "metadata": {
    "collapsed": true
   },
   "outputs": [],
   "source": [
    "import xml.etree.ElementTree as ET\n",
    "import pymysql.cursors"
   ]
  },
  {
   "cell_type": "code",
   "execution_count": null,
   "metadata": {
    "collapsed": true
   },
   "outputs": [],
   "source": [
    "thesauro = []\n",
    "\n",
    "# Connect to the database\n",
    "connection = pymysql.connect(host='localhost',\n",
    "                             user='root',\n",
    "                             password='',\n",
    "                             db='fitosanitarios',\n",
    "                             charset='utf8')\n",
    "\n",
    "try:\n",
    "    with connection.cursor() as cursor:\n",
    "        sql = \"SELECT * FROM cultivosenfitosanitarios\"\n",
    "        cursor.execute(sql)\n",
    "        results = cursor.fetchall()\n",
    "        \n",
    "        for row in results:\n",
    "            thesauro.append((row[0],row[1]))\n",
    "finally:\n",
    "    connection.close()"
   ]
  },
  {
   "cell_type": "code",
   "execution_count": null,
   "metadata": {
    "collapsed": true
   },
   "outputs": [],
   "source": [
    "import xml.etree.ElementTree as ET\n",
    "import codecs\n",
    "\n",
    "forbidden_tagged_sentences = []\n",
    "\n",
    "tree = ET.parse('/Users/b3j90/Downloads/MAE_v0.9.6/annotations/generales.xml')\n",
    "root = tree.getroot()\n",
    "\n",
    "obligations = root.findall('./TAGS/prohibition')\n",
    "for obligation in obligations:\n",
    "    forbidden_tagged_sentences.append((\\\n",
    "            obligation.attrib[\"idcorpus\"],obligation.attrib[\"text\"]))#, cultivo.attrib[\"newReference\"]))\n",
    "    \n",
    "\n",
    "cultivosAnotados = []\n",
    "\n",
    "tree = ET.parse('/Users/b3j90/Downloads/MAE_v0.9.6/annotations/generales.xml')\n",
    "root = tree.getroot()\n",
    "\n",
    "cultivos = root.findall('./TAGS/cultivo')\n",
    "for cultivo in cultivos:\n",
    "    if cultivo.attrib[\"newReference\"] == \"no\" and not cultivo.attrib[\"text\"] == 'fruta':\n",
    "        cultivosAnotados.append((cultivo.attrib[\"idthesaurus\"], \\\n",
    "                                 cultivo.attrib[\"idcorpus\"],cultivo.attrib[\"text\"]))#, cultivo.attrib[\"newReference\"]))"
   ]
  },
  {
   "cell_type": "code",
   "execution_count": null,
   "metadata": {
    "collapsed": true
   },
   "outputs": [],
   "source": [
    "def divide(sentence, n):\n",
    "    ngrams = []\n",
    "    lWords = sentence.replace(',','').replace(')','').replace(\"'\",'').split(' ')\n",
    "    i = 0\n",
    "    while i < len(lWords)- (n-1):\n",
    "        j = 0\n",
    "        word = ''\n",
    "        while j < n:\n",
    "            word = word + lWords[i+j] + ' '\n",
    "            j = j +1\n",
    "        i = i+1\n",
    "        #print word\n",
    "        ngrams.append(word)\n",
    "    return ngrams\n",
    "\n",
    "def compare(s1):\n",
    "    stopwords = ['de', 'la', 'el', 'las', 'los', 'del']\n",
    "    for t in thesauro:\n",
    "        if len(s1) > 2:\n",
    "            if s1.strip().lower() == t[1].lower() \\\n",
    "            or s1.strip().lower()[:-1] == t[1].lower() \\\n",
    "            or s1.strip().lower()[:-2] == t[1].lower() \\\n",
    "            or s1.strip().lower() == t[1].lower()[:-1] \\\n",
    "            or s1.strip().lower() == t[1].lower()[:-2]: # playing with plurals\n",
    "            \n",
    "                return t[0] # Identifier\n",
    "\n",
    "def evaluate(ner):\n",
    "    for gold in cultivosAnotados:\n",
    "        if gold[:-1] == ner[:-1]:\n",
    "            return True"
   ]
  },
  {
   "cell_type": "code",
   "execution_count": null,
   "metadata": {
    "collapsed": true
   },
   "outputs": [],
   "source": [
    "# Accuracy: 0.846 in 13.75 minutes\n",
    "tp = 0\n",
    "fp = 0\n",
    "truePositives = []\n",
    "completed = []\n",
    "\n",
    "t0 = time()\n",
    "for cond in forbidden_tagged_sentences:\n",
    "    grams = divide(cond[1],1)\n",
    "    if grams is not None:\n",
    "        for g in grams:\n",
    "            res = compare(g)\n",
    "            if res is not None:\n",
    "                ner = ( str(res),cond[0], g)\n",
    "                if (evaluate(ner)):\n",
    "                    if (str(res), cond[0]) not in completed:\n",
    "                        truePositives.append((g, cond[0]))\n",
    "                        completed.append((str(res), cond[0]))\n",
    "                        tp += 1\n",
    "                else:\n",
    "                    if not str(res).startswith('3'):\n",
    "                        fp += 1\n",
    "            else:\n",
    "                \n",
    "\n",
    "t1 = time()\n",
    "print(\"Accuracy: %.3f in %.2f minutes\" % (tp * 1.0 /(len(cultivosAnotados)), (t1-t0) / 60))\n",
    "print(\"Precision: %.3f\" % (tp * 1.0 /(tp + fp)))\n",
    "print(\"Recall: %.3f\" % (tp * 1.0 /(tp + len(cultivosAnotados))))"
   ]
  }
 ],
 "metadata": {
  "kernelspec": {
   "display_name": "Python 3",
   "language": "python",
   "name": "python3"
  },
  "language_info": {
   "codemirror_mode": {
    "name": "ipython",
    "version": 3
   },
   "file_extension": ".py",
   "mimetype": "text/x-python",
   "name": "python",
   "nbconvert_exporter": "python",
   "pygments_lexer": "ipython3",
   "version": "3.5.1"
  }
 },
 "nbformat": 4,
 "nbformat_minor": 0
}
