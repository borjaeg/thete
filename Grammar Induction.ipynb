{
 "cells": [
  {
   "cell_type": "code",
   "execution_count": 1,
   "metadata": {
    "collapsed": true
   },
   "outputs": [],
   "source": [
    "from sklearn.base import BaseEstimator, ClassifierMixin\n",
    "import re\n",
    "\n",
    "class ProhibitionGrammarClassifier(BaseEstimator, ClassifierMixin):\n",
    "    \n",
    "    def fit(self, X, y=None):\n",
    "        self.grammar_ = re.compile(r\"Evitar.*|No.*|Advertir.*|En la[s]? etiqueta.*|Deber.*\")\n",
    "        \n",
    "        return self\n",
    "    \n",
    "    def _match(self, rule):\n",
    "        if self.grammar_.search(rule) is not None:\n",
    "            return 1\n",
    "        return 0\n",
    "    \n",
    "    def predict(self, X, y=None):\n",
    "        try:\n",
    "            getattr(self, \"grammar_\")\n",
    "        except AttributeError:\n",
    "            raise RuntimeError(\"You must train classifer before predicting data!\")\n",
    "            \n",
    "        return([self._match(x) for x in X])\n",
    "            \n",
    "    def score(self, X, y=None):\n",
    "        return(sum(self.predict(X)))"
   ]
  },
  {
   "cell_type": "code",
   "execution_count": null,
   "metadata": {
    "collapsed": true
   },
   "outputs": [],
   "source": []
  }
 ],
 "metadata": {
  "kernelspec": {
   "display_name": "Python 3",
   "language": "python",
   "name": "python3"
  },
  "language_info": {
   "codemirror_mode": {
    "name": "ipython",
    "version": 3
   },
   "file_extension": ".py",
   "mimetype": "text/x-python",
   "name": "python",
   "nbconvert_exporter": "python",
   "pygments_lexer": "ipython3",
   "version": "3.5.1"
  }
 },
 "nbformat": 4,
 "nbformat_minor": 0
}
