{
 "cells": [
  {
   "cell_type": "code",
   "execution_count": null,
   "metadata": {
    "collapsed": true
   },
   "outputs": [],
   "source": [
    "# General imports\n",
    "%matplotlib inline\n",
    "import warnings\n",
    "warnings.filterwarnings('ignore')\n",
    "import collections\n",
    "import os\n",
    "from time import time\n",
    "\n",
    "# Data Science\n",
    "import matplotlib.pyplot as plt\n",
    "import numpy as np\n",
    "import pandas as pd\n",
    "#import seaborn as sb\n",
    "\n",
    "# Natural Language processing\n",
    "import nltk\n",
    "\n",
    "# Algorithms / estimators\n",
    "from sklearn.naive_bayes import MultinomialNB\n",
    "from sklearn.ensemble import RandomForestClassifier\n",
    "from sklearn.tree import DecisionTreeClassifier\n",
    "from sklearn.svm import SVC\n",
    "from sklearn.dummy import DummyClassifier\n",
    "\n",
    "# Metrics\n",
    "from sklearn.metrics import classification_report\n",
    "from sklearn.metrics import precision_score\n",
    "from sklearn.metrics import recall_score\n",
    "from sklearn.metrics import confusion_matrix\n",
    "from sklearn.metrics import roc_curve\n",
    "from sklearn.metrics import precision_recall_curve\n",
    "from sklearn.metrics import auc\n",
    "\n",
    "# Feature Extraction\n",
    "from sklearn.feature_extraction.text import TfidfVectorizer\n",
    "\n",
    "# Process\n",
    "from sklearn.cross_validation import StratifiedShuffleSplit\n",
    "from sklearn.cross_validation import train_test_split\n",
    "from sklearn.cross_validation import StratifiedKFold\n",
    "from scipy import interp\n",
    "\n",
    "# Corpus\n",
    "from documentModel import DocumentModel as DM\n",
    "from export_results import *\n",
    "\n",
    "from scipy import stats\n",
    "\n",
    "def is_significant(model_1, model_2, significance = 0.05):\n",
    "    \n",
    "    p_value = stats.wilcoxon(recall_avg[model_1], recall_avg[model_2])[1]\n",
    "    print(p_value)\n",
    "    if p_value < significance:\n",
    "        print(\"It is statically significant\")\n",
    "    else:    \n",
    "        print(\"It is NOT statically significant\")\n",
    "\n",
    "def save_image(image, url='../images/', name = 'default'):\n",
    "    image.savefig(url + name)    "
   ]
  },
  {
   "cell_type": "code",
   "execution_count": null,
   "metadata": {
    "collapsed": true
   },
   "outputs": [],
   "source": [
    "stop_words = ['a', 'bajo', 'en', 'para','un', 'la', 'el', 'los', 'las', 'su', 'sus', 'través', 'al','con', \\\n",
    "             'más', 'muy', 'cual', 'poco', 'que']\n",
    "\n",
    "print(\"Transforming annotated files into training datasets...\")\n",
    "dm = DM()\n",
    "fito_dataset = dm.get_sentences(0)\n",
    "X, y = fito_dataset[\"data\"], fito_dataset[\"target\"]\n",
    "\n",
    "print(\"OK\")"
   ]
  },
  {
   "cell_type": "code",
   "execution_count": null,
   "metadata": {
    "collapsed": true
   },
   "outputs": [],
   "source": [
    "import itertools\n",
    "\n",
    "fn_c = [1, 5, 10]\n",
    "fp_c = [1, 5, 10]\n",
    "\n",
    "colors = \"rgbmy\"\n",
    "i = 1\n",
    "plt.figure(figsize=(18, 22))\n",
    "\n",
    "for element in itertools.product(fn_c, fp_c):\n",
    "    plt.subplot(3,3,i)\n",
    "    for model, color in zip(models, colors):\n",
    "        fpr = 1 - np.array(precision_avg[model[0]])\n",
    "        fnr = 1 - np.array(recall_avg[model[0]])\n",
    "        cost = np.add(fpr * element[1], fnr * element[0])\n",
    "        plt.plot(costs, cost, \n",
    "                 color=color, label=model[0])\n",
    "        plt.xlabel(\"fn: %s fp:%s\" % (element[0], element[1]))\n",
    "        plt.xlim([2, 30])\n",
    "        plt.title(\"COST\")\n",
    "    i += 1\n",
    "\n",
    "    plt.ylabel(\"COST\")\n",
    "    plt.legend(loc='better')\n",
    "plt.show()"
   ]
  },
  {
   "cell_type": "markdown",
   "metadata": {},
   "source": [
    "## Chaining PCA and Naïve Bayes"
   ]
  },
  {
   "cell_type": "code",
   "execution_count": null,
   "metadata": {
    "collapsed": true
   },
   "outputs": [],
   "source": [
    "from sklearn import decomposition\n",
    "from sklearn.naive_bayes import BernoulliNB\n",
    "import itertools\n",
    "import time\n",
    "\n",
    "costs = np.arange(1, 21, 1)\n",
    "n_components = np.arange(1, 500, 25)\n",
    "recalls_pca = []\n",
    "precisions_pca = []\n",
    "\n",
    "data_pca = []\n",
    "\n",
    "#for element in itertools.product(costs, n_components):\n",
    "t0 = time.time()\n",
    "for element in itertools.product(costs, n_components):\n",
    "    bayes = BernoulliNB(class_prior=[1, element[0]])\n",
    "    pca = decomposition.PCA(n_components=element[1])\n",
    "    x_new = pca.fit_transform(extractor.transform(X).toarray())\n",
    "    bayes.fit(x_new, y)\n",
    "    recall = recall_score(y, bayes.predict(x_new))\n",
    "    precision = precision_score(y, bayes.predict(x_new))\n",
    "    data_pca.append((element[0], element[1], recall))\n",
    "    recalls_pca.append(recall)\n",
    "    precisions_pca.append(precision)\n",
    "t1 = time.time()"
   ]
  },
  {
   "cell_type": "code",
   "execution_count": null,
   "metadata": {
    "collapsed": true
   },
   "outputs": [],
   "source": [
    "from mpl_toolkits.mplot3d import Axes3D\n",
    "fig = plt.figure(figsize=(18,6))\n",
    "\n",
    "X_t, Y_t = np.meshgrid(costs, n_components)\n",
    "recalls_t_pca = np.array(recalls_pca).reshape(X_t.shape)\n",
    "precisions_t_pca = np.array(precisions_pca).reshape(X_t.shape)\n",
    "ax = fig.add_subplot(1, 2, 1, projection='3d')\n",
    "p = ax.plot_surface(costs, n_components, recalls_t_pca, cmap=cm.coolwarm)\n",
    "ax = fig.add_subplot(1, 2, 2, projection='3d')\n",
    "ax.view_init(azim=-0, elev = 60)\n",
    "p = ax.plot_surface(costs, n_components, recalls_t_pca, cmap=cm.coolwarm)\n",
    "cb = fig.colorbar(p, shrink=0.5)\n",
    "plt.show()"
   ]
  },
  {
   "cell_type": "code",
   "execution_count": null,
   "metadata": {
    "collapsed": true
   },
   "outputs": [],
   "source": [
    "plt.figure(figsize=(16, 6))\n",
    "plt.subplot(1,2,1)\n",
    "plt.subplots_adjust(left=.2, right=0.95, bottom=0.15, top=0.95)\n",
    "plt.imshow(np.array(recalls_t_pca).T, interpolation='nearest', cmap=plt.cm.hot)\n",
    "plt.xlabel('costs')\n",
    "plt.ylabel('n_components')\n",
    "plt.colorbar()\n",
    "plt.xticks(np.arange(len(costs)), costs, rotation=45)\n",
    "plt.yticks(np.arange(len(n_components)), n_components)\n",
    "plt.title('Recall')\n",
    "\n",
    "plt.subplot(1,2,2)\n",
    "plt.subplots_adjust(left=.2, right=0.95, bottom=0.15, top=0.95)\n",
    "plt.imshow(np.array(precisions_t_pca).T, interpolation='nearest', cmap=plt.cm.hot)\n",
    "plt.xlabel('costs')\n",
    "plt.ylabel('n_components')\n",
    "plt.xticks(np.arange(len(costs)), costs, rotation=45)\n",
    "plt.yticks(np.arange(len(n_components)), n_components)\n",
    "plt.title('Precision')\n",
    "plt.colorbar()\n",
    "\n",
    "plt.show()"
   ]
  },
  {
   "cell_type": "markdown",
   "metadata": {},
   "source": [
    "## Chaining Feature Selection (Supervised) and Naïve Bayes"
   ]
  },
  {
   "cell_type": "code",
   "execution_count": null,
   "metadata": {
    "collapsed": true
   },
   "outputs": [],
   "source": [
    "from sklearn.feature_selection import SelectKBest, chi2\n",
    "from sklearn.naive_bayes import MultinomialNB\n",
    "import itertools\n",
    "import time\n",
    "\n",
    "costs = np.arange(1, 21, 1)\n",
    "n_components = np.arange(1, 500, 25)\n",
    "recalls_sel = []\n",
    "precisions_sel = []\n",
    "\n",
    "data_sel = []\n",
    "\n",
    "t0 = time.time()\n",
    "for element in itertools.product(costs, n_components):\n",
    "    bayes = MultinomialNB(class_prior=[1, element[0]])\n",
    "    sel = SelectKBest(chi2, k=element[1])\n",
    "    x_new = sel.fit_transform(extractor.transform(X).toarray(),y)\n",
    "    bayes.fit(x_new, y)\n",
    "    recall = recall_score(y, bayes.predict(x_new))\n",
    "    data_sel.append((element[0], element[1], recall))\n",
    "    recalls_sel.append(recall)\n",
    "    precisions_sel.append(precision)\n",
    "t1 = time.time()"
   ]
  },
  {
   "cell_type": "code",
   "execution_count": null,
   "metadata": {
    "collapsed": true
   },
   "outputs": [],
   "source": [
    "from mpl_toolkits.mplot3d import Axes3D\n",
    "fig = plt.figure(figsize=(18,6))\n",
    "\n",
    "X_t, Y_t = np.meshgrid(costs, n_components)\n",
    "recalls_t_sel = np.array(recalls_sel).reshape(X_t.shape)\n",
    "precisions_t_sel = np.array(precisions_sel).reshape(X_t.shape)\n",
    "ax = fig.add_subplot(1, 2, 1, projection='3d')\n",
    "p = ax.plot_surface(costs, n_components, recalls_t_sel, cmap=cm.coolwarm)\n",
    "ax = fig.add_subplot(1, 2, 2, projection='3d')\n",
    "ax.view_init(azim=-0, elev = 60)\n",
    "p = ax.plot_surface(costs, n_components, recalls_t_sel, cmap=cm.coolwarm)\n",
    "cb = fig.colorbar(p, shrink=0.5)\n",
    "plt.show()"
   ]
  },
  {
   "cell_type": "code",
   "execution_count": null,
   "metadata": {
    "collapsed": true
   },
   "outputs": [],
   "source": [
    "plt.figure(figsize=(16, 6))\n",
    "\n",
    "plt.subplot(1,2,1)\n",
    "plt.subplots_adjust(left=.2, right=0.95, bottom=0.15, top=0.95)\n",
    "plt.imshow(np.array(recalls_t_sel).T, interpolation='nearest', cmap=plt.cm.hot)\n",
    "plt.xlabel('costs')\n",
    "plt.ylabel('n_components')\n",
    "plt.colorbar()\n",
    "plt.xticks(np.arange(len(costs)), costs, rotation=45)\n",
    "plt.yticks(np.arange(len(n_components)), n_components)\n",
    "plt.title('Recall')\n",
    "\n",
    "plt.subplot(1,2,2)\n",
    "plt.subplots_adjust(left=.2, right=0.95, bottom=0.15, top=0.95)\n",
    "plt.imshow(np.array(precisions_t_sel).T, interpolation='nearest', cmap=plt.cm.hot)\n",
    "plt.xlabel('costs')\n",
    "plt.ylabel('n_components')\n",
    "plt.colorbar()\n",
    "plt.xticks(np.arange(len(costs)), costs, rotation=45)\n",
    "plt.yticks(np.arange(len(n_components)), n_components)\n",
    "plt.title('Precision')\n",
    "\n",
    "plt.show()"
   ]
  },
  {
   "cell_type": "code",
   "execution_count": null,
   "metadata": {
    "collapsed": true
   },
   "outputs": [],
   "source": [
    "is_significant(\"Decision Tree\", \"Linear SVC\", significance = 0.05)\n",
    "print(\"\")\n",
    "is_significant(\"Random Forest\", \"Decision Tree\", significance = 0.05)\n",
    "print(\"\")\n",
    "is_significant(\"Random Forest\", \"Linear SVC\", significance = 0.05)"
   ]
  },
  {
   "cell_type": "markdown",
   "metadata": {},
   "source": [
    "## Without changing weights"
   ]
  },
  {
   "cell_type": "markdown",
   "metadata": {},
   "source": [
    "### Decision Tree"
   ]
  },
  {
   "cell_type": "code",
   "execution_count": null,
   "metadata": {
    "collapsed": true
   },
   "outputs": [],
   "source": [
    "# Classification and ROC analysis\n",
    "sss = StratifiedShuffleSplit(y, n_iter = 10, test_size=0.2, random_state=0)\n",
    "\n",
    "X, y = fito_dataset[\"data\"], fito_dataset[\"target\"]\n",
    "X_trans = extractor.transform(X)\n",
    "\n",
    "models = [(\"Decision Tree\", DecisionTreeClassifier(class_weight={1:1})),\n",
    "          (\"Decision Tree CS\", DecisionTreeClassifier(class_weight={1:100})),\n",
    "          (\"Decision Tree CSS\", DecisionTreeClassifier(class_weight={1:1000})),\n",
    "          (\"Decision Tree CSSS\", DecisionTreeClassifier(class_weight={1:10000}))]\n",
    "\n",
    "\n",
    "plt.figure(figsize=(12,8))\n",
    "plt.plot([0,1], [0,1], '--', color=(0.6,0.6,0.6), label='luck')\n",
    "\n",
    "for model in models:\n",
    "    mean_tpr = 0.0\n",
    "    mean_fpr = np.linspace(0,1,100)\n",
    "    for i, (train, test) in enumerate(sss):\n",
    "        probas_ = model[1].fit(X_trans[train], y[train]).predict_proba(X_trans[test])\n",
    "        fpr, tpr, thresholds = roc_curve(y[test], probas_[:, 1], pos_label=1)\n",
    "        mean_tpr += interp(mean_fpr, fpr, tpr)\n",
    "        roc_auc = auc(fpr, tpr)\n",
    "        #plt.plot(fpr, tpr, lw =1, label = 'ROC fold %d (area = %0.2f)' % (i, roc_auc))\n",
    "    mean_tpr /= len(sss)\n",
    "    mean_tpr[-1] = 1.0\n",
    "    mean_auc = auc(mean_fpr, mean_tpr)\n",
    "    plt.plot(mean_fpr, mean_tpr, label='%s (area = %0.2f)' % (model[0], mean_auc), lw = 2)\n",
    "        \n",
    "plt.ylim([0.6, 1.01])\n",
    "plt.xlim([0.0, 1.01])\n",
    "plt.xlabel('False Positive Rate (1-Specifity)')\n",
    "plt.ylabel('True Positive Rate (Sensivity or Recall)')\n",
    "plt.title('ROC Curve')\n",
    "plt.legend(loc=\"lower right\")\n",
    "plt.show()"
   ]
  },
  {
   "cell_type": "markdown",
   "metadata": {},
   "source": [
    "### Naive Bayes"
   ]
  },
  {
   "cell_type": "code",
   "execution_count": null,
   "metadata": {
    "collapsed": true
   },
   "outputs": [],
   "source": [
    "# Classification and ROC analysis\n",
    "sss = StratifiedShuffleSplit(y, n_iter = 10, test_size=0.2, random_state=0)\n",
    "\n",
    "X, y = fito_dataset[\"data\"], fito_dataset[\"target\"]\n",
    "X_trans = extractor.transform(X)\n",
    "\n",
    "models = [(\"Naive Bayes\", MultinomialNB(class_prior=[1, 1], fit_prior=False)),\n",
    "          (\"Naive Bayes CS\", MultinomialNB(class_prior=[1, 10], fit_prior=False)),\n",
    "          (\"Naive Bayes CSS\", MultinomialNB(class_prior=[1, 100], fit_prior=False)),\n",
    "          (\"Naive Bayes CSSS\", MultinomialNB(class_prior=[1, 1000], fit_prior=False)),\n",
    "         ]\n",
    "\n",
    "\n",
    "plt.figure(figsize=(12,8))\n",
    "plt.plot([0,1], [0,1], '--', color=(0.6,0.6,0.6), label='luck')\n",
    "\n",
    "for model in models:\n",
    "    mean_tpr = 0.0\n",
    "    mean_fpr = np.linspace(0,1,100)\n",
    "    for i, (train, test) in enumerate(sss):\n",
    "        probas_ = model[1].fit(X_trans[train], y[train]).predict_proba(X_trans[test])\n",
    "        fpr, tpr, thresholds = roc_curve(y[test], probas_[:, 1], pos_label=1)\n",
    "        mean_tpr += interp(mean_fpr, fpr, tpr)\n",
    "        roc_auc = auc(fpr, tpr)\n",
    "        #plt.plot(fpr, tpr, lw =1, label = 'ROC fold %d (area = %0.2f)' % (i, roc_auc))\n",
    "    mean_tpr /= len(sss)\n",
    "    mean_tpr[-1] = 1.0\n",
    "    mean_auc = auc(mean_fpr, mean_tpr)\n",
    "    plt.plot(mean_fpr, mean_tpr, label='%s (area = %0.2f)' % (model[0], mean_auc), lw = 2)\n",
    "        \n",
    "plt.ylim([0.6, 1.01])\n",
    "plt.xlim([0.0, 1.01])\n",
    "plt.xlabel('False Positive Rate (1-Specifity)')\n",
    "plt.ylabel('True Positive Rate (Sensivity or Recall)')\n",
    "plt.title('ROC Curve')\n",
    "plt.legend(loc=\"lower right\")\n",
    "plt.show()"
   ]
  },
  {
   "cell_type": "markdown",
   "metadata": {},
   "source": [
    "### Random Forest"
   ]
  },
  {
   "cell_type": "code",
   "execution_count": 1,
   "metadata": {
    "collapsed": false
   },
   "outputs": [
    {
     "ename": "NameError",
     "evalue": "name 'StratifiedShuffleSplit' is not defined",
     "output_type": "error",
     "traceback": [
      "\u001b[0;31m---------------------------------------------------------------------------\u001b[0m",
      "\u001b[0;31mNameError\u001b[0m                                 Traceback (most recent call last)",
      "\u001b[0;32m<ipython-input-1-4820db162048>\u001b[0m in \u001b[0;36m<module>\u001b[0;34m()\u001b[0m\n\u001b[1;32m      1\u001b[0m \u001b[0;31m# Classification and ROC analysis\u001b[0m\u001b[0;34m\u001b[0m\u001b[0;34m\u001b[0m\u001b[0m\n\u001b[0;32m----> 2\u001b[0;31m \u001b[0msss\u001b[0m \u001b[0;34m=\u001b[0m \u001b[0mStratifiedShuffleSplit\u001b[0m\u001b[0;34m(\u001b[0m\u001b[0my\u001b[0m\u001b[0;34m,\u001b[0m \u001b[0mn_iter\u001b[0m \u001b[0;34m=\u001b[0m \u001b[0;36m10\u001b[0m\u001b[0;34m,\u001b[0m \u001b[0mtest_size\u001b[0m\u001b[0;34m=\u001b[0m\u001b[0;36m0.2\u001b[0m\u001b[0;34m,\u001b[0m \u001b[0mrandom_state\u001b[0m\u001b[0;34m=\u001b[0m\u001b[0;36m0\u001b[0m\u001b[0;34m)\u001b[0m\u001b[0;34m\u001b[0m\u001b[0m\n\u001b[0m\u001b[1;32m      3\u001b[0m \u001b[0;34m\u001b[0m\u001b[0m\n\u001b[1;32m      4\u001b[0m \u001b[0mX\u001b[0m\u001b[0;34m,\u001b[0m \u001b[0my\u001b[0m \u001b[0;34m=\u001b[0m \u001b[0mfito_dataset\u001b[0m\u001b[0;34m[\u001b[0m\u001b[0;34m\"data\"\u001b[0m\u001b[0;34m]\u001b[0m\u001b[0;34m,\u001b[0m \u001b[0mfito_dataset\u001b[0m\u001b[0;34m[\u001b[0m\u001b[0;34m\"target\"\u001b[0m\u001b[0;34m]\u001b[0m\u001b[0;34m\u001b[0m\u001b[0m\n\u001b[1;32m      5\u001b[0m \u001b[0mX_trans\u001b[0m \u001b[0;34m=\u001b[0m \u001b[0mextractor\u001b[0m\u001b[0;34m.\u001b[0m\u001b[0mtransform\u001b[0m\u001b[0;34m(\u001b[0m\u001b[0mX\u001b[0m\u001b[0;34m)\u001b[0m\u001b[0;34m\u001b[0m\u001b[0m\n",
      "\u001b[0;31mNameError\u001b[0m: name 'StratifiedShuffleSplit' is not defined"
     ]
    }
   ],
   "source": [
    "# Classification and ROC analysis\n",
    "sss = StratifiedShuffleSplit(y, n_iter = 10, test_size=0.2, random_state=0)\n",
    "\n",
    "X, y = fito_dataset[\"data\"], fito_dataset[\"target\"]\n",
    "X_trans = extractor.transform(X)\n",
    "\n",
    "models = [(\"Random Forest\", RandomForestClassifier(class_weight={1:1})),\n",
    "          (\"Random Forest CS\", RandomForestClassifier(class_weight={1:10})),\n",
    "          (\"Random Forest CSS\", RandomForestClassifier(class_weight={1:100})),\n",
    "          (\"Random Forest CSS\", RandomForestClassifier(class_weight={1:1000})),]\n",
    "\n",
    "\n",
    "plt.figure(figsize=(12,8))\n",
    "plt.plot([0,1], [0,1], '--', color=(0.6,0.6,0.6), label='luck')\n",
    "\n",
    "for model in models:\n",
    "    mean_tpr = 0.0\n",
    "    mean_fpr = np.linspace(0,1,100)\n",
    "    for i, (train, test) in enumerate(sss):\n",
    "        probas_ = model[1].fit(X_trans[train], y[train]).predict_proba(X_trans[test])\n",
    "        fpr, tpr, thresholds = roc_curve(y[test], probas_[:, 1], pos_label=1)\n",
    "        mean_tpr += interp(mean_fpr, fpr, tpr)\n",
    "        roc_auc = auc(fpr, tpr)\n",
    "        #plt.plot(fpr, tpr, lw =1, label = 'ROC fold %d (area = %0.2f)' % (i, roc_auc))\n",
    "    mean_tpr /= len(sss)\n",
    "    mean_tpr[-1] = 1.0\n",
    "    mean_auc = auc(mean_fpr, mean_tpr)\n",
    "    plt.plot(mean_fpr, mean_tpr, label='%s (area = %0.2f)' % (model[0], mean_auc), lw = 2)\n",
    "        \n",
    "plt.ylim([0.6, 1.01])\n",
    "plt.xlim([0.0, 1.01])\n",
    "plt.xlabel('False Positive Rate (1-Specifity)')\n",
    "plt.ylabel('True Positive Rate (Sensivity or Recall)')\n",
    "plt.title('ROC Curve')\n",
    "plt.legend(loc=\"lower right\")\n",
    "\n",
    "plt.show()"
   ]
  },
  {
   "cell_type": "markdown",
   "metadata": {},
   "source": [
    "### Linear SVM"
   ]
  },
  {
   "cell_type": "code",
   "execution_count": null,
   "metadata": {
    "collapsed": true
   },
   "outputs": [],
   "source": [
    "# Classification and ROC analysis\n",
    "sss = StratifiedShuffleSplit(y, n_iter = 10, test_size=0.2, random_state=0)\n",
    "\n",
    "X, y = fito_dataset[\"data\"], fito_dataset[\"target\"]\n",
    "X_trans = extractor.transform(X)\n",
    "\n",
    "models = [(\"Linear SVC\", SVC(kernel = \"linear\", class_weight={1:1}, probability=True)),\n",
    "          (\"Linear SVC CS\", SVC(kernel = \"linear\", class_weight={1:10}, probability=True)),\n",
    "          (\"Linear SVC CSS\", SVC(kernel = \"linear\", class_weight={1:100}, probability=True)),\n",
    "          (\"Linear SVC CSSS\", SVC(kernel = \"linear\", class_weight={1:1000}, probability=True))\n",
    "         ]\n",
    "\n",
    "\n",
    "plt.figure(figsize=(12,8))\n",
    "plt.plot([0,1], [0,1], '--', color=(0.6,0.6,0.6), label='luck')\n",
    "\n",
    "for model in models:\n",
    "    mean_tpr = 0.0\n",
    "    mean_fpr = np.linspace(0,1,100)\n",
    "    for i, (train, test) in enumerate(sss):\n",
    "        probas_ = model[1].fit(X_trans[train], y[train]).predict_proba(X_trans[test])\n",
    "        fpr, tpr, thresholds = roc_curve(y[test], probas_[:, 1], pos_label=1)\n",
    "        mean_tpr += interp(mean_fpr, fpr, tpr)\n",
    "        roc_auc = auc(fpr, tpr)\n",
    "        #plt.plot(fpr, tpr, lw =1, label = 'ROC fold %d (area = %0.2f)' % (i, roc_auc))\n",
    "    mean_tpr /= len(sss)\n",
    "    mean_tpr[-1] = 1.0\n",
    "    mean_auc = auc(mean_fpr, mean_tpr)\n",
    "    plt.plot(mean_fpr, mean_tpr, label='%s (area = %0.2f)' % (model[0], mean_auc), lw = 2)\n",
    "        \n",
    "plt.ylim([0.6, 1.01])\n",
    "plt.xlim([0.0, 1.01])\n",
    "plt.xlabel('False Positive Rate (1-Specifity)')\n",
    "plt.ylabel('True Positive Rate (Sensivity or Recall)')\n",
    "plt.title('ROC Curve')\n",
    "plt.legend(loc=\"lower right\")\n",
    "plt.show()"
   ]
  },
  {
   "cell_type": "markdown",
   "metadata": {
    "collapsed": true
   },
   "source": [
    "### All together"
   ]
  },
  {
   "cell_type": "code",
   "execution_count": null,
   "metadata": {
    "collapsed": true
   },
   "outputs": [],
   "source": [
    "from sklearn.pipeline import Pipeline\n",
    "from sklearn.grid_search import GridSearchCV\n",
    "from sklearn.feature_extraction.text import TfidfTransformer"
   ]
  },
  {
   "cell_type": "code",
   "execution_count": null,
   "metadata": {
    "collapsed": true
   },
   "outputs": [],
   "source": [
    "stop_words = ['a', 'bajo', 'en', 'para','un', 'la', 'el', 'los', 'las', 'su', 'sus', 'través', 'al','con', \\\n",
    "             'más', 'muy', 'cual', 'poco', 'que']\n",
    "\n",
    "print(\"Transforming annotated files into training datasets...\")\n",
    "dm = DM()\n",
    "fito_dataset = dm.get_sentences(0)\n",
    "X, y = fito_dataset[\"data\"], fito_dataset[\"target\"]\n",
    "\n",
    "print(\"OK\")"
   ]
  },
  {
   "cell_type": "code",
   "execution_count": null,
   "metadata": {
    "collapsed": true
   },
   "outputs": [],
   "source": [
    "pipe_nb = Pipeline([('vect', CountVectorizer(stop_words=stop_words)),\n",
    "                    ('tfidf', TfidfTransformer()),\n",
    "                    ('clf', MultinomialNB(fit_prior=False))])\n",
    "\n",
    "param_grid = [{ 'vect__tokenizer': (LemmaTokenizer(), None),\n",
    "                'vect__ngram_range': [(1, 1), (1, 2), (2,2), (1,3)],\n",
    "                'tfidf__use_idf': (True, False),\n",
    "                'clf__class_prior': [[0.5, 0.5],[0.1, 0.9],[0.01, 0.99]],\n",
    "              }]\n",
    "\n",
    "\n",
    "cross_validation = StratifiedKFold(y, n_folds=5)\n",
    "\n",
    "gs_nb = GridSearchCV(estimator=pipe_nb,\n",
    "                 param_grid=param_grid,\n",
    "                 scoring='recall',\n",
    "                 cv=5)\n",
    "\n",
    "gs_nb.fit(X, y)"
   ]
  },
  {
   "cell_type": "code",
   "execution_count": null,
   "metadata": {
    "collapsed": true
   },
   "outputs": [],
   "source": [
    "print(gs_nb.best_params_)"
   ]
  },
  {
   "cell_type": "markdown",
   "metadata": {
    "collapsed": true
   },
   "source": [
    "## Weighting schema selection"
   ]
  },
  {
   "cell_type": "code",
   "execution_count": 1,
   "metadata": {
    "collapsed": true
   },
   "outputs": [],
   "source": [
    "def init_ws():\n",
    "    recall_avg = {}\n",
    "    recall_std = {}\n",
    "    precision_avg = {}\n",
    "    precision_std = {}\n",
    "    \n",
    "    for extractor in extractors:\n",
    "        recall_avg[extractor[0]] = []\n",
    "        recall_std[extractor[0]] = []\n",
    "        precision_avg[extractor[0]] = []\n",
    "        precision_std[extractor[0]] = []\n",
    "        \n",
    "    return recall_avg, recall_std, precision_avg, precision_std"
   ]
  },
  {
   "cell_type": "code",
   "execution_count": null,
   "metadata": {
    "collapsed": false
   },
   "outputs": [],
   "source": [
    "extractors = [(\"TF-IDF\", TfidfVectorizer(use_idf=False, stop_words=stop_words)),\n",
    "              (\"TF\", TfidfVectorizer(use_idf=True, stop_words=stop_words))]\n",
    "\n",
    "recall_avg, recall_std, precision_avg, precision_std = init_ws()\n",
    "\n",
    "for extractor in extractors:\n",
    "    extractor[1].fit(X)\n",
    "    for cost in costs:\n",
    "        model = MultinomialNB(class_prior=[1/cost, (cost-1)/cost])\n",
    "        precisions = []\n",
    "        recalls = []\n",
    "        for train_index, test_index in sss:\n",
    "            X_train, X_test = extractor[1].transform(X)[train_index], extractor[1].transform(X)[test_index]\n",
    "            y_train, y_test = y[train_index], y[test_index]\n",
    "            model.fit(X_train, y_train)\n",
    "            precisions.append(precision_score(y_test, model.predict(X_test), pos_label=1))\n",
    "            recalls.append(recall_score(y_test, model.predict(X_test), pos_label=1))\n",
    "        recall_avg[extractor[0]].append(np.average(recalls))\n",
    "        recall_std[extractor[0]].append(np.std(recalls))\n",
    "        precision_avg[extractor[0]].append(np.average(precisions))\n",
    "        precision_std[extractor[0]].append(np.std(precisions))"
   ]
  },
  {
   "cell_type": "code",
   "execution_count": null,
   "metadata": {
    "collapsed": true
   },
   "outputs": [],
   "source": [
    "plot_image(axis_costs, recall_avg, title=\"RECALL\", ylim = [0.9, 1.02], \n",
    "           xlim = cxlim, colors=\"rg\", models=extractors, name=\"recall_ws\", labels = labels)"
   ]
  },
  {
   "cell_type": "code",
   "execution_count": null,
   "metadata": {
    "collapsed": true
   },
   "outputs": [],
   "source": [
    "plot_image(axis_costs, precision_avg, title=\"PRECISION\", ylim = [0.3, 0.8], \n",
    "           xlim = cxlim, colors=\"rg\", models=extractors, name=\"precision_ws\", labels = labels)"
   ]
  }
 ],
 "metadata": {
  "kernelspec": {
   "display_name": "Python 3",
   "language": "python",
   "name": "python3"
  },
  "language_info": {
   "codemirror_mode": {
    "name": "ipython",
    "version": 3
   },
   "file_extension": ".py",
   "mimetype": "text/x-python",
   "name": "python",
   "nbconvert_exporter": "python",
   "pygments_lexer": "ipython3",
   "version": "3.5.1"
  }
 },
 "nbformat": 4,
 "nbformat_minor": 0
}
