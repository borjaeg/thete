{
 "cells": [
  {
   "cell_type": "code",
   "execution_count": 1,
   "metadata": {
    "collapsed": false
   },
   "outputs": [],
   "source": [
    "# General imports\n",
    "%matplotlib inline\n",
    "import warnings\n",
    "warnings.filterwarnings('ignore')\n",
    "\n",
    "# Data Science\n",
    "import matplotlib.pyplot as plt\n",
    "import numpy as np\n",
    "import pandas as pd\n",
    "\n",
    "from analysis_utils import *\n",
    "from plotting_utils import *"
   ]
  },
  {
   "cell_type": "code",
   "execution_count": 2,
   "metadata": {
    "collapsed": false
   },
   "outputs": [],
   "source": [
    "data = load_results()"
   ]
  },
  {
   "cell_type": "markdown",
   "metadata": {},
   "source": [
    "## Best result"
   ]
  },
  {
   "cell_type": "code",
   "execution_count": 3,
   "metadata": {
    "collapsed": false
   },
   "outputs": [
    {
     "data": {
      "text/html": [
       "<div>\n",
       "<table border=\"1\" class=\"dataframe\">\n",
       "  <thead>\n",
       "    <tr style=\"text-align: right;\">\n",
       "      <th></th>\n",
       "      <th>nlp</th>\n",
       "      <th>algorithm</th>\n",
       "      <th>cost_ratio</th>\n",
       "      <th>precision</th>\n",
       "      <th>recall</th>\n",
       "    </tr>\n",
       "  </thead>\n",
       "  <tbody>\n",
       "    <tr>\n",
       "      <th>24</th>\n",
       "      <td>Bigrams</td>\n",
       "      <td>Naive Bayes</td>\n",
       "      <td>10</td>\n",
       "      <td>0.450256</td>\n",
       "      <td>1</td>\n",
       "    </tr>\n",
       "  </tbody>\n",
       "</table>\n",
       "</div>"
      ],
      "text/plain": [
       "        nlp    algorithm  cost_ratio  precision  recall\n",
       "24  Bigrams  Naive Bayes          10   0.450256       1"
      ]
     },
     "execution_count": 3,
     "metadata": {},
     "output_type": "execute_result"
    }
   ],
   "source": [
    "accepted_results = data[\"grouped\"][data[\"grouped\"][\"recall\"] == data[\"grouped\"][\"recall\"].max()]\n",
    "accepted_results[accepted_results[\"precision\"] == accepted_results[\"precision\"].max()]"
   ]
  },
  {
   "cell_type": "markdown",
   "metadata": {},
   "source": [
    "## Best results"
   ]
  },
  {
   "cell_type": "code",
   "execution_count": 4,
   "metadata": {
    "collapsed": false
   },
   "outputs": [
    {
     "data": {
      "text/html": [
       "<div>\n",
       "<table border=\"1\" class=\"dataframe\">\n",
       "  <thead>\n",
       "    <tr style=\"text-align: right;\">\n",
       "      <th></th>\n",
       "      <th>nlp</th>\n",
       "      <th>algorithm</th>\n",
       "      <th>cost_ratio</th>\n",
       "      <th>precision</th>\n",
       "      <th>recall</th>\n",
       "    </tr>\n",
       "  </thead>\n",
       "  <tbody>\n",
       "    <tr>\n",
       "      <th>24</th>\n",
       "      <td>Bigrams</td>\n",
       "      <td>Naive Bayes</td>\n",
       "      <td>10</td>\n",
       "      <td>0.450256</td>\n",
       "      <td>1</td>\n",
       "    </tr>\n",
       "    <tr>\n",
       "      <th>75</th>\n",
       "      <td>Combination</td>\n",
       "      <td>Naive Bayes</td>\n",
       "      <td>25</td>\n",
       "      <td>0.444199</td>\n",
       "      <td>1</td>\n",
       "    </tr>\n",
       "    <tr>\n",
       "      <th>125</th>\n",
       "      <td>None</td>\n",
       "      <td>Naive Bayes</td>\n",
       "      <td>25</td>\n",
       "      <td>0.441965</td>\n",
       "      <td>1</td>\n",
       "    </tr>\n",
       "    <tr>\n",
       "      <th>18</th>\n",
       "      <td>Bigrams</td>\n",
       "      <td>Logistic</td>\n",
       "      <td>1000</td>\n",
       "      <td>0.439503</td>\n",
       "      <td>1</td>\n",
       "    </tr>\n",
       "    <tr>\n",
       "      <th>76</th>\n",
       "      <td>Combination</td>\n",
       "      <td>Naive Bayes</td>\n",
       "      <td>50</td>\n",
       "      <td>0.426551</td>\n",
       "      <td>1</td>\n",
       "    </tr>\n",
       "    <tr>\n",
       "      <th>25</th>\n",
       "      <td>Bigrams</td>\n",
       "      <td>Naive Bayes</td>\n",
       "      <td>25</td>\n",
       "      <td>0.416640</td>\n",
       "      <td>1</td>\n",
       "    </tr>\n",
       "    <tr>\n",
       "      <th>126</th>\n",
       "      <td>None</td>\n",
       "      <td>Naive Bayes</td>\n",
       "      <td>50</td>\n",
       "      <td>0.413989</td>\n",
       "      <td>1</td>\n",
       "    </tr>\n",
       "    <tr>\n",
       "      <th>77</th>\n",
       "      <td>Combination</td>\n",
       "      <td>Naive Bayes</td>\n",
       "      <td>100</td>\n",
       "      <td>0.407712</td>\n",
       "      <td>1</td>\n",
       "    </tr>\n",
       "    <tr>\n",
       "      <th>26</th>\n",
       "      <td>Bigrams</td>\n",
       "      <td>Naive Bayes</td>\n",
       "      <td>50</td>\n",
       "      <td>0.404563</td>\n",
       "      <td>1</td>\n",
       "    </tr>\n",
       "    <tr>\n",
       "      <th>176</th>\n",
       "      <td>Stemming</td>\n",
       "      <td>Naive Bayes</td>\n",
       "      <td>50</td>\n",
       "      <td>0.401889</td>\n",
       "      <td>1</td>\n",
       "    </tr>\n",
       "  </tbody>\n",
       "</table>\n",
       "</div>"
      ],
      "text/plain": [
       "             nlp    algorithm  cost_ratio  precision  recall\n",
       "24       Bigrams  Naive Bayes          10   0.450256       1\n",
       "75   Combination  Naive Bayes          25   0.444199       1\n",
       "125         None  Naive Bayes          25   0.441965       1\n",
       "18       Bigrams     Logistic        1000   0.439503       1\n",
       "76   Combination  Naive Bayes          50   0.426551       1\n",
       "25       Bigrams  Naive Bayes          25   0.416640       1\n",
       "126         None  Naive Bayes          50   0.413989       1\n",
       "77   Combination  Naive Bayes         100   0.407712       1\n",
       "26       Bigrams  Naive Bayes          50   0.404563       1\n",
       "176     Stemming  Naive Bayes          50   0.401889       1"
      ]
     },
     "execution_count": 4,
     "metadata": {},
     "output_type": "execute_result"
    }
   ],
   "source": [
    "accepted_results[accepted_results[\"precision\"] > 0.4].sort([\"precision\"], ascending=False)"
   ]
  },
  {
   "cell_type": "markdown",
   "metadata": {},
   "source": [
    "## Best Result by Algorithm"
   ]
  },
  {
   "cell_type": "code",
   "execution_count": 5,
   "metadata": {
    "collapsed": false
   },
   "outputs": [
    {
     "data": {
      "text/html": [
       "<div>\n",
       "<table border=\"1\" class=\"dataframe\">\n",
       "  <thead>\n",
       "    <tr style=\"text-align: right;\">\n",
       "      <th></th>\n",
       "      <th>nlp</th>\n",
       "      <th>algorithm</th>\n",
       "      <th>cost_ratio</th>\n",
       "      <th>precision</th>\n",
       "      <th>recall</th>\n",
       "    </tr>\n",
       "  </thead>\n",
       "  <tbody>\n",
       "    <tr>\n",
       "      <th>24</th>\n",
       "      <td>Bigrams</td>\n",
       "      <td>Naive Bayes</td>\n",
       "      <td>10</td>\n",
       "      <td>0.450256</td>\n",
       "      <td>1</td>\n",
       "    </tr>\n",
       "  </tbody>\n",
       "</table>\n",
       "</div>"
      ],
      "text/plain": [
       "        nlp    algorithm  cost_ratio  precision  recall\n",
       "24  Bigrams  Naive Bayes          10   0.450256       1"
      ]
     },
     "execution_count": 5,
     "metadata": {},
     "output_type": "execute_result"
    }
   ],
   "source": [
    "get_best(data, \"Naive Bayes\")"
   ]
  },
  {
   "cell_type": "code",
   "execution_count": 6,
   "metadata": {
    "collapsed": false
   },
   "outputs": [
    {
     "data": {
      "text/html": [
       "<div>\n",
       "<table border=\"1\" class=\"dataframe\">\n",
       "  <thead>\n",
       "    <tr style=\"text-align: right;\">\n",
       "      <th></th>\n",
       "      <th>nlp</th>\n",
       "      <th>algorithm</th>\n",
       "      <th>cost_ratio</th>\n",
       "      <th>precision</th>\n",
       "      <th>recall</th>\n",
       "    </tr>\n",
       "  </thead>\n",
       "  <tbody>\n",
       "    <tr>\n",
       "      <th>44</th>\n",
       "      <td>Bigrams</td>\n",
       "      <td>SVM</td>\n",
       "      <td>10</td>\n",
       "      <td>0.476494</td>\n",
       "      <td>0.996601</td>\n",
       "    </tr>\n",
       "  </tbody>\n",
       "</table>\n",
       "</div>"
      ],
      "text/plain": [
       "        nlp algorithm  cost_ratio  precision    recall\n",
       "44  Bigrams       SVM          10   0.476494  0.996601"
      ]
     },
     "execution_count": 6,
     "metadata": {},
     "output_type": "execute_result"
    }
   ],
   "source": [
    "get_best(data, \"SVM\")"
   ]
  },
  {
   "cell_type": "code",
   "execution_count": 7,
   "metadata": {
    "collapsed": false
   },
   "outputs": [
    {
     "data": {
      "text/html": [
       "<div>\n",
       "<table border=\"1\" class=\"dataframe\">\n",
       "  <thead>\n",
       "    <tr style=\"text-align: right;\">\n",
       "      <th></th>\n",
       "      <th>nlp</th>\n",
       "      <th>algorithm</th>\n",
       "      <th>cost_ratio</th>\n",
       "      <th>precision</th>\n",
       "      <th>recall</th>\n",
       "    </tr>\n",
       "  </thead>\n",
       "  <tbody>\n",
       "    <tr>\n",
       "      <th>39</th>\n",
       "      <td>Bigrams</td>\n",
       "      <td>Random Forest</td>\n",
       "      <td>1000000</td>\n",
       "      <td>0.726834</td>\n",
       "      <td>0.941569</td>\n",
       "    </tr>\n",
       "  </tbody>\n",
       "</table>\n",
       "</div>"
      ],
      "text/plain": [
       "        nlp      algorithm  cost_ratio  precision    recall\n",
       "39  Bigrams  Random Forest     1000000   0.726834  0.941569"
      ]
     },
     "execution_count": 7,
     "metadata": {},
     "output_type": "execute_result"
    }
   ],
   "source": [
    "get_best(data, \"Random Forest\")"
   ]
  },
  {
   "cell_type": "code",
   "execution_count": 8,
   "metadata": {
    "collapsed": false
   },
   "outputs": [
    {
     "data": {
      "text/html": [
       "<div>\n",
       "<table border=\"1\" class=\"dataframe\">\n",
       "  <thead>\n",
       "    <tr style=\"text-align: right;\">\n",
       "      <th></th>\n",
       "      <th>nlp</th>\n",
       "      <th>algorithm</th>\n",
       "      <th>cost_ratio</th>\n",
       "      <th>precision</th>\n",
       "      <th>recall</th>\n",
       "    </tr>\n",
       "  </thead>\n",
       "  <tbody>\n",
       "    <tr>\n",
       "      <th>18</th>\n",
       "      <td>Bigrams</td>\n",
       "      <td>Logistic</td>\n",
       "      <td>1000</td>\n",
       "      <td>0.439503</td>\n",
       "      <td>1</td>\n",
       "    </tr>\n",
       "  </tbody>\n",
       "</table>\n",
       "</div>"
      ],
      "text/plain": [
       "        nlp algorithm  cost_ratio  precision  recall\n",
       "18  Bigrams  Logistic        1000   0.439503       1"
      ]
     },
     "execution_count": 8,
     "metadata": {},
     "output_type": "execute_result"
    }
   ],
   "source": [
    "get_best(data, \"Logistic\")"
   ]
  },
  {
   "cell_type": "markdown",
   "metadata": {},
   "source": [
    "## Analyzing preprocessing techniques"
   ]
  },
  {
   "cell_type": "markdown",
   "metadata": {},
   "source": [
    "### Steming vs bigrams vs combination"
   ]
  },
  {
   "cell_type": "code",
   "execution_count": 9,
   "metadata": {
    "collapsed": false
   },
   "outputs": [
    {
     "name": "stdout",
     "output_type": "stream",
     "text": [
      "None 0.613094528\n",
      "Stemming 0.61239023\n",
      "Bigrams 0.585660922\n",
      "Combination 0.600275024\n",
      "\n",
      "NON Parametric test\n",
      "\n",
      "Statistically NON-significant different results between None and Stemming\n",
      "Statistically significant different results between None and Bigrams\n",
      "Statistically NON-significant different results between None and Combination\n",
      "Statistically NON-significant different results between Stemming and Bigrams\n",
      "Statistically NON-significant different results between Stemming and Combination\n",
      "Statistically NON-significant different results between Bigrams and Combination\n",
      "==============================\n",
      "None 0.952829404\n",
      "Stemming 0.951656892\n",
      "Bigrams 0.947428734\n",
      "Combination 0.95213788\n",
      "\n",
      "NON Parametric test\n",
      "\n",
      "Statistically NON-significant different results between None and Stemming\n",
      "Statistically NON-significant different results between None and Bigrams\n",
      "Statistically NON-significant different results between None and Combination\n",
      "Statistically NON-significant different results between Stemming and Bigrams\n",
      "Statistically NON-significant different results between Stemming and Combination\n",
      "Statistically NON-significant different results between Bigrams and Combination\n"
     ]
    }
   ],
   "source": [
    "are_different(data, 'nlp', 'precision')\n",
    "print(\"=\" * 30)\n",
    "are_different(data, 'nlp', 'recall')"
   ]
  },
  {
   "cell_type": "markdown",
   "metadata": {},
   "source": [
    "## Analyzing algorithms"
   ]
  },
  {
   "cell_type": "code",
   "execution_count": 10,
   "metadata": {
    "collapsed": false
   },
   "outputs": [
    {
     "name": "stdout",
     "output_type": "stream",
     "text": [
      "Naive Bayes 0.4832357175\n",
      "Random Forest 0.8460042275\n",
      "SVM 0.6586887275\n",
      "Baseline 0.344986\n",
      "Logistic 0.6813612075\n",
      "\n",
      "NON Parametric test\n",
      "\n",
      "Statistically significant different results between Naive Bayes and Random Forest\n",
      "Statistically significant different results between Naive Bayes and SVM\n",
      "Statistically significant different results between Naive Bayes and Baseline\n",
      "Statistically significant different results between Naive Bayes and Logistic\n",
      "Statistically significant different results between Random Forest and SVM\n",
      "Statistically significant different results between Random Forest and Baseline\n",
      "Statistically significant different results between Random Forest and Logistic\n",
      "Statistically significant different results between SVM and Baseline\n",
      "Statistically NON-significant different results between SVM and Logistic\n",
      "Statistically significant different results between Baseline and Logistic\n",
      "==============================\n",
      "Naive Bayes 0.991554715\n",
      "Random Forest 0.88819116\n",
      "SVM 0.926818655\n",
      "Baseline 1.0\n",
      "Logistic 0.9485016075\n",
      "\n",
      "NON Parametric test\n",
      "\n",
      "Statistically significant different results between Naive Bayes and Random Forest\n",
      "Statistically significant different results between Naive Bayes and SVM\n",
      "Statistically significant different results between Naive Bayes and Baseline\n",
      "Statistically significant different results between Naive Bayes and Logistic\n",
      "Statistically significant different results between Random Forest and SVM\n",
      "Statistically significant different results between Random Forest and Baseline\n",
      "Statistically significant different results between Random Forest and Logistic\n",
      "Statistically significant different results between SVM and Baseline\n",
      "Statistically NON-significant different results between SVM and Logistic\n",
      "Statistically significant different results between Baseline and Logistic\n"
     ]
    }
   ],
   "source": [
    "are_different(data, 'algorithm', 'precision', threshold=0.001)\n",
    "print(\"=\" * 30)\n",
    "are_different(data, 'algorithm', 'recall',threshold=0.001)"
   ]
  },
  {
   "cell_type": "markdown",
   "metadata": {},
   "source": [
    "### List best configurations"
   ]
  },
  {
   "cell_type": "code",
   "execution_count": 4,
   "metadata": {
    "collapsed": false
   },
   "outputs": [
    {
     "data": {
      "text/plain": [
       "[array(['None', 'Naive Bayes', 25, 0.4419649183750153, 1.0], dtype=object),\n",
       " array(['Stemming', 'Naive Bayes', 50, 0.4018888622522354, 1.0], dtype=object),\n",
       " array(['Bigrams', 'Naive Bayes', 10, 0.45025616586208345, 1.0], dtype=object),\n",
       " array(['Combination', 'Naive Bayes', 25, 0.4441989749670029, 1.0], dtype=object),\n",
       " array(['None', 'Random Forest', 1000000, 0.7670512557029724,\n",
       "        0.9170588195323944], dtype=object),\n",
       " array(['Stemming', 'Random Forest', 1000000, 0.7848034262657165,\n",
       "        0.9137254774570465], dtype=object),\n",
       " array(['Bigrams', 'Random Forest', 1000000, 0.7268341183662415,\n",
       "        0.9415686190128326], dtype=object),\n",
       " array(['Combination', 'Random Forest', 25, 0.7900914371013641,\n",
       "        0.9350326836109162], dtype=object),\n",
       " array(['None', 'SVM', 10, 0.6093205630779266, 0.9886928021907806], dtype=object),\n",
       " array(['Stemming', 'SVM', 25, 0.5619763672351837, 0.9835620880126953], dtype=object),\n",
       " array(['Bigrams', 'SVM', 10, 0.4764940828084946, 0.9966012954711914], dtype=object),\n",
       " array(['Combination', 'SVM', 10, 0.5374707520008087, 0.9898039102554321], dtype=object),\n",
       " array(['None', 'Baseline', 2, 0.3449864387512207, 1.0], dtype=object),\n",
       " array(['Stemming', 'Baseline', 2, 0.3449864387512207, 1.0], dtype=object),\n",
       " array(['Bigrams', 'Baseline', 2, 0.3449864387512207, 1.0], dtype=object),\n",
       " array(['Combination', 'Baseline', 2, 0.3449864387512207, 1.0], dtype=object),\n",
       " array(['None', 'Logistic', 1000000, 0.3449864387512207, 1.0], dtype=object),\n",
       " array(['Stemming', 'Logistic', 1000000, 0.3449864387512207, 1.0], dtype=object),\n",
       " array(['Bigrams', 'Logistic', 1000, 0.4395025968551636, 1.0], dtype=object),\n",
       " array(['Combination', 'Logistic', 1000000, 0.3449864387512207, 1.0], dtype=object)]"
      ]
     },
     "execution_count": 4,
     "metadata": {},
     "output_type": "execute_result"
    }
   ],
   "source": [
    "list_best_configurations(data)"
   ]
  },
  {
   "cell_type": "code",
   "execution_count": 3,
   "metadata": {
    "collapsed": false
   },
   "outputs": [
    {
     "ename": "NameError",
     "evalue": "name 'get_best_by_cost' is not defined",
     "output_type": "error",
     "traceback": [
      "\u001b[0;31m---------------------------------------------------------------------------\u001b[0m",
      "\u001b[0;31mNameError\u001b[0m                                 Traceback (most recent call last)",
      "\u001b[0;32m<ipython-input-3-528d37f6c832>\u001b[0m in \u001b[0;36m<module>\u001b[0;34m()\u001b[0m\n\u001b[1;32m      2\u001b[0m \u001b[0mprecisions\u001b[0m \u001b[0;34m=\u001b[0m \u001b[0;34m[\u001b[0m\u001b[0;34m]\u001b[0m\u001b[0;34m\u001b[0m\u001b[0m\n\u001b[1;32m      3\u001b[0m \u001b[0;32mfor\u001b[0m \u001b[0mm\u001b[0m \u001b[0;32min\u001b[0m \u001b[0;34m[\u001b[0m\u001b[0;34m\"Naive Bayes\"\u001b[0m\u001b[0;34m,\u001b[0m \u001b[0;34m\"Random Forest\"\u001b[0m\u001b[0;34m,\u001b[0m \u001b[0;34m\"SVM\"\u001b[0m\u001b[0;34m,\u001b[0m \u001b[0;34m\"Baseline\"\u001b[0m\u001b[0;34m]\u001b[0m\u001b[0;34m:\u001b[0m\u001b[0;34m\u001b[0m\u001b[0m\n\u001b[0;32m----> 4\u001b[0;31m     \u001b[0mrecalls\u001b[0m\u001b[0;34m.\u001b[0m\u001b[0mappend\u001b[0m\u001b[0;34m(\u001b[0m\u001b[0mget_best_by_cost\u001b[0m\u001b[0;34m(\u001b[0m\u001b[0mdata\u001b[0m\u001b[0;34m,\u001b[0m \u001b[0;34m\"recall\"\u001b[0m\u001b[0;34m,\u001b[0m \u001b[0mm\u001b[0m \u001b[0;34m,\u001b[0m \u001b[0;34m\"recall\"\u001b[0m\u001b[0;34m)\u001b[0m\u001b[0;34m)\u001b[0m\u001b[0;34m\u001b[0m\u001b[0m\n\u001b[0m\u001b[1;32m      5\u001b[0m     \u001b[0mprecisions\u001b[0m\u001b[0;34m.\u001b[0m\u001b[0mappend\u001b[0m\u001b[0;34m(\u001b[0m\u001b[0mget_best_by_cost\u001b[0m\u001b[0;34m(\u001b[0m\u001b[0mdata\u001b[0m\u001b[0;34m,\u001b[0m \u001b[0;34m\"recall\"\u001b[0m\u001b[0;34m,\u001b[0m \u001b[0mm\u001b[0m \u001b[0;34m,\u001b[0m \u001b[0;34m\"precision\"\u001b[0m\u001b[0;34m)\u001b[0m\u001b[0;34m)\u001b[0m\u001b[0;34m\u001b[0m\u001b[0m\n",
      "\u001b[0;31mNameError\u001b[0m: name 'get_best_by_cost' is not defined"
     ]
    }
   ],
   "source": [
    "recalls = []\n",
    "precisions = []\n",
    "for m in [\"Naive Bayes\", \"Random Forest\", \"SVM\", \"Baseline\"]:\n",
    "    recalls.append(get_best_by_cost(data, \"recall\", m , \"recall\"))\n",
    "    precisions.append(get_best_by_cost(data, \"recall\", m , \"precision\"))"
   ]
  },
  {
   "cell_type": "code",
   "execution_count": 7,
   "metadata": {
    "collapsed": false
   },
   "outputs": [
    {
     "ename": "NameError",
     "evalue": "name 'recalls' is not defined",
     "output_type": "error",
     "traceback": [
      "\u001b[0;31m---------------------------------------------------------------------------\u001b[0m",
      "\u001b[0;31mNameError\u001b[0m                                 Traceback (most recent call last)",
      "\u001b[0;32m<ipython-input-7-7459d9c226bd>\u001b[0m in \u001b[0;36m<module>\u001b[0;34m()\u001b[0m\n\u001b[0;32m----> 1\u001b[0;31m plot_image(axis_costs, recalls, title=\"RECALL\", ylim = [0.70, 1.005], \n\u001b[0m\u001b[1;32m      2\u001b[0m            \u001b[0mxlim\u001b[0m \u001b[0;34m=\u001b[0m \u001b[0mcxlim\u001b[0m\u001b[0;34m,\u001b[0m \u001b[0mfile_name\u001b[0m\u001b[0;34m=\u001b[0m\u001b[0;34m\"recall\"\u001b[0m\u001b[0;34m,\u001b[0m \u001b[0mlabels\u001b[0m\u001b[0;34m=\u001b[0m\u001b[0mlabels\u001b[0m\u001b[0;34m,\u001b[0m \u001b[0mylabel\u001b[0m\u001b[0;34m=\u001b[0m\u001b[0;34m\"Recall (%)\"\u001b[0m\u001b[0;34m,\u001b[0m\u001b[0;34m\u001b[0m\u001b[0m\n\u001b[1;32m      3\u001b[0m            loc='lower righ', markers=\"<Do|\")\n",
      "\u001b[0;31mNameError\u001b[0m: name 'recalls' is not defined"
     ]
    }
   ],
   "source": [
    "plot_image(axis_costs, recalls, title=\"RECALL\", ylim = [0.70, 1.005], \n",
    "           xlim = cxlim, file_name=\"recall\", labels=labels, ylabel=\"Recall (%)\", \n",
    "           loc='lower righ', markers=\"<Do|\")"
   ]
  },
  {
   "cell_type": "code",
   "execution_count": 13,
   "metadata": {
    "collapsed": false
   },
   "outputs": [
    {
     "data": {
      "image/png": "[encoded data removed]",
      "text/plain": [
       "<matplotlib.figure.Figure at 0x111118dd8>"
      ]
     },
     "metadata": {},
     "output_type": "display_data"
    }
   ],
   "source": [
    "plot_image(axis_costs, precisions, title=\"RECALL\", ylim = [0., 1.005], \n",
    "           xlim = cxlim, file_name=\"precision\", labels=labels, ylabel=\"Precision (%)\", \n",
    "           loc='lower righ', markers=\"<Do|\")"
   ]
  },
  {
   "cell_type": "code",
   "execution_count": 7,
   "metadata": {
    "collapsed": false
   },
   "outputs": [
    {
     "data": {
      "text/html": [
       "<div>\n",
       "<table border=\"1\" class=\"dataframe\">\n",
       "  <thead>\n",
       "    <tr style=\"text-align: right;\">\n",
       "      <th></th>\n",
       "      <th>nlp</th>\n",
       "      <th>algorithm</th>\n",
       "      <th>cost_ratio</th>\n",
       "      <th>precision</th>\n",
       "      <th>recall</th>\n",
       "    </tr>\n",
       "  </thead>\n",
       "  <tbody>\n",
       "    <tr>\n",
       "      <th>40</th>\n",
       "      <td>Bigrams</td>\n",
       "      <td>SVM</td>\n",
       "      <td>2</td>\n",
       "      <td>0.986608</td>\n",
       "      <td>0.487647</td>\n",
       "    </tr>\n",
       "    <tr>\n",
       "      <th>41</th>\n",
       "      <td>Bigrams</td>\n",
       "      <td>SVM</td>\n",
       "      <td>3</td>\n",
       "      <td>0.939657</td>\n",
       "      <td>0.773072</td>\n",
       "    </tr>\n",
       "    <tr>\n",
       "      <th>42</th>\n",
       "      <td>Bigrams</td>\n",
       "      <td>SVM</td>\n",
       "      <td>4</td>\n",
       "      <td>0.776234</td>\n",
       "      <td>0.971078</td>\n",
       "    </tr>\n",
       "    <tr>\n",
       "      <th>43</th>\n",
       "      <td>Bigrams</td>\n",
       "      <td>SVM</td>\n",
       "      <td>6</td>\n",
       "      <td>0.509060</td>\n",
       "      <td>0.994902</td>\n",
       "    </tr>\n",
       "    <tr>\n",
       "      <th>44</th>\n",
       "      <td>Bigrams</td>\n",
       "      <td>SVM</td>\n",
       "      <td>10</td>\n",
       "      <td>0.476494</td>\n",
       "      <td>0.996601</td>\n",
       "    </tr>\n",
       "    <tr>\n",
       "      <th>45</th>\n",
       "      <td>Bigrams</td>\n",
       "      <td>SVM</td>\n",
       "      <td>25</td>\n",
       "      <td>0.475394</td>\n",
       "      <td>0.996601</td>\n",
       "    </tr>\n",
       "    <tr>\n",
       "      <th>46</th>\n",
       "      <td>Bigrams</td>\n",
       "      <td>SVM</td>\n",
       "      <td>50</td>\n",
       "      <td>0.475394</td>\n",
       "      <td>0.996601</td>\n",
       "    </tr>\n",
       "    <tr>\n",
       "      <th>47</th>\n",
       "      <td>Bigrams</td>\n",
       "      <td>SVM</td>\n",
       "      <td>100</td>\n",
       "      <td>0.475394</td>\n",
       "      <td>0.996601</td>\n",
       "    </tr>\n",
       "    <tr>\n",
       "      <th>48</th>\n",
       "      <td>Bigrams</td>\n",
       "      <td>SVM</td>\n",
       "      <td>1000</td>\n",
       "      <td>0.475394</td>\n",
       "      <td>0.996601</td>\n",
       "    </tr>\n",
       "    <tr>\n",
       "      <th>49</th>\n",
       "      <td>Bigrams</td>\n",
       "      <td>SVM</td>\n",
       "      <td>1000000</td>\n",
       "      <td>0.475394</td>\n",
       "      <td>0.996601</td>\n",
       "    </tr>\n",
       "    <tr>\n",
       "      <th>90</th>\n",
       "      <td>Combination</td>\n",
       "      <td>SVM</td>\n",
       "      <td>2</td>\n",
       "      <td>0.987358</td>\n",
       "      <td>0.532059</td>\n",
       "    </tr>\n",
       "    <tr>\n",
       "      <th>91</th>\n",
       "      <td>Combination</td>\n",
       "      <td>SVM</td>\n",
       "      <td>3</td>\n",
       "      <td>0.929184</td>\n",
       "      <td>0.808889</td>\n",
       "    </tr>\n",
       "    <tr>\n",
       "      <th>92</th>\n",
       "      <td>Combination</td>\n",
       "      <td>SVM</td>\n",
       "      <td>4</td>\n",
       "      <td>0.839017</td>\n",
       "      <td>0.963170</td>\n",
       "    </tr>\n",
       "    <tr>\n",
       "      <th>93</th>\n",
       "      <td>Combination</td>\n",
       "      <td>SVM</td>\n",
       "      <td>6</td>\n",
       "      <td>0.585182</td>\n",
       "      <td>0.988693</td>\n",
       "    </tr>\n",
       "    <tr>\n",
       "      <th>94</th>\n",
       "      <td>Combination</td>\n",
       "      <td>SVM</td>\n",
       "      <td>10</td>\n",
       "      <td>0.537471</td>\n",
       "      <td>0.989804</td>\n",
       "    </tr>\n",
       "    <tr>\n",
       "      <th>95</th>\n",
       "      <td>Combination</td>\n",
       "      <td>SVM</td>\n",
       "      <td>25</td>\n",
       "      <td>0.529778</td>\n",
       "      <td>0.989804</td>\n",
       "    </tr>\n",
       "    <tr>\n",
       "      <th>96</th>\n",
       "      <td>Combination</td>\n",
       "      <td>SVM</td>\n",
       "      <td>50</td>\n",
       "      <td>0.529778</td>\n",
       "      <td>0.989804</td>\n",
       "    </tr>\n",
       "    <tr>\n",
       "      <th>97</th>\n",
       "      <td>Combination</td>\n",
       "      <td>SVM</td>\n",
       "      <td>100</td>\n",
       "      <td>0.529778</td>\n",
       "      <td>0.989804</td>\n",
       "    </tr>\n",
       "    <tr>\n",
       "      <th>98</th>\n",
       "      <td>Combination</td>\n",
       "      <td>SVM</td>\n",
       "      <td>1000</td>\n",
       "      <td>0.529778</td>\n",
       "      <td>0.989804</td>\n",
       "    </tr>\n",
       "    <tr>\n",
       "      <th>99</th>\n",
       "      <td>Combination</td>\n",
       "      <td>SVM</td>\n",
       "      <td>1000000</td>\n",
       "      <td>0.529778</td>\n",
       "      <td>0.989804</td>\n",
       "    </tr>\n",
       "    <tr>\n",
       "      <th>140</th>\n",
       "      <td>None</td>\n",
       "      <td>SVM</td>\n",
       "      <td>2</td>\n",
       "      <td>0.976525</td>\n",
       "      <td>0.603235</td>\n",
       "    </tr>\n",
       "    <tr>\n",
       "      <th>141</th>\n",
       "      <td>None</td>\n",
       "      <td>SVM</td>\n",
       "      <td>3</td>\n",
       "      <td>0.899402</td>\n",
       "      <td>0.857549</td>\n",
       "    </tr>\n",
       "    <tr>\n",
       "      <th>142</th>\n",
       "      <td>None</td>\n",
       "      <td>SVM</td>\n",
       "      <td>4</td>\n",
       "      <td>0.835416</td>\n",
       "      <td>0.945033</td>\n",
       "    </tr>\n",
       "    <tr>\n",
       "      <th>143</th>\n",
       "      <td>None</td>\n",
       "      <td>SVM</td>\n",
       "      <td>6</td>\n",
       "      <td>0.683704</td>\n",
       "      <td>0.984608</td>\n",
       "    </tr>\n",
       "    <tr>\n",
       "      <th>144</th>\n",
       "      <td>None</td>\n",
       "      <td>SVM</td>\n",
       "      <td>10</td>\n",
       "      <td>0.609321</td>\n",
       "      <td>0.988693</td>\n",
       "    </tr>\n",
       "    <tr>\n",
       "      <th>145</th>\n",
       "      <td>None</td>\n",
       "      <td>SVM</td>\n",
       "      <td>25</td>\n",
       "      <td>0.586263</td>\n",
       "      <td>0.988693</td>\n",
       "    </tr>\n",
       "    <tr>\n",
       "      <th>146</th>\n",
       "      <td>None</td>\n",
       "      <td>SVM</td>\n",
       "      <td>50</td>\n",
       "      <td>0.586263</td>\n",
       "      <td>0.988693</td>\n",
       "    </tr>\n",
       "    <tr>\n",
       "      <th>147</th>\n",
       "      <td>None</td>\n",
       "      <td>SVM</td>\n",
       "      <td>100</td>\n",
       "      <td>0.586263</td>\n",
       "      <td>0.988693</td>\n",
       "    </tr>\n",
       "    <tr>\n",
       "      <th>148</th>\n",
       "      <td>None</td>\n",
       "      <td>SVM</td>\n",
       "      <td>1000</td>\n",
       "      <td>0.586263</td>\n",
       "      <td>0.988693</td>\n",
       "    </tr>\n",
       "    <tr>\n",
       "      <th>149</th>\n",
       "      <td>None</td>\n",
       "      <td>SVM</td>\n",
       "      <td>1000000</td>\n",
       "      <td>0.586263</td>\n",
       "      <td>0.988693</td>\n",
       "    </tr>\n",
       "    <tr>\n",
       "      <th>190</th>\n",
       "      <td>Stemming</td>\n",
       "      <td>SVM</td>\n",
       "      <td>2</td>\n",
       "      <td>0.969788</td>\n",
       "      <td>0.623595</td>\n",
       "    </tr>\n",
       "    <tr>\n",
       "      <th>191</th>\n",
       "      <td>Stemming</td>\n",
       "      <td>SVM</td>\n",
       "      <td>3</td>\n",
       "      <td>0.884243</td>\n",
       "      <td>0.858758</td>\n",
       "    </tr>\n",
       "    <tr>\n",
       "      <th>192</th>\n",
       "      <td>Stemming</td>\n",
       "      <td>SVM</td>\n",
       "      <td>4</td>\n",
       "      <td>0.836237</td>\n",
       "      <td>0.948464</td>\n",
       "    </tr>\n",
       "    <tr>\n",
       "      <th>193</th>\n",
       "      <td>Stemming</td>\n",
       "      <td>SVM</td>\n",
       "      <td>6</td>\n",
       "      <td>0.716813</td>\n",
       "      <td>0.980621</td>\n",
       "    </tr>\n",
       "    <tr>\n",
       "      <th>194</th>\n",
       "      <td>Stemming</td>\n",
       "      <td>SVM</td>\n",
       "      <td>10</td>\n",
       "      <td>0.602780</td>\n",
       "      <td>0.982974</td>\n",
       "    </tr>\n",
       "    <tr>\n",
       "      <th>195</th>\n",
       "      <td>Stemming</td>\n",
       "      <td>SVM</td>\n",
       "      <td>25</td>\n",
       "      <td>0.561976</td>\n",
       "      <td>0.983562</td>\n",
       "    </tr>\n",
       "    <tr>\n",
       "      <th>196</th>\n",
       "      <td>Stemming</td>\n",
       "      <td>SVM</td>\n",
       "      <td>50</td>\n",
       "      <td>0.561976</td>\n",
       "      <td>0.983562</td>\n",
       "    </tr>\n",
       "    <tr>\n",
       "      <th>197</th>\n",
       "      <td>Stemming</td>\n",
       "      <td>SVM</td>\n",
       "      <td>100</td>\n",
       "      <td>0.561976</td>\n",
       "      <td>0.983562</td>\n",
       "    </tr>\n",
       "    <tr>\n",
       "      <th>198</th>\n",
       "      <td>Stemming</td>\n",
       "      <td>SVM</td>\n",
       "      <td>1000</td>\n",
       "      <td>0.561976</td>\n",
       "      <td>0.983562</td>\n",
       "    </tr>\n",
       "    <tr>\n",
       "      <th>199</th>\n",
       "      <td>Stemming</td>\n",
       "      <td>SVM</td>\n",
       "      <td>1000000</td>\n",
       "      <td>0.561976</td>\n",
       "      <td>0.983562</td>\n",
       "    </tr>\n",
       "  </tbody>\n",
       "</table>\n",
       "</div>"
      ],
      "text/plain": [
       "             nlp algorithm  cost_ratio  precision    recall\n",
       "40       Bigrams       SVM           2   0.986608  0.487647\n",
       "41       Bigrams       SVM           3   0.939657  0.773072\n",
       "42       Bigrams       SVM           4   0.776234  0.971078\n",
       "43       Bigrams       SVM           6   0.509060  0.994902\n",
       "44       Bigrams       SVM          10   0.476494  0.996601\n",
       "45       Bigrams       SVM          25   0.475394  0.996601\n",
       "46       Bigrams       SVM          50   0.475394  0.996601\n",
       "47       Bigrams       SVM         100   0.475394  0.996601\n",
       "48       Bigrams       SVM        1000   0.475394  0.996601\n",
       "49       Bigrams       SVM     1000000   0.475394  0.996601\n",
       "90   Combination       SVM           2   0.987358  0.532059\n",
       "91   Combination       SVM           3   0.929184  0.808889\n",
       "92   Combination       SVM           4   0.839017  0.963170\n",
       "93   Combination       SVM           6   0.585182  0.988693\n",
       "94   Combination       SVM          10   0.537471  0.989804\n",
       "95   Combination       SVM          25   0.529778  0.989804\n",
       "96   Combination       SVM          50   0.529778  0.989804\n",
       "97   Combination       SVM         100   0.529778  0.989804\n",
       "98   Combination       SVM        1000   0.529778  0.989804\n",
       "99   Combination       SVM     1000000   0.529778  0.989804\n",
       "140         None       SVM           2   0.976525  0.603235\n",
       "141         None       SVM           3   0.899402  0.857549\n",
       "142         None       SVM           4   0.835416  0.945033\n",
       "143         None       SVM           6   0.683704  0.984608\n",
       "144         None       SVM          10   0.609321  0.988693\n",
       "145         None       SVM          25   0.586263  0.988693\n",
       "146         None       SVM          50   0.586263  0.988693\n",
       "147         None       SVM         100   0.586263  0.988693\n",
       "148         None       SVM        1000   0.586263  0.988693\n",
       "149         None       SVM     1000000   0.586263  0.988693\n",
       "190     Stemming       SVM           2   0.969788  0.623595\n",
       "191     Stemming       SVM           3   0.884243  0.858758\n",
       "192     Stemming       SVM           4   0.836237  0.948464\n",
       "193     Stemming       SVM           6   0.716813  0.980621\n",
       "194     Stemming       SVM          10   0.602780  0.982974\n",
       "195     Stemming       SVM          25   0.561976  0.983562\n",
       "196     Stemming       SVM          50   0.561976  0.983562\n",
       "197     Stemming       SVM         100   0.561976  0.983562\n",
       "198     Stemming       SVM        1000   0.561976  0.983562\n",
       "199     Stemming       SVM     1000000   0.561976  0.983562"
      ]
     },
     "execution_count": 7,
     "metadata": {},
     "output_type": "execute_result"
    }
   ],
   "source": [
    "data[\"grouped\"].loc[data[\"grouped\"][\"algorithm\"] == \"SVM\"]"
   ]
  },
  {
   "cell_type": "code",
   "execution_count": null,
   "metadata": {
    "collapsed": true
   },
   "outputs": [],
   "source": []
  }
 ],
 "metadata": {
  "kernelspec": {
   "display_name": "Python 3",
   "language": "python",
   "name": "python3"
  },
  "language_info": {
   "codemirror_mode": {
    "name": "ipython",
    "version": 3
   },
   "file_extension": ".py",
   "mimetype": "text/x-python",
   "name": "python",
   "nbconvert_exporter": "python",
   "pygments_lexer": "ipython3",
   "version": "3.5.1"
  }
 },
 "nbformat": 4,
 "nbformat_minor": 0
}
