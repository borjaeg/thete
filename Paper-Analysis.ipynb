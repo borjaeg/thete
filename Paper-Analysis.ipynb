{
 "cells": [
  {
   "cell_type": "code",
   "execution_count": 1,
   "metadata": {
    "collapsed": false
   },
   "outputs": [],
   "source": [
    "# General imports\n",
    "%matplotlib inline\n",
    "import warnings\n",
    "warnings.filterwarnings('ignore')\n",
    "\n",
    "# Data Science\n",
    "import matplotlib.pyplot as plt\n",
    "import numpy as np\n",
    "import pandas as pd\n",
    "\n",
    "from utils.analysis import load_results, get_best, are_different\n",
    "from utils.analysis import list_best_configurations, get_best_costly_organised\n",
    "from utils.plotting import plot_image"
   ]
  },
  {
   "cell_type": "code",
   "execution_count": 2,
   "metadata": {
    "collapsed": false
   },
   "outputs": [],
   "source": [
    "data = load_results()"
   ]
  },
  {
   "cell_type": "markdown",
   "metadata": {},
   "source": [
    "## Best Result by Algorithm"
   ]
  },
  {
   "cell_type": "code",
   "execution_count": 3,
   "metadata": {
    "collapsed": false
   },
   "outputs": [
    {
     "data": {
      "text/html": [
       "<div>\n",
       "<table border=\"1\" class=\"dataframe\">\n",
       "  <thead>\n",
       "    <tr style=\"text-align: right;\">\n",
       "      <th></th>\n",
       "      <th>nlp</th>\n",
       "      <th>algorithm</th>\n",
       "      <th>cost_ratio</th>\n",
       "      <th>precision</th>\n",
       "      <th>recall</th>\n",
       "    </tr>\n",
       "  </thead>\n",
       "  <tbody>\n",
       "    <tr>\n",
       "      <th>25</th>\n",
       "      <td>Combination</td>\n",
       "      <td>Naive Bayes</td>\n",
       "      <td>25</td>\n",
       "      <td>0.444199</td>\n",
       "      <td>1</td>\n",
       "    </tr>\n",
       "  </tbody>\n",
       "</table>\n",
       "</div>"
      ],
      "text/plain": [
       "            nlp    algorithm  cost_ratio  precision  recall\n",
       "25  Combination  Naive Bayes          25   0.444199       1"
      ]
     },
     "execution_count": 3,
     "metadata": {},
     "output_type": "execute_result"
    }
   ],
   "source": [
    "get_best(data, \"Naive Bayes\")"
   ]
  },
  {
   "cell_type": "code",
   "execution_count": 4,
   "metadata": {
    "collapsed": false
   },
   "outputs": [
    {
     "data": {
      "text/html": [
       "<div>\n",
       "<table border=\"1\" class=\"dataframe\">\n",
       "  <thead>\n",
       "    <tr style=\"text-align: right;\">\n",
       "      <th></th>\n",
       "      <th>nlp</th>\n",
       "      <th>algorithm</th>\n",
       "      <th>cost_ratio</th>\n",
       "      <th>precision</th>\n",
       "      <th>recall</th>\n",
       "    </tr>\n",
       "  </thead>\n",
       "  <tbody>\n",
       "    <tr>\n",
       "      <th>44</th>\n",
       "      <td>Combination</td>\n",
       "      <td>SVM</td>\n",
       "      <td>10</td>\n",
       "      <td>0.537471</td>\n",
       "      <td>0.989804</td>\n",
       "    </tr>\n",
       "  </tbody>\n",
       "</table>\n",
       "</div>"
      ],
      "text/plain": [
       "            nlp algorithm  cost_ratio  precision    recall\n",
       "44  Combination       SVM          10   0.537471  0.989804"
      ]
     },
     "execution_count": 4,
     "metadata": {},
     "output_type": "execute_result"
    }
   ],
   "source": [
    "get_best(data, \"SVM\")"
   ]
  },
  {
   "cell_type": "code",
   "execution_count": 5,
   "metadata": {
    "collapsed": false
   },
   "outputs": [
    {
     "data": {
      "text/html": [
       "<div>\n",
       "<table border=\"1\" class=\"dataframe\">\n",
       "  <thead>\n",
       "    <tr style=\"text-align: right;\">\n",
       "      <th></th>\n",
       "      <th>nlp</th>\n",
       "      <th>algorithm</th>\n",
       "      <th>cost_ratio</th>\n",
       "      <th>precision</th>\n",
       "      <th>recall</th>\n",
       "    </tr>\n",
       "  </thead>\n",
       "  <tbody>\n",
       "    <tr>\n",
       "      <th>35</th>\n",
       "      <td>Combination</td>\n",
       "      <td>Random Forest</td>\n",
       "      <td>25</td>\n",
       "      <td>0.790091</td>\n",
       "      <td>0.935033</td>\n",
       "    </tr>\n",
       "  </tbody>\n",
       "</table>\n",
       "</div>"
      ],
      "text/plain": [
       "            nlp      algorithm  cost_ratio  precision    recall\n",
       "35  Combination  Random Forest          25   0.790091  0.935033"
      ]
     },
     "execution_count": 5,
     "metadata": {},
     "output_type": "execute_result"
    }
   ],
   "source": [
    "get_best(data, \"Random Forest\")"
   ]
  },
  {
   "cell_type": "code",
   "execution_count": 6,
   "metadata": {
    "collapsed": false
   },
   "outputs": [
    {
     "data": {
      "text/html": [
       "<div>\n",
       "<table border=\"1\" class=\"dataframe\">\n",
       "  <thead>\n",
       "    <tr style=\"text-align: right;\">\n",
       "      <th></th>\n",
       "      <th>nlp</th>\n",
       "      <th>algorithm</th>\n",
       "      <th>cost_ratio</th>\n",
       "      <th>precision</th>\n",
       "      <th>recall</th>\n",
       "    </tr>\n",
       "  </thead>\n",
       "  <tbody>\n",
       "    <tr>\n",
       "      <th>19</th>\n",
       "      <td>Combination</td>\n",
       "      <td>Logistic</td>\n",
       "      <td>1000000</td>\n",
       "      <td>0.344986</td>\n",
       "      <td>1</td>\n",
       "    </tr>\n",
       "    <tr>\n",
       "      <th>69</th>\n",
       "      <td>None</td>\n",
       "      <td>Logistic</td>\n",
       "      <td>1000000</td>\n",
       "      <td>0.344986</td>\n",
       "      <td>1</td>\n",
       "    </tr>\n",
       "    <tr>\n",
       "      <th>119</th>\n",
       "      <td>Stemming</td>\n",
       "      <td>Logistic</td>\n",
       "      <td>1000000</td>\n",
       "      <td>0.344986</td>\n",
       "      <td>1</td>\n",
       "    </tr>\n",
       "  </tbody>\n",
       "</table>\n",
       "</div>"
      ],
      "text/plain": [
       "             nlp algorithm  cost_ratio  precision  recall\n",
       "19   Combination  Logistic     1000000   0.344986       1\n",
       "69          None  Logistic     1000000   0.344986       1\n",
       "119     Stemming  Logistic     1000000   0.344986       1"
      ]
     },
     "execution_count": 6,
     "metadata": {},
     "output_type": "execute_result"
    }
   ],
   "source": [
    "get_best(data, \"Logistic\")"
   ]
  },
  {
   "cell_type": "markdown",
   "metadata": {},
   "source": [
    "## Analyzing preprocessing techniques"
   ]
  },
  {
   "cell_type": "markdown",
   "metadata": {},
   "source": [
    "### Steming vs bigrams vs combination"
   ]
  },
  {
   "cell_type": "code",
   "execution_count": 7,
   "metadata": {
    "collapsed": false
   },
   "outputs": [
    {
     "name": "stdout",
     "output_type": "stream",
     "text": [
      "None 0.613094528\n",
      "Stemming 0.61239023\n",
      "Combination 0.600275024\n",
      "\n",
      "NON Parametric test\n",
      "\n",
      "Statistically NON-significant different results between None and Stemming\n",
      "Statistically NON-significant different results between None and Combination\n",
      "Statistically NON-significant different results between Stemming and Combination\n",
      "==============================\n",
      "None 0.952829404\n",
      "Stemming 0.951656892\n",
      "Combination 0.95213788\n",
      "\n",
      "NON Parametric test\n",
      "\n",
      "Statistically NON-significant different results between None and Stemming\n",
      "Statistically NON-significant different results between None and Combination\n",
      "Statistically NON-significant different results between Stemming and Combination\n"
     ]
    }
   ],
   "source": [
    "are_different(data, 'nlp', 'precision')\n",
    "print(\"=\" * 30)\n",
    "are_different(data, 'nlp', 'recall')"
   ]
  },
  {
   "cell_type": "markdown",
   "metadata": {},
   "source": [
    "## Analyzing algorithms"
   ]
  },
  {
   "cell_type": "code",
   "execution_count": 8,
   "metadata": {
    "collapsed": false
   },
   "outputs": [
    {
     "name": "stdout",
     "output_type": "stream",
     "text": [
      "Naive Bayes 0.491114113333\n",
      "Random Forest 0.84472952\n",
      "SVM 0.67608418\n",
      "Baseline 0.344986\n",
      "Logistic 0.686019156667\n",
      "\n",
      "NON Parametric test\n",
      "\n",
      "Statistically significant different results between Naive Bayes and Random Forest\n",
      "Statistically significant different results between Naive Bayes and SVM\n",
      "Statistically significant different results between Naive Bayes and Baseline\n",
      "Statistically significant different results between Naive Bayes and Logistic\n",
      "Statistically significant different results between Random Forest and SVM\n",
      "Statistically significant different results between Random Forest and Baseline\n",
      "Statistically significant different results between Random Forest and Logistic\n",
      "Statistically significant different results between SVM and Baseline\n",
      "Statistically NON-significant different results between SVM and Logistic\n",
      "Statistically significant different results between Baseline and Logistic\n",
      "==============================\n",
      "Naive Bayes 0.990417193333\n",
      "Random Forest 0.891039183333\n",
      "SVM 0.928881326667\n",
      "Baseline 1.0\n",
      "Logistic 0.95070259\n",
      "\n",
      "NON Parametric test\n",
      "\n",
      "Statistically significant different results between Naive Bayes and Random Forest\n",
      "Statistically significant different results between Naive Bayes and SVM\n",
      "Statistically significant different results between Naive Bayes and Baseline\n",
      "Statistically significant different results between Naive Bayes and Logistic\n",
      "Statistically significant different results between Random Forest and SVM\n",
      "Statistically significant different results between Random Forest and Baseline\n",
      "Statistically significant different results between Random Forest and Logistic\n",
      "Statistically significant different results between SVM and Baseline\n",
      "Statistically NON-significant different results between SVM and Logistic\n",
      "Statistically significant different results between Baseline and Logistic\n"
     ]
    }
   ],
   "source": [
    "are_different(data, 'algorithm', 'precision', threshold=0.001)\n",
    "print(\"=\" * 30)\n",
    "are_different(data, 'algorithm', 'recall', threshold=0.001)"
   ]
  },
  {
   "cell_type": "markdown",
   "metadata": {},
   "source": [
    "    ### List best configurations"
   ]
  },
  {
   "cell_type": "code",
   "execution_count": 9,
   "metadata": {
    "collapsed": false
   },
   "outputs": [
    {
     "data": {
      "text/html": [
       "<div>\n",
       "<table border=\"1\" class=\"dataframe\">\n",
       "  <thead>\n",
       "    <tr style=\"text-align: right;\">\n",
       "      <th></th>\n",
       "      <th>algorithm</th>\n",
       "      <th>cost</th>\n",
       "      <th>nlp</th>\n",
       "      <th>precision</th>\n",
       "      <th>recall</th>\n",
       "    </tr>\n",
       "  </thead>\n",
       "  <tbody>\n",
       "    <tr>\n",
       "      <th>0</th>\n",
       "      <td>Baseline</td>\n",
       "      <td>2</td>\n",
       "      <td>Combination</td>\n",
       "      <td>0.344986</td>\n",
       "      <td>1.000000</td>\n",
       "    </tr>\n",
       "    <tr>\n",
       "      <th>0</th>\n",
       "      <td>Baseline</td>\n",
       "      <td>2</td>\n",
       "      <td>None</td>\n",
       "      <td>0.344986</td>\n",
       "      <td>1.000000</td>\n",
       "    </tr>\n",
       "    <tr>\n",
       "      <th>0</th>\n",
       "      <td>Baseline</td>\n",
       "      <td>2</td>\n",
       "      <td>Stemming</td>\n",
       "      <td>0.344986</td>\n",
       "      <td>1.000000</td>\n",
       "    </tr>\n",
       "    <tr>\n",
       "      <th>0</th>\n",
       "      <td>Logistic</td>\n",
       "      <td>1000000</td>\n",
       "      <td>Combination</td>\n",
       "      <td>0.344986</td>\n",
       "      <td>1.000000</td>\n",
       "    </tr>\n",
       "    <tr>\n",
       "      <th>0</th>\n",
       "      <td>Logistic</td>\n",
       "      <td>1000000</td>\n",
       "      <td>None</td>\n",
       "      <td>0.344986</td>\n",
       "      <td>1.000000</td>\n",
       "    </tr>\n",
       "    <tr>\n",
       "      <th>0</th>\n",
       "      <td>Logistic</td>\n",
       "      <td>1000000</td>\n",
       "      <td>Stemming</td>\n",
       "      <td>0.344986</td>\n",
       "      <td>1.000000</td>\n",
       "    </tr>\n",
       "    <tr>\n",
       "      <th>0</th>\n",
       "      <td>Naive Bayes</td>\n",
       "      <td>25</td>\n",
       "      <td>Combination</td>\n",
       "      <td>0.444199</td>\n",
       "      <td>1.000000</td>\n",
       "    </tr>\n",
       "    <tr>\n",
       "      <th>0</th>\n",
       "      <td>Naive Bayes</td>\n",
       "      <td>25</td>\n",
       "      <td>None</td>\n",
       "      <td>0.441965</td>\n",
       "      <td>1.000000</td>\n",
       "    </tr>\n",
       "    <tr>\n",
       "      <th>0</th>\n",
       "      <td>Naive Bayes</td>\n",
       "      <td>50</td>\n",
       "      <td>Stemming</td>\n",
       "      <td>0.401889</td>\n",
       "      <td>1.000000</td>\n",
       "    </tr>\n",
       "    <tr>\n",
       "      <th>0</th>\n",
       "      <td>Random Forest</td>\n",
       "      <td>25</td>\n",
       "      <td>Combination</td>\n",
       "      <td>0.790091</td>\n",
       "      <td>0.935033</td>\n",
       "    </tr>\n",
       "    <tr>\n",
       "      <th>0</th>\n",
       "      <td>Random Forest</td>\n",
       "      <td>1000000</td>\n",
       "      <td>None</td>\n",
       "      <td>0.767051</td>\n",
       "      <td>0.917059</td>\n",
       "    </tr>\n",
       "    <tr>\n",
       "      <th>0</th>\n",
       "      <td>Random Forest</td>\n",
       "      <td>1000000</td>\n",
       "      <td>Stemming</td>\n",
       "      <td>0.784803</td>\n",
       "      <td>0.913725</td>\n",
       "    </tr>\n",
       "    <tr>\n",
       "      <th>0</th>\n",
       "      <td>SVM</td>\n",
       "      <td>10</td>\n",
       "      <td>Combination</td>\n",
       "      <td>0.537471</td>\n",
       "      <td>0.989804</td>\n",
       "    </tr>\n",
       "    <tr>\n",
       "      <th>0</th>\n",
       "      <td>SVM</td>\n",
       "      <td>10</td>\n",
       "      <td>None</td>\n",
       "      <td>0.609321</td>\n",
       "      <td>0.988693</td>\n",
       "    </tr>\n",
       "    <tr>\n",
       "      <th>0</th>\n",
       "      <td>SVM</td>\n",
       "      <td>25</td>\n",
       "      <td>Stemming</td>\n",
       "      <td>0.561976</td>\n",
       "      <td>0.983562</td>\n",
       "    </tr>\n",
       "  </tbody>\n",
       "</table>\n",
       "</div>"
      ],
      "text/plain": [
       "       algorithm     cost          nlp  precision    recall\n",
       "0       Baseline        2  Combination   0.344986  1.000000\n",
       "0       Baseline        2         None   0.344986  1.000000\n",
       "0       Baseline        2     Stemming   0.344986  1.000000\n",
       "0       Logistic  1000000  Combination   0.344986  1.000000\n",
       "0       Logistic  1000000         None   0.344986  1.000000\n",
       "0       Logistic  1000000     Stemming   0.344986  1.000000\n",
       "0    Naive Bayes       25  Combination   0.444199  1.000000\n",
       "0    Naive Bayes       25         None   0.441965  1.000000\n",
       "0    Naive Bayes       50     Stemming   0.401889  1.000000\n",
       "0  Random Forest       25  Combination   0.790091  0.935033\n",
       "0  Random Forest  1000000         None   0.767051  0.917059\n",
       "0  Random Forest  1000000     Stemming   0.784803  0.913725\n",
       "0            SVM       10  Combination   0.537471  0.989804\n",
       "0            SVM       10         None   0.609321  0.988693\n",
       "0            SVM       25     Stemming   0.561976  0.983562"
      ]
     },
     "execution_count": 9,
     "metadata": {},
     "output_type": "execute_result"
    }
   ],
   "source": [
    "list_best_configurations(data)"
   ]
  },
  {
   "cell_type": "code",
   "execution_count": 3,
   "metadata": {
    "collapsed": false
   },
   "outputs": [],
   "source": [
    "recalls, precisions = get_best_costly_organised(data)"
   ]
  },
  {
   "cell_type": "code",
   "execution_count": 4,
   "metadata": {
    "collapsed": false
   },
   "outputs": [
    {
     "data": {
      "image/png": "[encoded data removed]",
      "text/plain": [
       "<matplotlib.figure.Figure at 0x10e681898>"
      ]
     },
     "metadata": {},
     "output_type": "display_data"
    }
   ],
   "source": [
    "plot_image(recalls, title=\"RECALL\", ylim = [0.70, 1.005], file_name=\"recall\", ylabel=\"Recall (%)\", \n",
    "           loc='lower righ', markers=\"<Do|\")"
   ]
  },
  {
   "cell_type": "code",
   "execution_count": 5,
   "metadata": {
    "collapsed": false
   },
   "outputs": [
    {
     "ename": "NameError",
     "evalue": "name 'axis_costs' is not defined",
     "output_type": "error",
     "traceback": [
      "\u001b[0;31m---------------------------------------------------------------------------\u001b[0m",
      "\u001b[0;31mNameError\u001b[0m                                 Traceback (most recent call last)",
      "\u001b[0;32m<ipython-input-5-be486ed083c6>\u001b[0m in \u001b[0;36m<module>\u001b[0;34m()\u001b[0m\n\u001b[0;32m----> 1\u001b[0;31m plot_image(axis_costs, precisions, title=\"RECALL\", ylim = [-0.1, 1.005], \n\u001b[0m\u001b[1;32m      2\u001b[0m            \u001b[0mxlim\u001b[0m \u001b[0;34m=\u001b[0m \u001b[0mcxlim\u001b[0m\u001b[0;34m,\u001b[0m \u001b[0mfile_name\u001b[0m\u001b[0;34m=\u001b[0m\u001b[0;34m\"precision\"\u001b[0m\u001b[0;34m,\u001b[0m \u001b[0mlabels\u001b[0m\u001b[0;34m=\u001b[0m\u001b[0mlabels\u001b[0m\u001b[0;34m,\u001b[0m \u001b[0mylabel\u001b[0m\u001b[0;34m=\u001b[0m\u001b[0;34m\"Precision (%)\"\u001b[0m\u001b[0;34m,\u001b[0m\u001b[0;34m\u001b[0m\u001b[0m\n\u001b[1;32m      3\u001b[0m            loc='lower righ', markers=\"<Do|\")\n",
      "\u001b[0;31mNameError\u001b[0m: name 'axis_costs' is not defined"
     ]
    }
   ],
   "source": [
    "plot_image(precisions, title=\"RECALL\", ylim = [-0.1, 1.005],  file_name=\"precision\", ylabel=\"Precision (%)\", \n",
    "           loc='lower righ', markers=\"<Do|\")"
   ]
  },
  {
   "cell_type": "code",
   "execution_count": 29,
   "metadata": {
    "collapsed": false
   },
   "outputs": [
    {
     "data": {
      "text/plain": [
       "0.04344015526629165"
      ]
     },
     "execution_count": 29,
     "metadata": {},
     "output_type": "execute_result"
    }
   ],
   "source": [
    "d = data[\"denormalized\"]\n",
    "d1 = d.loc[(d[\"algorithm\"] == \"Naive Bayes\") &\n",
    "      (d[\"nlp\"] == \"Combination\") &\n",
    "      (d[\"cost_ratio\"] == 25)][\"precision\"]\n",
    "\n",
    "d2 = d.loc[(d[\"algorithm\"] == \"Naive Bayes\") &\n",
    "      (d[\"nlp\"] == \"None\") &\n",
    "      (d[\"cost_ratio\"] == 25)][\"precision\"]\n",
    "\n",
    "ttest_ind(d1, d2, equal_var=False)[1]"
   ]
  },
  {
   "cell_type": "code",
   "execution_count": null,
   "metadata": {
    "collapsed": true
   },
   "outputs": [],
   "source": []
  }
 ],
 "metadata": {
  "kernelspec": {
   "display_name": "Python 3",
   "language": "python",
   "name": "python3"
  },
  "language_info": {
   "codemirror_mode": {
    "name": "ipython",
    "version": 3
   },
   "file_extension": ".py",
   "mimetype": "text/x-python",
   "name": "python",
   "nbconvert_exporter": "python",
   "pygments_lexer": "ipython3",
   "version": "3.5.1"
  }
 },
 "nbformat": 4,
 "nbformat_minor": 0
}
