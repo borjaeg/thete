{
 "cells": [
  {
   "cell_type": "code",
   "execution_count": 4,
   "metadata": {
    "collapsed": true
   },
   "outputs": [],
   "source": [
    "# General imports\n",
    "%matplotlib inline\n",
    "import warnings\n",
    "warnings.filterwarnings('ignore')\n",
    "import collections\n",
    "import os\n",
    "import time\n",
    "import re\n",
    "import itertools\n",
    "\n",
    "# Data Science\n",
    "import matplotlib.pyplot as plt\n",
    "import numpy as np\n",
    "import pandas as pd\n",
    "\n",
    "# Plotting\n",
    "from matplotlib.markers import MarkerStyle\n",
    "from PIL import Image\n",
    "\n",
    "# Corpus\n",
    "from export_results import *\n",
    "from utils import *\n",
    "from scipy.stats import *"
   ]
  },
  {
   "cell_type": "code",
   "execution_count": 5,
   "metadata": {
    "collapsed": true
   },
   "outputs": [],
   "source": [
    "#\".*Stemming.*(Bayes|SVM)\"    \n",
    "def summary(recalls, precisions, pattern=\".*\"):\n",
    "    r, p = filter_results(recalls, precisions, pipes, pattern) \n",
    "    max_recall = 0.0\n",
    "    best_precision = 0.0\n",
    "    best_cost = \"1:1\"\n",
    "    best_algorithm = ''\n",
    "\n",
    "    for (name, recalls), (name_2, precisions) in zip(r.items(), p.items()):\n",
    "        print(\"Executing: \" + name + \" ...\")\n",
    "        recs = []\n",
    "        pres = []\n",
    "        recs.append(np.mean(recalls))\n",
    "        pres.append(np.mean(precisions))\n",
    "        for i, (recall, precision) in enumerate(zip(recalls, precisions)):\n",
    "            if recall > max_recall:\n",
    "                best_cost = labels[i]\n",
    "                max_recall = recall\n",
    "                best_precision = precisions[i]\n",
    "                best_algorithm = name\n",
    "            if recall == max_recall and precision > best_precision:\n",
    "                best_cost = labels[i]\n",
    "                max_recall = recall\n",
    "                best_precision = precisions[i]\n",
    "                best_algorithm = name\n",
    "                \n",
    "    return best_cost, max_recall, best_precision, best_algorithm, np.mean(recs), np.mean(pres) \n",
    "\n",
    "def load_results():\n",
    "    import pymysql.cursors\n",
    "\n",
    "    connection = pymysql.connect(host='localhost',\n",
    "                             user='root',\n",
    "                             password='',\n",
    "                             db='agriculture_experiments',\n",
    "                             charset='utf8')\n",
    "    results = []\n",
    "\n",
    "    try:\n",
    "        sql = \"SELECT * FROM results\"\n",
    "        results = pd.read_sql(sql, connection)\n",
    "    except Exception as e:\n",
    "        print(e)\n",
    "    finally:\n",
    "        connection.close()\n",
    "        \n",
    "    return results\n",
    "\n",
    "\n",
    "def save_image(image, url='../images/', name = 'default'):\n",
    "    image.savefig(url + name)\n",
    "    Image.open(url + name + '.png').convert('L').save(url + name + '.png')\n",
    "    \n",
    "def plot_image(x, y, title=\"title\", ylim = [0, 1.02], xlim = [2, 50.5], \n",
    "               colors=\"rgbmyc\", models=None, name=\"name\", labels=[], ylabel = \"ylabel\", \n",
    "               loc=\"better\", markers=\".,ov<>\", pattern=\"\"):\n",
    "    plt.figure(figsize=(14,13))\n",
    "    plt.ylim(ylim)\n",
    "    plt.xlim(xlim)\n",
    "    plt.xlabel(\"Misclassification Cost Ratio\")\n",
    "    plt.ylabel(ylabel)\n",
    "    plt.style.use('paper.mplstyle')\n",
    "    \n",
    "    filled_markers = ('<', 'D', 'o', '|', 'v', '>', 'p', 'd') #' '^', ', '>', '8', 's', 'p', '*', 'h', 'H', , 'd')\n",
    "    fillstyles = ('full', 'full', 'full', 'full', 'top', 'none')\n",
    "\n",
    "    i = 0\n",
    "    for model in models:\n",
    "        model_name = model[0]\n",
    "        if re.match(pattern, model_name) is not None:\n",
    "            plt.plot(x, y[model_name])\n",
    "            marker = MarkerStyle(marker=filled_markers[i], fillstyle=fillstyles[i])\n",
    "            plt.scatter(x, y[model_name], marker=marker, s=300, label=model[0])\n",
    "            i+=1\n",
    "    \n",
    "    plt.xticks(x, labels, rotation='vertical')\n",
    "    plt.legend(loc=loc, prop={'size':30})\n",
    "\n",
    "    save_image(plt,'../images/', name)\n",
    "    plt.show()\n",
    "    \n",
    "def filter_results(recalls, precisions, models=None, pattern=\".*\"):\n",
    "\n",
    "    recalls_avg = {}\n",
    "    precisions_avg = {}\n",
    "\n",
    "    for model in models:\n",
    "        name = model[0]\n",
    "        if re.match(pattern, name) is not None:\n",
    "            recalls_avg[name] = recalls[name]\n",
    "            precisions_avg[name] = precisions[name]\n",
    "    \n",
    "    return recalls_avg, precisions_avg"
   ]
  },
  {
   "cell_type": "code",
   "execution_count": 6,
   "metadata": {
    "collapsed": false
   },
   "outputs": [],
   "source": [
    "data = load_results()"
   ]
  },
  {
   "cell_type": "code",
   "execution_count": 10,
   "metadata": {
    "collapsed": true
   },
   "outputs": [],
   "source": [
    "bayes = data[data[\"algorithm\"] == \"Naive Bayes\"][\"recall\"]\n",
    "svm = data[data[\"algorithm\"] == \"SVM\"][\"recall\"]"
   ]
  },
  {
   "cell_type": "markdown",
   "metadata": {},
   "source": [
    "### Parametric"
   ]
  },
  {
   "cell_type": "code",
   "execution_count": 11,
   "metadata": {
    "collapsed": true
   },
   "outputs": [],
   "source": [
    "z_stat, p_val = ttest_ind(bayes, svm, equal_var=False)\n",
    "if p_val < 0.05:\n",
    "    print(\"Statistically significan different results\")"
   ]
  },
  {
   "cell_type": "markdown",
   "metadata": {},
   "source": [
    "### Non-parametric"
   ]
  },
  {
   "cell_type": "code",
   "execution_count": 12,
   "metadata": {
    "collapsed": false
   },
   "outputs": [
    {
     "ename": "ValueError",
     "evalue": "Unequal N in wilcoxon.  Aborting.",
     "output_type": "error",
     "traceback": [
      "\u001b[0;31m---------------------------------------------------------------------------\u001b[0m",
      "\u001b[0;31mValueError\u001b[0m                                Traceback (most recent call last)",
      "\u001b[0;32m<ipython-input-12-1300c04ead0d>\u001b[0m in \u001b[0;36m<module>\u001b[0;34m()\u001b[0m\n\u001b[0;32m----> 1\u001b[0;31m \u001b[0mz_stat\u001b[0m\u001b[0;34m,\u001b[0m \u001b[0mp_val\u001b[0m \u001b[0;34m=\u001b[0m \u001b[0mwilcoxon\u001b[0m\u001b[0;34m(\u001b[0m\u001b[0mbayes\u001b[0m\u001b[0;34m,\u001b[0m \u001b[0msvm\u001b[0m\u001b[0;34m,\u001b[0m \u001b[0mzero_method\u001b[0m\u001b[0;34m=\u001b[0m\u001b[0;34m'wilcox'\u001b[0m\u001b[0;34m,\u001b[0m \u001b[0mcorrection\u001b[0m\u001b[0;34m=\u001b[0m\u001b[0;32mFalse\u001b[0m\u001b[0;34m)\u001b[0m\u001b[0;34m\u001b[0m\u001b[0m\n\u001b[0m\u001b[1;32m      2\u001b[0m \u001b[0;32mif\u001b[0m \u001b[0mp_val\u001b[0m \u001b[0;34m<\u001b[0m \u001b[0;36m0.05\u001b[0m\u001b[0;34m:\u001b[0m\u001b[0;34m\u001b[0m\u001b[0m\n\u001b[1;32m      3\u001b[0m     \u001b[0mprint\u001b[0m\u001b[0;34m(\u001b[0m\u001b[0;34m\"Statistically significan different results\"\u001b[0m\u001b[0;34m)\u001b[0m\u001b[0;34m\u001b[0m\u001b[0m\n",
      "\u001b[0;32m/Users/b3j90/anaconda/envs/iaaa_agriculture/lib/python3.5/site-packages/scipy/stats/morestats.py\u001b[0m in \u001b[0;36mwilcoxon\u001b[0;34m(x, y, zero_method, correction)\u001b[0m\n\u001b[1;32m   2062\u001b[0m         \u001b[0mx\u001b[0m\u001b[0;34m,\u001b[0m \u001b[0my\u001b[0m \u001b[0;34m=\u001b[0m \u001b[0mmap\u001b[0m\u001b[0;34m(\u001b[0m\u001b[0masarray\u001b[0m\u001b[0;34m,\u001b[0m \u001b[0;34m(\u001b[0m\u001b[0mx\u001b[0m\u001b[0;34m,\u001b[0m \u001b[0my\u001b[0m\u001b[0;34m)\u001b[0m\u001b[0;34m)\u001b[0m\u001b[0;34m\u001b[0m\u001b[0m\n\u001b[1;32m   2063\u001b[0m         \u001b[0;32mif\u001b[0m \u001b[0mlen\u001b[0m\u001b[0;34m(\u001b[0m\u001b[0mx\u001b[0m\u001b[0;34m)\u001b[0m \u001b[0;34m!=\u001b[0m \u001b[0mlen\u001b[0m\u001b[0;34m(\u001b[0m\u001b[0my\u001b[0m\u001b[0;34m)\u001b[0m\u001b[0;34m:\u001b[0m\u001b[0;34m\u001b[0m\u001b[0m\n\u001b[0;32m-> 2064\u001b[0;31m             \u001b[0;32mraise\u001b[0m \u001b[0mValueError\u001b[0m\u001b[0;34m(\u001b[0m\u001b[0;34m'Unequal N in wilcoxon.  Aborting.'\u001b[0m\u001b[0;34m)\u001b[0m\u001b[0;34m\u001b[0m\u001b[0m\n\u001b[0m\u001b[1;32m   2065\u001b[0m         \u001b[0md\u001b[0m \u001b[0;34m=\u001b[0m \u001b[0mx\u001b[0m \u001b[0;34m-\u001b[0m \u001b[0my\u001b[0m\u001b[0;34m\u001b[0m\u001b[0m\n\u001b[1;32m   2066\u001b[0m \u001b[0;34m\u001b[0m\u001b[0m\n",
      "\u001b[0;31mValueError\u001b[0m: Unequal N in wilcoxon.  Aborting."
     ]
    }
   ],
   "source": [
    "z_stat, p_val = wilcoxon(bayes, svm, zero_method='wilcox', correction=False)\n",
    "if p_val < 0.05:\n",
    "    print(\"Statistically significan different results\")"
   ]
  },
  {
   "cell_type": "code",
   "execution_count": null,
   "metadata": {
    "collapsed": true
   },
   "outputs": [],
   "source": [
    "dp = data[data[\"recall\"] == data[\"recall\"].max()]\n",
    "dp[dp[\"prec\"] == dp[\"prec\"].max()]"
   ]
  },
  {
   "cell_type": "code",
   "execution_count": null,
   "metadata": {
    "collapsed": true
   },
   "outputs": [],
   "source": [
    "best_cost, max_recall, best_precision, best_algorithm, mean_recall, mean_precision = \\\n",
    "    summary(recall_avg_normalized, precision_avg_normalized, pattern=\".*\")"
   ]
  },
  {
   "cell_type": "code",
   "execution_count": null,
   "metadata": {
    "collapsed": true
   },
   "outputs": [],
   "source": [
    "print(best_cost)\n",
    "print(max_recall)\n",
    "print(best_precision)\n",
    "print(best_algorithm)\n",
    "print(mean_recall)\n",
    "print(mean_precision)"
   ]
  },
  {
   "cell_type": "markdown",
   "metadata": {},
   "source": [
    "## Plot best results"
   ]
  },
  {
   "cell_type": "code",
   "execution_count": null,
   "metadata": {
    "collapsed": true
   },
   "outputs": [],
   "source": [
    "plot_image(axis_costs, recall_avg_normalized, title=\"RECALL\", ylim = [70., 100.5], \n",
    "           xlim = cxlim, models=pipes, name=\"recall\", labels=labels, ylabel=\"Recall (%)\", \n",
    "           loc='lower righ', markers=\"<Do|\", pattern=\"(.*Bigram.*(Bayes|SVM|.*Forest)|None_Baseline)\")"
   ]
  },
  {
   "cell_type": "code",
   "execution_count": null,
   "metadata": {
    "collapsed": true
   },
   "outputs": [],
   "source": [
    "plot_image(axis_costs, precision_avg_normalized, title=\"PRECISION\", ylim = [0., 100], \n",
    "           xlim = cxlim, colors=\"rgbmyc\", models=pipes, name=\"precision\", labels = labels, ylabel=\"Precision (%)\",\n",
    "           loc =\"lower right\", markers=\"<Do|\", pattern=\"(.*Bigram.*(Bayes|SVM|.*Forest)|None_Baseline)\")"
   ]
  },
  {
   "cell_type": "code",
   "execution_count": null,
   "metadata": {
    "collapsed": true
   },
   "outputs": [],
   "source": []
  }
 ],
 "metadata": {
  "kernelspec": {
   "display_name": "Python 3",
   "language": "python",
   "name": "python3"
  },
  "language_info": {
   "codemirror_mode": {
    "name": "ipython",
    "version": 3
   },
   "file_extension": ".py",
   "mimetype": "text/x-python",
   "name": "python",
   "nbconvert_exporter": "python",
   "pygments_lexer": "ipython3",
   "version": "3.5.1"
  }
 },
 "nbformat": 4,
 "nbformat_minor": 0
}
